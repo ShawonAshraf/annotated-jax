{
 "cells": [
  {
   "cell_type": "markdown",
   "metadata": {},
   "source": [
    "## Optax without Flax ? \n",
    "\n",
    "So in notebook number 07, I showed how you can train a simple linear regression model using jax. The whole optimisation process there was done manually. Although it was just an introduction, such manual optimisation isn't really recommended for larger projects. So continuing from notebook 08, what if you don't want to use flax, write everything from scratch using jax and now want to use optax? Let's use the same code from notebook 07 and replace the manual optimisation process with optax. "
   ]
  },
  {
   "cell_type": "code",
   "execution_count": 1,
   "metadata": {},
   "outputs": [],
   "source": [
    "import jax\n",
    "import jax.numpy as jnp\n",
    "\n",
    "masterkey = jax.random.PRNGKey(0)\n",
    "masterkey, *subkeys = jax.random.split(masterkey, 10)\n",
    "\n",
    "\n",
    "\n",
    "f = lambda x: 4 * x + 3\n",
    "f(1)\n",
    "\n",
    "\n",
    "\n",
    "xs = jax.random.normal(subkeys[0], shape=(1000, ))\n",
    "ys = f(xs)\n",
    "\n",
    "\n",
    "\n",
    "\n",
    "@jax.jit\n",
    "def lin_reg_model(params, x):\n",
    "    w, b = params\n",
    "    \n",
    "    y_pred = w * x + b\n",
    "    return y_pred\n",
    "\n",
    "\n",
    "def init_params():\n",
    "    return jax.random.normal(subkeys[1], shape=(2, ))\n",
    "\n",
    "params = init_params()\n",
    "\n",
    "\n",
    "@jax.jit\n",
    "def compute_loss(params, x, y):\n",
    "    y_pred = lin_reg_model(params, x)\n",
    "    \n",
    "    # mse error\n",
    "    error = jnp.mean((y - y_pred) ** 2)\n",
    "    \n",
    "    return error\n"
   ]
  },
  {
   "cell_type": "markdown",
   "metadata": {},
   "source": [
    "## Enter the Optax"
   ]
  },
  {
   "cell_type": "code",
   "execution_count": 2,
   "metadata": {},
   "outputs": [],
   "source": [
    "import optax\n",
    "\n",
    "optimiser = optax.sgd(learning_rate=0.01)"
   ]
  },
  {
   "cell_type": "markdown",
   "metadata": {},
   "source": [
    "Let's take a look at the previous `update` function from notebook 07. \n",
    "\n",
    "```python\n",
    "@jax.jit\n",
    "def update(params, x, y, lr=0.01): \n",
    "    # get loss value and also gradients\n",
    "    values, grads = jax.value_and_grad(compute_loss)(params, x, y)\n",
    "    \n",
    "    updated_params = params - lr * grads\n",
    "    # alternative\n",
    "    # updated_params = jax.tree_map(lambda p, g: p - lr * g, params, grads)\n",
    "\n",
    "    return values, updated_params\n",
    "\n",
    "```\n",
    "\n",
    "We no longer need the manual update. Optax will do that but we also have to pass in the optimiser and the initial optimiser state. Where's the problem with that? The `jit`. Optimisers aren't jit'able. So we have to rewrite the function a bit. Actually, let's just write one training function that takes in the data, optimiser and everything else and gives us trained params. (Funny that you're always training the params and not the model and yet we call it model training. xD) "
   ]
  },
  {
   "cell_type": "code",
   "execution_count": 3,
   "metadata": {},
   "outputs": [],
   "source": [
    "from tqdm.auto import trange\n",
    "\n",
    "\n",
    "def train_model(params, x, y, optimiser, epochs=100):\n",
    "    # create the initial optimiser state\n",
    "    # well this way, every time train_model is called, the params are trained with a new optimiser state\n",
    "    optimiser_state = optimiser.init(params)\n",
    "    \n",
    "    @jax.jit\n",
    "    def update(params, x, y, optimiser_state): \n",
    "        # get loss value and also gradients\n",
    "        values, grads = jax.value_and_grad(compute_loss)(params, x, y)\n",
    "        # get updates\n",
    "        updates, optimiser_state = optimiser.update(grads, optimiser_state, params)\n",
    "        # now apply updates\n",
    "        params = optax.apply_updates(params, updates)\n",
    "\n",
    "        return values, params   \n",
    "    \n",
    "    \n",
    "    \n",
    "\n",
    "    epochs = 100\n",
    "\n",
    "    losses = list() # keep a list to plot later\n",
    "\n",
    "\n",
    "    for _ in trange(epochs):\n",
    "        values, params = update(params, xs, ys, optimiser_state)\n",
    "    \n",
    "        # append the loss\n",
    "        losses.append(values)\n",
    "        \n",
    "    \n",
    "    return losses, params"
   ]
  },
  {
   "cell_type": "code",
   "execution_count": 4,
   "metadata": {},
   "outputs": [
    {
     "data": {
      "application/vnd.jupyter.widget-view+json": {
       "model_id": "4f9b8d27c07947ab8947861e0732914a",
       "version_major": 2,
       "version_minor": 0
      },
      "text/plain": [
       "  0%|          | 0/100 [00:00<?, ?it/s]"
      ]
     },
     "metadata": {},
     "output_type": "display_data"
    }
   ],
   "source": [
    "losses, trained_params = train_model(params, xs, ys, optimiser)"
   ]
  },
  {
   "cell_type": "markdown",
   "metadata": {},
   "source": [
    "As usual, let's plot the losses and compare the actual and predicted function."
   ]
  },
  {
   "cell_type": "code",
   "execution_count": 5,
   "metadata": {},
   "outputs": [
    {
     "data": {
      "text/plain": [
       "[<matplotlib.lines.Line2D at 0x7f2620267640>]"
      ]
     },
     "execution_count": 5,
     "metadata": {},
     "output_type": "execute_result"
    },
    {
     "data": {
      "image/png": "[encoded data removed]",
      "text/plain": [
       "<Figure size 640x480 with 1 Axes>"
      ]
     },
     "metadata": {},
     "output_type": "display_data"
    }
   ],
   "source": [
    "%matplotlib inline\n",
    "import matplotlib.pyplot as plt\n",
    "\n",
    "\n",
    "plt.plot(jnp.arange(100), losses, c=\"r\")"
   ]
  },
  {
   "cell_type": "code",
   "execution_count": 6,
   "metadata": {},
   "outputs": [
    {
     "data": {
      "text/plain": [
       "<function matplotlib.pyplot.legend(*args, **kwargs)>"
      ]
     },
     "execution_count": 6,
     "metadata": {},
     "output_type": "execute_result"
    },
    {
     "data": {
      "image/png": "[encoded data removed]",
      "text/plain": [
       "<Figure size 640x480 with 1 Axes>"
      ]
     },
     "metadata": {},
     "output_type": "display_data"
    }
   ],
   "source": [
    "# actual vs predicted\n",
    "\n",
    "plt.plot(xs, ys, c=\"r\", label=\"actual\")\n",
    "plt.plot(xs, lin_reg_model(trained_params, xs), c=\"g\", label=\"predicted\")\n",
    "plt.legend"
   ]
  },
  {
   "cell_type": "markdown",
   "metadata": {},
   "source": [
    "So that's it. You now have an elementary understanding of a training loop using jax, (and or, flax) and optax. Let's recap a bit. You initialise your params, create the optimiser, initialise the optimiser states and then duing training, update the optimiser state and params using optax. \n",
    "\n",
    "Also: make sure to check what you can `jit` and what you can't. "
   ]
  },
  {
   "cell_type": "markdown",
   "metadata": {},
   "source": []
  }
 ],
 "metadata": {
  "kernelspec": {
   "display_name": "Python 3 (ipykernel)",
   "language": "python",
   "name": "python3"
  },
  "language_info": {
   "codemirror_mode": {
    "name": "ipython",
    "version": 3
   },
   "file_extension": ".py",
   "mimetype": "text/x-python",
   "name": "python",
   "nbconvert_exporter": "python",
   "pygments_lexer": "ipython3",
   "version": "3.10.9"
  }
 },
 "nbformat": 4,
 "nbformat_minor": 2
}
