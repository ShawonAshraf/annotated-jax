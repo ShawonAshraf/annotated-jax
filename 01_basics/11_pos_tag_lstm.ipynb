{
 "cells": [
  {
   "cell_type": "markdown",
   "id": "ff0775ef-abeb-45cb-9f07-3371ba712ff5",
   "metadata": {},
   "source": [
    "# A Parts of Speech Tagger with LSTM\n",
    "\n",
    "Now that we know how to use a dataloader, define flax modules and set up training pipelines, let's look at an actual example which will combine all of these and also take a peek at the LSTM class in flax.\n",
    "\n",
    "For this task, we're going to use the `batterydata/pos_tagging` dataset from Huggingface Datasets. "
   ]
  },
  {
   "cell_type": "markdown",
   "id": "2fd0e4b6-95eb-4d31-932b-e0dd8b4b5ac4",
   "metadata": {},
   "source": [
    "## Loading the dataset\n",
    "\n",
    "This particular dataset comes with train and test splits and no validation splits. Ideally, we should have all the three splits in a model training pipeline. So one solution here is to break the train split and create train and validation splits from it."
   ]
  },
  {
   "cell_type": "code",
   "execution_count": 1,
   "id": "e1844daa-87f7-4e77-97e0-07af425d668e",
   "metadata": {},
   "outputs": [],
   "source": [
    "from datasets import load_dataset\n",
    "\n",
    "main_dataset = load_dataset(\"batterydata/pos_tagging\")\n",
    "train_split = main_dataset[\"train\"]\n",
    "test_split = main_dataset[\"test\"]"
   ]
  },
  {
   "cell_type": "code",
   "execution_count": 2,
   "id": "788a776c-a04a-4b7f-8448-8b7d446d320e",
   "metadata": {},
   "outputs": [],
   "source": [
    "def make_train_validation_splits(dataset_split,\n",
    "                                 validation_size = 0.2,\n",
    "                                 seed: int = 42):\n",
    "    # make a copy of the data\n",
    "    dataset_split = dataset_split.shuffle(seed=seed)\n",
    "    # using the train test split method to create validation set\n",
    "    dataset_split = dataset_split.train_test_split(test_size=validation_size,\n",
    "                                                   shuffle=True,\n",
    "                                                   seed=seed)\n",
    "    return dataset_split[\"train\"], dataset_split[\"test\"]\n",
    "\n",
    "\n",
    "train_split, validation_split = make_train_validation_splits(train_split)"
   ]
  },
  {
   "cell_type": "markdown",
   "id": "8a90a72d-2177-42e7-a680-d106828f751d",
   "metadata": {},
   "source": [
    "## Preprocessing\n",
    "\n",
    "So we're going to take a very pre-Transformer era approach to preprocessing the dataset here. That means no byte pair tokenisation, no attention masks. We simple tokenise the words, use them as features. Which, also, practically leads us to the following steps:\n",
    "\n",
    "1. Tokenise\n",
    "2. Create a vocabulary\n",
    "3. Create a word to integer mapping (a dictionary will do)\n",
    "4. Create a label to integer mapping (pos tags are labels)\n",
    "5. Add out of vocabulary (OOV) and padding tokens\n",
    "\n",
    "\n",
    "One caveat here is that we have to use the main train split (without creating the validation split). But you probably have noticed by now that I've left a `main_dataset` variable up there. We're going to use that one."
   ]
  },
  {
   "cell_type": "code",
   "execution_count": 3,
   "id": "21cd5ee1-63aa-47e3-b80c-179f25d0f237",
   "metadata": {},
   "outputs": [],
   "source": [
    "# a dict containing word -> idx mapping\n",
    "# pad token is 1 by default\n",
    "def map_word_to_idx(dataset_split, pad_token_idx = 1):\n",
    "    unique_words = set()\n",
    "    word_to_idx = dict()\n",
    "\n",
    "    # add an out of vocab token\n",
    "    oov_token = \"<OOV>\"\n",
    "    # pad token\n",
    "    pad_token = \"<PAD>\"\n",
    "\n",
    "    word_to_idx[oov_token] = 0\n",
    "    word_to_idx[pad_token] = pad_token_idx\n",
    "\n",
    "    # find the unique words\n",
    "    for data in dataset_split:\n",
    "        words = data[\"words\"]\n",
    "        for w in words:\n",
    "            unique_words.add(w)\n",
    "\n",
    "    # add index to them\n",
    "    for idx, uw in enumerate(list(unique_words)):\n",
    "        word_to_idx[uw] = idx + 2  # since oov is at 0 and pad at pad_token_idx\n",
    "\n",
    "    return word_to_idx\n",
    "\n",
    "word_to_idx = map_word_to_idx(main_dataset[\"train\"])"
   ]
  },
  {
   "cell_type": "code",
   "execution_count": 4,
   "id": "244a5556-5a24-48b6-ba07-f189d7f3ca44",
   "metadata": {},
   "outputs": [],
   "source": [
    "# pos tag -> idx mapping\n",
    "def map_label_to_idx(dataset, pad_token_idx = 1):\n",
    "    unique_labels = set()\n",
    "    label_to_idx = dict()\n",
    "\n",
    "    # add an out of vocab token\n",
    "    oov_token = \"<OOV>\"\n",
    "    # pad token\n",
    "    pad_token = \"<PAD>\"\n",
    "\n",
    "    label_to_idx[oov_token] = 0\n",
    "    label_to_idx[pad_token] = pad_token_idx\n",
    "\n",
    "    # find the unique labels\n",
    "    for data in dataset:\n",
    "        labels = data[\"labels\"]\n",
    "        for l in labels:\n",
    "            unique_labels.add(l)\n",
    "\n",
    "    # index\n",
    "    for idx, label in enumerate(list(unique_labels)):\n",
    "        label_to_idx[label] = idx + 2\n",
    "\n",
    "    return label_to_idx\n",
    "\n",
    "label_to_idx = map_label_to_idx(main_dataset[\"train\"])"
   ]
  },
  {
   "cell_type": "markdown",
   "id": "342b1baa-d1b3-4d66-a560-f40e260a7822",
   "metadata": {},
   "source": [
    "Perfect! Now we have everything we need to create a Dataset class and Dataloaders."
   ]
  },
  {
   "cell_type": "markdown",
   "id": "b813852d-592e-45aa-ad22-361f50319eac",
   "metadata": {},
   "source": [
    "## Dataset and Dataloaders"
   ]
  },
  {
   "cell_type": "code",
   "execution_count": 5,
   "id": "96baddf7-553b-428e-8c43-556fe6061815",
   "metadata": {},
   "outputs": [],
   "source": [
    "import numpy as np\n",
    "from torch.utils.data import Dataset\n",
    "\n",
    "\n",
    "\n",
    "class TagDataset(Dataset):\n",
    "    def __init__(self, dataset_split,\n",
    "                 pad_token_idx,\n",
    "                 max_seq_len,\n",
    "                 word_to_idx,\n",
    "                 label_to_idx) -> None:\n",
    "        self.dataset = dataset_split\n",
    "        self.pad_token_idx = pad_token_idx\n",
    "        self.max_seq_len = max_seq_len\n",
    "        self.word_to_idx = word_to_idx\n",
    "        self.label_to_idx = label_to_idx\n",
    "\n",
    "    def __len__(self) -> int:\n",
    "        return len(self.dataset)\n",
    "\n",
    "    # use word_to_idx and label_to_idx to convert\n",
    "    # the string sequences to int sequences\n",
    "    def __encode(self, data_instance: dict) -> tuple:\n",
    "        words = data_instance[\"words\"]\n",
    "        labels = data_instance[\"labels\"]\n",
    "\n",
    "        # convert to int sequences\n",
    "        words = [self.word_to_idx.get(w, 0) for w in words]\n",
    "        labels = [self.label_to_idx.get(l) for l in labels]\n",
    "\n",
    "        return words, labels\n",
    "\n",
    "    def __getitem__(self, index: int) -> tuple[np.ndarray, np.ndarray]:\n",
    "        data = self.dataset[index]\n",
    "        words, labels = self.__encode(data)\n",
    "\n",
    "        # padding\n",
    "        words_padded = np.ones((self.max_seq_len,), dtype=np.int32) * self.pad_token_idx\n",
    "        words_padded[:len(words)] = words\n",
    "\n",
    "        labels_padded = np.ones((self.max_seq_len,), dtype=np.int32) * self.pad_token_idx\n",
    "        labels_padded[:len(labels)] = labels\n",
    "\n",
    "        # return padded words and labels\n",
    "        return words_padded, labels_padded"
   ]
  },
  {
   "cell_type": "markdown",
   "id": "d9125168-ce26-471e-9ab9-6f8e8de3deb6",
   "metadata": {},
   "source": [
    "Now we need to decide on the maximum sequence length. From some searching on the dataset, I found 300 to be a good value. You can also choose something around 280. "
   ]
  },
  {
   "cell_type": "code",
   "execution_count": 6,
   "id": "6b7337cb-82a3-4af9-a553-44f9179710c6",
   "metadata": {},
   "outputs": [],
   "source": [
    "max_seq_len = 300\n",
    "\n",
    "train_set = TagDataset(train_split, 1, max_seq_len, word_to_idx, label_to_idx)\n",
    "validation_set = TagDataset(validation_split, 1, max_seq_len, word_to_idx, label_to_idx)\n",
    "test_set = TagDataset(test_split, 1, max_seq_len, word_to_idx, label_to_idx)"
   ]
  },
  {
   "cell_type": "code",
   "execution_count": 7,
   "id": "aaf586b3-2608-4d08-8d9a-574650382f7e",
   "metadata": {},
   "outputs": [],
   "source": [
    "# dataloaders\n",
    "import torch\n",
    "import jax_dataloader as jdl\n",
    "\n",
    "torch.manual_seed(2023)\n",
    "\n",
    "BATCH_SIZE = 128\n",
    "\n",
    "train_loader = jdl.DataLoader(train_set, \"pytorch\", batch_size=BATCH_SIZE, shuffle=True)\n",
    "val_loader = jdl.DataLoader(validation_set, \"pytorch\", batch_size=BATCH_SIZE, shuffle=False)\n",
    "test_loader = jdl.DataLoader(test_set, \"pytorch\", batch_size=BATCH_SIZE, shuffle=False)"
   ]
  },
  {
   "cell_type": "markdown",
   "id": "677dbef2-49e8-4356-9e06-10b2f8a7bb6e",
   "metadata": {},
   "source": [
    "## Model Definition\n",
    "\n",
    "Time to define the model. "
   ]
  },
  {
   "cell_type": "code",
   "execution_count": 8,
   "id": "aba78987-04ae-4688-866f-5b8d3796f468",
   "metadata": {},
   "outputs": [],
   "source": [
    "import flax.linen as nn\n",
    "from jax import random\n",
    "import jax.numpy as jnp\n",
    "\n",
    "\"\"\"\n",
    "class LSTMTagger\n",
    "\n",
    "vocab_size: int, size of the vocabulary\n",
    "embedding_dimensions: int, size of the embedding dimensions\n",
    "lstm_hidden_dims: int, size of the lstm hidden dimensions\n",
    "n_labels: int, number of labels in the dataset (the padded size, e.g. if padding length is 100, then n_labels = 100)\n",
    "training: bool, whether the model is in training mode or not\n",
    "\"\"\"\n",
    "\n",
    "\n",
    "class LSTMTagger(nn.Module):\n",
    "    vocab_size: int\n",
    "    embedding_dimensions: int\n",
    "    lstm_hidden_dims: int\n",
    "    n_labels: int\n",
    "    lstm_seed: int\n",
    "    dropout_rate: float\n",
    "\n",
    "    def setup(self) -> None:\n",
    "        # embedding layer\n",
    "        self.embedding = nn.Embed(\n",
    "            num_embeddings=self.vocab_size,\n",
    "            features=self.embedding_dimensions,\n",
    "            name=\"embedding\")\n",
    "\n",
    "        # lstm layer\n",
    "        self.lstm = nn.OptimizedLSTMCell(features=self.lstm_hidden_dims, name=\"lstm\")\n",
    "\n",
    "        # dropout layer\n",
    "        self.dropout = nn.Dropout(self.dropout_rate, deterministic=True)\n",
    "\n",
    "        # dense layer\n",
    "        self.dense = nn.Dense(features=self.n_labels, name=\"dense\")\n",
    "\n",
    "    # lstm in flax: https://flax.readthedocs.io/en/latest/api_reference/flax.linen/_autosummary/flax.linen.LSTMCell.html\n",
    "    def __call__(self, words: jnp.ndarray) -> jnp.ndarray:\n",
    "        x = self.embedding(words)\n",
    "\n",
    "        carry = self.lstm.initialize_carry(random.key(self.lstm_seed), x.shape)\n",
    "        carry, x = self.lstm(carry=carry, inputs=x)\n",
    "        x = self.dropout(x)\n",
    "\n",
    "        x = self.dense(x)\n",
    "        x = nn.leaky_relu(x)\n",
    "\n",
    "        return x"
   ]
  },
  {
   "cell_type": "markdown",
   "id": "a5f60a97-ebdc-4071-834f-31bba3d6e6e1",
   "metadata": {},
   "source": [
    "Let's look at the model definition a bit. We have an embedding layer to create embedding vectors, followed by an LSTM which models the text sequences, a dropout layer and finally, a dense layer to map the lstm output to labels. \n",
    "\n",
    "One important thing to check here is how lstm works in flax. There are multiple implementations of a LSTMCell in flax. The one used here is a more optimised version. You can read more in the docs about it's implementation. In the forward pass of the model, you've to carry the initialize the carry or the state of the lstm for each batch or call and like any flax module, it requires a PRNG key. In other frameworks (e.g. Pytorch) you don't have to explcitly set the carry. \n",
    "\n",
    "Another is the dropout layer in flax. It requires its own PRNG, which you have to supply during the model init. Let's see how it's done. "
   ]
  },
  {
   "cell_type": "code",
   "execution_count": 9,
   "id": "c7abc181-341a-4c7d-b72c-f3f33639dff9",
   "metadata": {},
   "outputs": [],
   "source": [
    "# init the model\n",
    "SEED = 2023\n",
    "\n",
    "master_key = random.key(seed=SEED)\n",
    "master_key, model_init_key = random.split(master_key)\n",
    "master_key, dropout_key = random.split(master_key)\n",
    "model_rngs = {\"params\": model_init_key, \"dropout\": dropout_key}"
   ]
  },
  {
   "cell_type": "code",
   "execution_count": 10,
   "id": "3c0588fa-5c6b-4c61-900e-157068b365d4",
   "metadata": {},
   "outputs": [],
   "source": [
    "model_config = {\n",
    "        \"vocab_size\": len(word_to_idx),\n",
    "        \"embedding_dimensions\": 300,\n",
    "        \"lstm_hidden_dims\": 300,\n",
    "        \"n_labels\": len(label_to_idx),\n",
    "        \"lstm_seed\": 2024,\n",
    "        \"dropout_rate\": 0.2,\n",
    "}\n",
    "\n",
    "model = LSTMTagger(**model_config)\n",
    "init_params = model.init(model_rngs, np.arange(max_seq_len))"
   ]
  },
  {
   "cell_type": "code",
   "execution_count": 11,
   "id": "6a9110a3-c60e-44d9-9b82-bdc9b9988908",
   "metadata": {},
   "outputs": [
    {
     "name": "stdout",
     "output_type": "stream",
     "text": [
      "(300, 50)\n"
     ]
    }
   ],
   "source": [
    "# a sample forward pass\n",
    "logits = model.apply(init_params, jnp.arange(300), rngs={\"dropout\": dropout_key})\n",
    "print(logits.shape)"
   ]
  },
  {
   "cell_type": "markdown",
   "id": "b0931465-e7a0-4d2e-a7ce-098b1d69af1f",
   "metadata": {},
   "source": [
    "### Training functions"
   ]
  },
  {
   "cell_type": "code",
   "execution_count": 12,
   "id": "74512e99-60a5-4fa1-9384-a048a720330d",
   "metadata": {},
   "outputs": [],
   "source": [
    "import optax\n",
    "from jax import vmap, jit\n",
    "\n",
    "# using cross entropy\n",
    "@jit\n",
    "def calculate_loss(params, words, labels):\n",
    "    logits = model.apply(params, words, rngs={\"dropout\": dropout_key})\n",
    "    loss = optax.softmax_cross_entropy_with_integer_labels(logits, labels)\n",
    "    return loss.mean(axis=-1)\n",
    "\n",
    "\n",
    "@jit\n",
    "def batched_loss(params, words_batched, labels_batched):\n",
    "    batch_loss = vmap(calculate_loss, in_axes=(None, 0, 0))(params, words_batched, labels_batched)\n",
    "    return batch_loss.mean(axis=-1)\n"
   ]
  },
  {
   "cell_type": "code",
   "execution_count": 13,
   "id": "7b905f14-2e10-4398-804b-dc09b4a977cf",
   "metadata": {},
   "outputs": [],
   "source": [
    "from tqdm.auto import trange, tqdm\n",
    "from flax.training import train_state\n",
    "from functools import partial\n",
    "from jax import value_and_grad\n",
    "\n",
    "optimiser = optax.adam(learning_rate=0.001)\n",
    "init_state = train_state.TrainState.create(\n",
    "    apply_fn=model.apply, # the forward function\n",
    "    params=init_params,\n",
    "    tx=optimiser\n",
    ")\n",
    "criterion = value_and_grad(batched_loss)"
   ]
  },
  {
   "cell_type": "code",
   "execution_count": 14,
   "id": "3db94ddc-cca4-461c-a6af-af32686db33d",
   "metadata": {},
   "outputs": [],
   "source": [
    "@partial(jit, static_argnums=0)\n",
    "def train_step(criterion, state, words_batched, labels_batched):\n",
    "    loss_value, grads = criterion(state.params, words_batched, labels_batched)\n",
    "    updated_state = state.apply_gradients(grads=grads)\n",
    "    return loss_value, updated_state\n",
    "\n",
    "\n",
    "@partial(jit, static_argnums=0)\n",
    "def validation_step(criterion, state, words_batched, labels_batched):\n",
    "    loss_value, _ = criterion(state.params, words_batched, labels_batched)\n",
    "    return loss_value"
   ]
  },
  {
   "cell_type": "code",
   "execution_count": 15,
   "id": "a3f1f2a8-4371-4958-ba85-a143f5347eb1",
   "metadata": {},
   "outputs": [],
   "source": [
    "def train_model(state, train_loader, epochs=5, log_every_n_step=100):\n",
    "    step_counter = 0\n",
    "    train_losses = list()\n",
    "    mean_validation_losses = list()\n",
    "    train_acc = list()\n",
    "    val_acc = list()\n",
    "    test_acc = list()\n",
    "\n",
    "    for _ in trange(epochs):\n",
    "        for batch in train_loader:\n",
    "            loss, state = train_step(criterion, state, *batch)\n",
    "            step_counter += 1\n",
    "\n",
    "            if step_counter % log_every_n_step == 0:\n",
    "                # log train loss\n",
    "                train_losses.append(loss)\n",
    "                # run validation\n",
    "                vlosses = list()\n",
    "                for vbatch in val_loader:\n",
    "                    val_loss = validation_step(criterion, state, *vbatch)\n",
    "                    vlosses.append(val_loss)\n",
    "\n",
    "                vlosses = jnp.array(vlosses)\n",
    "                mean_validation_losses.append(vlosses.mean(axis=-1))\n",
    "\n",
    "                print(\n",
    "                    f\"Step [{step_counter + 1}] ---- Loss/Train :: {loss} ---- Loss/Val :: {vlosses.mean(axis=-1)}\")\n",
    "\n",
    "\n",
    "\n",
    "    return state, train_losses, mean_validation_losses"
   ]
  },
  {
   "cell_type": "markdown",
   "id": "4fdc13fc-529d-43d4-bea0-5a5a0afedeae",
   "metadata": {},
   "source": [
    "### Training"
   ]
  },
  {
   "cell_type": "code",
   "execution_count": 16,
   "id": "2efb0607-f054-452f-b7c8-9ccda480554a",
   "metadata": {},
   "outputs": [
    {
     "data": {
      "application/vnd.jupyter.widget-view+json": {
       "model_id": "ac0dd214ef3f434789cb9a53630ac698",
       "version_major": 2,
       "version_minor": 0
      },
      "text/plain": [
       "  0%|          | 0/5 [00:00<?, ?it/s]"
      ]
     },
     "metadata": {},
     "output_type": "display_data"
    },
    {
     "name": "stdout",
     "output_type": "stream",
     "text": [
      "Step [101] ---- Loss/Train :: 0.22377890348434448 ---- Loss/Val :: 0.2136165350675583\n",
      "Step [201] ---- Loss/Train :: 0.07820736616849899 ---- Loss/Val :: 0.07860536873340607\n",
      "Step [301] ---- Loss/Train :: 0.03355073183774948 ---- Loss/Val :: 0.040820877999067307\n",
      "Step [401] ---- Loss/Train :: 0.02048599347472191 ---- Loss/Val :: 0.03189530968666077\n"
     ]
    }
   ],
   "source": [
    "state, train_loss, val_loss = train_model(init_state, train_loader)"
   ]
  },
  {
   "cell_type": "code",
   "execution_count": 17,
   "id": "f0ee27c6-eba4-477e-a628-763396ef15e7",
   "metadata": {},
   "outputs": [
    {
     "data": {
      "text/plain": [
       "<matplotlib.legend.Legend at 0x7fec70051a50>"
      ]
     },
     "execution_count": 17,
     "metadata": {},
     "output_type": "execute_result"
    },
    {
     "data": {
      "image/png": "[encoded data removed]",
      "text/plain": [
       "<Figure size 640x480 with 1 Axes>"
      ]
     },
     "metadata": {},
     "output_type": "display_data"
    }
   ],
   "source": [
    "import matplotlib.pyplot as plt\n",
    "%matplotlib inline\n",
    "\n",
    "plt.plot(np.arange(len(train_loss)), train_loss, c=\"r\", label=\"Loss/Train\")\n",
    "plt.plot(np.arange(len(val_loss)), val_loss, c=\"b\", label=\"Loss/Val\")\n",
    "plt.legend()"
   ]
  },
  {
   "cell_type": "markdown",
   "id": "4701538e-a016-4c78-8bd4-1cd063989210",
   "metadata": {},
   "source": [
    "## Evaluation\n",
    "\n",
    "We're going to measure the accuracy of the models. However, the outputs are padded, so we have to ignore the padded indexes, regardless of the predictions. "
   ]
  },
  {
   "cell_type": "code",
   "execution_count": 18,
   "id": "4670c616-a9ac-4753-96d0-41d745da1205",
   "metadata": {},
   "outputs": [],
   "source": [
    "def categorical_accuracy(preds, actual, pad_idx=1):\n",
    "    non_padding_indices = jnp.nonzero((actual != pad_idx))\n",
    "\n",
    "    matches = jnp.equal(preds[non_padding_indices], actual[non_padding_indices])\n",
    "    acc = jnp.sum(matches) / actual[non_padding_indices].shape[0]\n",
    "\n",
    "    return acc"
   ]
  },
  {
   "cell_type": "code",
   "execution_count": 19,
   "id": "4efd3148-d628-45e1-9f94-45150c8196d5",
   "metadata": {},
   "outputs": [],
   "source": [
    "import jax.nn as jnn\n",
    "\n",
    "@jit\n",
    "def infer(params, words, labels):\n",
    "    logits = model.apply(params, words, rngs={\"dropout\": dropout_key})\n",
    "    proba = jnn.log_softmax(logits, axis=-1)\n",
    "    preds = jnp.argmax(proba, axis=-1)\n",
    "\n",
    "    return preds\n",
    "\n",
    "@jit\n",
    "def batch_infer(params, words, labels):\n",
    "    preds = vmap(infer, in_axes=(None, 0, 0))(params, words, labels)\n",
    "    return preds"
   ]
  },
  {
   "cell_type": "code",
   "execution_count": 20,
   "id": "92c5c5c5-565d-44d5-8ae2-6914ae8fc5a6",
   "metadata": {},
   "outputs": [],
   "source": [
    "def evaluate(params, test_loader):\n",
    "    acc_per_batch = list()\n",
    "    for batch in tqdm(test_loader):\n",
    "        words, labels = batch\n",
    "        preds = batch_infer(params, words, labels)\n",
    "\n",
    "        acc = categorical_accuracy(preds, labels)\n",
    "        acc_per_batch.append(acc)\n",
    "\n",
    "    mean_acc = jnp.mean(jnp.array(acc_per_batch), axis=-1)\n",
    "\n",
    "    return mean_acc"
   ]
  },
  {
   "cell_type": "code",
   "execution_count": 21,
   "id": "87d3323a-9bca-44ab-83f3-225e35d87c67",
   "metadata": {},
   "outputs": [
    {
     "data": {
      "application/vnd.jupyter.widget-view+json": {
       "model_id": "afd052e612284e1daa3bcdfcf9d5419b",
       "version_major": 2,
       "version_minor": 0
      },
      "text/plain": [
       "  0%|          | 0/12 [00:00<?, ?it/s]"
      ]
     },
     "metadata": {},
     "output_type": "display_data"
    },
    {
     "name": "stdout",
     "output_type": "stream",
     "text": [
      "Accuracy on the test loader: 0.891249418258667\n"
     ]
    }
   ],
   "source": [
    "acc = evaluate(state.params, test_loader)\n",
    "print(f\"Accuracy on the test loader: {acc}\")"
   ]
  },
  {
   "cell_type": "code",
   "execution_count": null,
   "id": "066a5641-53c8-4262-bde9-2b7d707680f5",
   "metadata": {},
   "outputs": [],
   "source": []
  }
 ],
 "metadata": {
  "kernelspec": {
   "display_name": "Python 3 (ipykernel)",
   "language": "python",
   "name": "python3"
  },
  "language_info": {
   "codemirror_mode": {
    "name": "ipython",
    "version": 3
   },
   "file_extension": ".py",
   "mimetype": "text/x-python",
   "name": "python",
   "nbconvert_exporter": "python",
   "pygments_lexer": "ipython3",
   "version": "3.11.5"
  }
 },
 "nbformat": 4,
 "nbformat_minor": 5
}
