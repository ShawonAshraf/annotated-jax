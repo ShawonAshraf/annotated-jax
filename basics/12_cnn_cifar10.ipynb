{
 "cells": [
  {
   "cell_type": "markdown",
   "id": "dde401c3-5b74-4146-8733-2ba0db4293d0",
   "metadata": {},
   "source": [
    "# CNN on Cifar10\n",
    "\n",
    "What would be a deep learning example / tutorial series without an example of image classification eh? In this notebook, we're going to define a small sized CNN and train it on CIFAR10. Actually, this notebook is mostly taken from the pytorch example on the same topic, which you can find [here](https://pytorch.org/tutorials/beginner/blitz/cifar10_tutorial.html). \n",
    "\n",
    "So let me give you a brief overview of what we're going to do. \n",
    "\n",
    "1. Load the `cifar10` dataset from `torchvision`\n",
    "2. Define a simple CNN and see how Convolution module works in Flax"
   ]
  },
  {
   "cell_type": "markdown",
   "id": "38a2dda6-7189-40d9-9d35-7bdc4416ffb9",
   "metadata": {},
   "source": [
    "## Dataset and Dataloaders"
   ]
  },
  {
   "cell_type": "code",
   "execution_count": 1,
   "id": "b6c9d099-e9f6-4d6c-ba3a-ca01073d48bd",
   "metadata": {},
   "outputs": [
    {
     "name": "stderr",
     "output_type": "stream",
     "text": [
      "/home/shawon/Projects/jax_examples/venv/lib64/python3.12/site-packages/transformers/utils/generic.py:441: UserWarning: torch.utils._pytree._register_pytree_node is deprecated. Please use torch.utils._pytree.register_pytree_node instead.\n",
      "  _torch_pytree._register_pytree_node(\n"
     ]
    }
   ],
   "source": [
    "import torch\n",
    "import jax_dataloader as jdl\n",
    "import torchvision\n",
    "import torchvision.transforms as transforms"
   ]
  },
  {
   "cell_type": "markdown",
   "id": "de2c8af5-f623-49ad-9ada-b391e16eeb8c",
   "metadata": {},
   "source": [
    "Now one thing to note here. Torchvision datasets will return images as Torch tensors which are not compatible with Jax. Workaround? Write a transform to convert them to numpy."
   ]
  },
  {
   "cell_type": "code",
   "execution_count": 2,
   "id": "5a779179-6c55-4c1a-b0a6-4e174e46ef4c",
   "metadata": {},
   "outputs": [],
   "source": [
    "class ToNumpy:\n",
    "    def __call__(self, x: torch.Tensor):\n",
    "        return x.numpy()"
   ]
  },
  {
   "cell_type": "code",
   "execution_count": 3,
   "id": "a20cfe89-8d06-451c-ab97-47b44abb49ff",
   "metadata": {},
   "outputs": [],
   "source": [
    "transform = transforms.Compose(\n",
    "    [transforms.ToTensor(),\n",
    "     transforms.Normalize((0.5, 0.5, 0.5), (0.5, 0.5, 0.5)), ToNumpy()])"
   ]
  },
  {
   "cell_type": "code",
   "execution_count": 4,
   "id": "2e4d9d64-05e9-4d03-95ac-ecf349ac8903",
   "metadata": {},
   "outputs": [
    {
     "name": "stdout",
     "output_type": "stream",
     "text": [
      "Downloading https://www.cs.toronto.edu/~kriz/cifar-10-python.tar.gz to ./data/cifar-10-python.tar.gz\n"
     ]
    },
    {
     "name": "stderr",
     "output_type": "stream",
     "text": [
      "100%|██████████████████████████████████████████████████████████████████████████████████| 170498071/170498071 [00:08<00:00, 20540710.29it/s]\n"
     ]
    },
    {
     "name": "stdout",
     "output_type": "stream",
     "text": [
      "Extracting ./data/cifar-10-python.tar.gz to ./data\n",
      "Files already downloaded and verified\n"
     ]
    }
   ],
   "source": [
    "trainset = torchvision.datasets.CIFAR10(root='./data', train=True,\n",
    "                                        download=True, transform=transform)\n",
    "\n",
    "testset = torchvision.datasets.CIFAR10(root='./data', train=False,\n",
    "                                       download=True, transform=transform)"
   ]
  },
  {
   "cell_type": "code",
   "execution_count": 5,
   "id": "8d49cb61-e5ed-4879-ae63-7bd883848d65",
   "metadata": {},
   "outputs": [],
   "source": [
    "batch_size = 128\n",
    "\n",
    "trainloader = jdl.DataLoader(trainset, backend=\"pytorch\", batch_size=batch_size,\n",
    "                                          shuffle=True)\n",
    "testloader = jdl.DataLoader(testset, backend=\"pytorch\", batch_size=batch_size,\n",
    "                                         shuffle=False)"
   ]
  },
  {
   "cell_type": "code",
   "execution_count": 6,
   "id": "4e07ba73-7aa8-48e7-beae-50ce6bf5ba41",
   "metadata": {},
   "outputs": [],
   "source": [
    "# classes in cifar10\n",
    "classes = ('plane', 'car', 'bird', 'cat',\n",
    "           'deer', 'dog', 'frog', 'horse', 'ship', 'truck')"
   ]
  },
  {
   "cell_type": "markdown",
   "id": "1e8cb5bc-1a8c-45a8-a2b6-25121f1e46ca",
   "metadata": {},
   "source": [
    "## Model"
   ]
  },
  {
   "cell_type": "code",
   "execution_count": 7,
   "id": "23dfd451-6bb7-4882-88c3-401854fbdc78",
   "metadata": {},
   "outputs": [],
   "source": [
    "import jax\n",
    "import jax.numpy as jnp\n",
    "import numpy as np\n",
    "import flax\n",
    "import flax.linen as nn"
   ]
  },
  {
   "cell_type": "code",
   "execution_count": 8,
   "id": "162b01a0-03b9-4bcc-bda2-76d1a7684c8e",
   "metadata": {},
   "outputs": [],
   "source": [
    "from einops import rearrange\n",
    "\n",
    "class ConvNet(nn.Module):\n",
    "    @nn.compact\n",
    "    def __call__(self, x):\n",
    "        # convs\n",
    "        out = nn.Conv(features=6, kernel_size=(5, 5))(x)\n",
    "        out = nn.max_pool(out, window_shape=(2, 2))\n",
    "        out = nn.Conv(features=16, kernel_size=(5, 5))(out)\n",
    "        out = nn.max_pool(out, window_shape=(2, 2))\n",
    "\n",
    "\n",
    "        # flatten into a vector \n",
    "        # skip the batch dim\n",
    "        if len(x.shape) > 3:\n",
    "            out = rearrange(x, \"batch c h w -> batch (c h w)\")\n",
    "        else:\n",
    "            out = out.flatten()\n",
    "\n",
    "        # dense\n",
    "        out = nn.Dense(features=120)(out)\n",
    "        out = nn.Dense(features=84)(out)\n",
    "        out = nn.Dense(features=10)(out)\n",
    "\n",
    "        return out"
   ]
  },
  {
   "cell_type": "markdown",
   "id": "bf6ed774-4f6d-49b9-9972-e5b8d6595c84",
   "metadata": {},
   "source": [
    "Okay, let's have a look at the `Conv` module in Flax. The `features` parameter is, in my opinion, wrongly named here, and can create confusion but I suppose they had to keep the API consisten in between the Linen modules. \n",
    "\n",
    "Anyways, the `features` parameter designates the number of output channels in the output of the Convolution layer. Now is it a 2D conv or 1D or 3D? Flax doesn't have separate Conv classes for multi-dim conv, unlike pytorch. So you can just pass in multi dim arrays as long as you define your network properly. If you're wondering what the number of channels in a conv output means, let's say that you want to convolve using `n` filters of `(a, b)` size. The output size of your conv operation will then be `n x a x b`. If you wish to read more on the math behind it, I strongly recommend reading the related chapter from the [Deep Learning](https://www.deeplearningbook.org/contents/convnets.html) book.\n",
    "\n",
    "Next is the `kernel_size` parameter, which is quite self explanatory. I've used a `5 x 5` size filter. You can fiddle around with different filter sizes and see which one fits your needs. \n",
    "\n",
    "As for other parameters, such as stride, dilation, padding, they're set to default as mentioned in the [docs](https://flax.readthedocs.io/en/latest/api_reference/flax.linen/_autosummary/flax.linen.Conv.html). \n",
    "\n",
    "If you wish to read more on padding strategies, read [here](https://www.knowledgehut.com/blog/data-science/padding-in-cnn). The default padding strategy in Flax is \"VALID\". \n",
    "\n",
    "Apart from the two conv layers, there are two `max_pool` layers which do max pooling. It is a function, unlike the Conv module, so you have to just pass in the array and the size of the pooling window. Next comes a flatten operation which skips the batch dimension, followed by 3 dense layers to project the model outputs to the number of classes. \n",
    "\n",
    "Okay, now to do the usual thing, init model and train. "
   ]
  },
  {
   "cell_type": "code",
   "execution_count": 10,
   "id": "e6286835-15a1-473e-b38e-df2b0a7b74b5",
   "metadata": {},
   "outputs": [],
   "source": [
    "model = ConvNet()\n",
    "params = model.init(jax.random.key(0), jnp.empty((3, 32, 32)))"
   ]
  },
  {
   "cell_type": "code",
   "execution_count": 11,
   "id": "265182e7-c4ff-4634-96d0-bf78e5baa14c",
   "metadata": {},
   "outputs": [
    {
     "data": {
      "text/plain": [
       "(10,)"
      ]
     },
     "execution_count": 11,
     "metadata": {},
     "output_type": "execute_result"
    }
   ],
   "source": [
    "# run a sample forward pass\n",
    "logits = model.apply(params, jnp.empty((3, 32, 32)))\n",
    "logits.shape"
   ]
  },
  {
   "cell_type": "markdown",
   "id": "50af15aa-e21b-4796-8f4f-f9478031a03a",
   "metadata": {},
   "source": [
    "#### Loss function"
   ]
  },
  {
   "cell_type": "code",
   "execution_count": 12,
   "id": "5cb762bb-c928-4d95-b785-4b657b84ccaf",
   "metadata": {},
   "outputs": [],
   "source": [
    "import optax\n",
    "\n",
    "@jax.jit\n",
    "def calculate_loss(params, x, y):\n",
    "    logits = model.apply(params, x)\n",
    "    loss = optax.softmax_cross_entropy_with_integer_labels(logits, y)\n",
    "    return loss\n",
    "\n",
    "@jax.jit\n",
    "def batched_loss(params, xs, ys):\n",
    "    batch_loss = jax.vmap(calculate_loss, in_axes=(None, 0, 0))(params, xs, ys)\n",
    "    return batch_loss.mean(axis=-1)"
   ]
  },
  {
   "cell_type": "code",
   "execution_count": 14,
   "id": "bc3391d8-a736-4cec-b365-e5c686e2ef46",
   "metadata": {},
   "outputs": [
    {
     "data": {
      "text/plain": [
       "Array(2.3025851, dtype=float32)"
      ]
     },
     "execution_count": 14,
     "metadata": {},
     "output_type": "execute_result"
    }
   ],
   "source": [
    "calculate_loss(params, jnp.empty((3, 32, 32)), 1)"
   ]
  },
  {
   "cell_type": "code",
   "execution_count": 15,
   "id": "45bf3c30-075e-4d3b-85e8-34855c3178b7",
   "metadata": {},
   "outputs": [
    {
     "name": "stdout",
     "output_type": "stream",
     "text": [
      "2.3177273\n"
     ]
    }
   ],
   "source": [
    "# check the batched loss thing\n",
    "for batch in trainloader:\n",
    "    loss = batched_loss(params, *batch)\n",
    "    print(loss)\n",
    "    break"
   ]
  },
  {
   "cell_type": "code",
   "execution_count": 16,
   "id": "d12c0b66-ca0e-48f6-9b33-fadc9b21c46b",
   "metadata": {},
   "outputs": [],
   "source": [
    "from tqdm.auto import trange, tqdm\n",
    "from flax.training import train_state\n",
    "from functools import partial\n",
    "\n",
    "\n",
    "optimiser = optax.adam(learning_rate=0.001)\n",
    "state = train_state.TrainState.create(\n",
    "    apply_fn=model.apply,\n",
    "    params=params,\n",
    "    tx=optimiser\n",
    ")\n",
    "criterion = jax.value_and_grad(batched_loss)"
   ]
  },
  {
   "cell_type": "code",
   "execution_count": 17,
   "id": "a4e9a9ab-052f-4f95-ac37-db0c6507b071",
   "metadata": {},
   "outputs": [],
   "source": [
    "@jax.jit\n",
    "def train_step(state, batch):\n",
    "    loss_value, grads = criterion(state.params, *batch)\n",
    "    updated_state = state.apply_gradients(grads=grads)\n",
    "    return loss_value, updated_state"
   ]
  },
  {
   "cell_type": "markdown",
   "id": "d6d433b4-ce90-4561-9f9e-aeb4b969f2c8",
   "metadata": {},
   "source": [
    "#### Evaluation\n",
    "\n",
    "It's a classification task, so let's just check on the f1 score for now. "
   ]
  },
  {
   "cell_type": "code",
   "execution_count": 18,
   "id": "e831bea1-6ca9-4fed-b41d-eaa03d586db3",
   "metadata": {},
   "outputs": [],
   "source": [
    "from sklearn.metrics import f1_score\n",
    "\n",
    "@jax.jit\n",
    "def test_step(state, xs):\n",
    "    def infer(params, x):\n",
    "        logits = model.apply(params, x)\n",
    "        return jax.nn.softmax(logits, axis=-1) \n",
    "\n",
    "    preds = jax.vmap(jax.jit(infer), in_axes=(None, 0))(state.params, xs)\n",
    "    return preds\n",
    "\n",
    "\n",
    "\n",
    "def evaluate(state, test_loader):\n",
    "    scores = list()\n",
    "    for batch in tqdm(test_loader):\n",
    "        xs, ys = batch\n",
    "        preds = test_step(state, xs)\n",
    "        preds = jnp.argmax(preds, axis=-1)\n",
    "        f1 = f1_score(preds, ys, average=\"micro\")\n",
    "        scores.append(f1)\n",
    "\n",
    "    return np.array(scores).mean(axis=-1)"
   ]
  },
  {
   "cell_type": "code",
   "execution_count": 19,
   "id": "938f2a2e-a5b8-4b01-86b4-75c826d501d6",
   "metadata": {},
   "outputs": [
    {
     "data": {
      "application/vnd.jupyter.widget-view+json": {
       "model_id": "f4a29b6a237148949046ddf61341aa7b",
       "version_major": 2,
       "version_minor": 0
      },
      "text/plain": [
       "  0%|          | 0/79 [00:00<?, ?it/s]"
      ]
     },
     "metadata": {},
     "output_type": "display_data"
    },
    {
     "data": {
      "text/plain": [
       "0.10808939873417721"
      ]
     },
     "execution_count": 19,
     "metadata": {},
     "output_type": "execute_result"
    }
   ],
   "source": [
    "# test the evaluation function\n",
    "evaluate(state, testloader)"
   ]
  },
  {
   "cell_type": "markdown",
   "id": "26435602-bd07-4537-bfc4-3d1ae2f3e76c",
   "metadata": {},
   "source": [
    "Since we're using scikit-learn for evaluation anyway, it will also be nice if we can get a detailed classification report."
   ]
  },
  {
   "cell_type": "code",
   "execution_count": 20,
   "id": "b6633801-58d4-4bee-aa31-053723031ed2",
   "metadata": {},
   "outputs": [],
   "source": [
    "from sklearn.metrics import classification_report\n",
    "\n",
    "\n",
    "def custom_classification_report(params, test_loader):\n",
    "    preds = list()\n",
    "    actual = list()\n",
    "    for batch in tqdm(test_loader):\n",
    "        xs, ys = batch\n",
    "        pred = test_step(state, xs)\n",
    "        pred = jnp.argmax(pred, axis=-1).tolist()\n",
    "        preds.extend(pred)\n",
    "        actual.extend(ys.tolist())\n",
    "\n",
    "    clf = classification_report(preds, actual, target_names=classes)\n",
    "    print(clf)"
   ]
  },
  {
   "cell_type": "code",
   "execution_count": 21,
   "id": "f604de31-3f14-4782-95d3-8c0cbed0a4be",
   "metadata": {},
   "outputs": [
    {
     "data": {
      "application/vnd.jupyter.widget-view+json": {
       "model_id": "4d168af542ab4c10bb9896802b099b2d",
       "version_major": 2,
       "version_minor": 0
      },
      "text/plain": [
       "  0%|          | 0/79 [00:00<?, ?it/s]"
      ]
     },
     "metadata": {},
     "output_type": "display_data"
    },
    {
     "name": "stdout",
     "output_type": "stream",
     "text": [
      "              precision    recall  f1-score   support\n",
      "\n",
      "       plane       0.00      0.17      0.00         6\n",
      "         car       0.45      0.12      0.19      3799\n",
      "        bird       0.00      0.05      0.00        21\n",
      "         cat       0.02      0.11      0.04       223\n",
      "        deer       0.18      0.08      0.11      2350\n",
      "         dog       0.01      0.16      0.02        57\n",
      "        frog       0.01      0.11      0.01        75\n",
      "       horse       0.17      0.09      0.12      1923\n",
      "        ship       0.25      0.16      0.20      1541\n",
      "       truck       0.00      0.00      0.00         5\n",
      "\n",
      "    accuracy                           0.11     10000\n",
      "   macro avg       0.11      0.10      0.07     10000\n",
      "weighted avg       0.28      0.11      0.15     10000\n",
      "\n"
     ]
    }
   ],
   "source": [
    "custom_classification_report(state.params, testloader)"
   ]
  },
  {
   "cell_type": "markdown",
   "id": "13d89990-9a91-4ed0-9881-bc6f3fcb772d",
   "metadata": {},
   "source": [
    "Perfect. Now we can move to the train loop and add the evaluation there as well so that we can check how the f1 score changes during training."
   ]
  },
  {
   "cell_type": "code",
   "execution_count": 22,
   "id": "173d4d62-e222-40cf-9d3a-2bd8ed2209ca",
   "metadata": {},
   "outputs": [],
   "source": [
    "from tqdm.auto import trange\n",
    "\n",
    "def train(state, epochs, train_loader, test_loader):\n",
    "    steps = 0\n",
    "    losses = []\n",
    "    f1s = []\n",
    "\n",
    "    # =============\n",
    "    for e in trange(5):\n",
    "        for batch in tqdm(train_loader):\n",
    "            loss, state = train_step(state, batch)\n",
    "            steps += 1\n",
    "\n",
    "            # log every 200 steps\n",
    "            if steps % 200 == 0:\n",
    "                losses.append(loss)\n",
    "                \n",
    "                # run evaluation\n",
    "                print(\"Evaluating ... \")\n",
    "                score = evaluate(state, test_loader)\n",
    "                \n",
    "                f1s.append(score)\n",
    "    \n",
    "                print(f\"Epoch : {e + 1} :: Step : {steps} :: Loss : {loss}  :: F1 : {score}\")\n",
    "\n",
    "    # ============\n",
    "    return state, losses, f1s"
   ]
  },
  {
   "cell_type": "code",
   "execution_count": 24,
   "id": "030f6f56-e33c-447f-883e-f3d130abbf91",
   "metadata": {},
   "outputs": [
    {
     "data": {
      "application/vnd.jupyter.widget-view+json": {
       "model_id": "06cf629546594c469fb2d9619bdf45c1",
       "version_major": 2,
       "version_minor": 0
      },
      "text/plain": [
       "  0%|          | 0/5 [00:00<?, ?it/s]"
      ]
     },
     "metadata": {},
     "output_type": "display_data"
    },
    {
     "data": {
      "application/vnd.jupyter.widget-view+json": {
       "model_id": "baae6846a88846e58fa598313507057f",
       "version_major": 2,
       "version_minor": 0
      },
      "text/plain": [
       "  0%|          | 0/391 [00:00<?, ?it/s]"
      ]
     },
     "metadata": {},
     "output_type": "display_data"
    },
    {
     "name": "stdout",
     "output_type": "stream",
     "text": [
      "Evaluating ... \n"
     ]
    },
    {
     "data": {
      "application/vnd.jupyter.widget-view+json": {
       "model_id": "db5426ea7a7c4f959662a04ffec807c3",
       "version_major": 2,
       "version_minor": 0
      },
      "text/plain": [
       "  0%|          | 0/79 [00:00<?, ?it/s]"
      ]
     },
     "metadata": {},
     "output_type": "display_data"
    },
    {
     "name": "stdout",
     "output_type": "stream",
     "text": [
      "Epoch : 1 :: Step : 200 :: Loss : 1.420501708984375  :: F1 : 0.4317642405063291\n"
     ]
    },
    {
     "data": {
      "application/vnd.jupyter.widget-view+json": {
       "model_id": "3e3bda930e0546f8a32dbe8e5c4bf79a",
       "version_major": 2,
       "version_minor": 0
      },
      "text/plain": [
       "  0%|          | 0/391 [00:00<?, ?it/s]"
      ]
     },
     "metadata": {},
     "output_type": "display_data"
    },
    {
     "name": "stdout",
     "output_type": "stream",
     "text": [
      "Evaluating ... \n"
     ]
    },
    {
     "data": {
      "application/vnd.jupyter.widget-view+json": {
       "model_id": "7f246e9dd736462490c1b50972e5b3ba",
       "version_major": 2,
       "version_minor": 0
      },
      "text/plain": [
       "  0%|          | 0/79 [00:00<?, ?it/s]"
      ]
     },
     "metadata": {},
     "output_type": "display_data"
    },
    {
     "name": "stdout",
     "output_type": "stream",
     "text": [
      "Epoch : 2 :: Step : 400 :: Loss : 1.4548004865646362  :: F1 : 0.4642009493670886\n",
      "Evaluating ... \n"
     ]
    },
    {
     "data": {
      "application/vnd.jupyter.widget-view+json": {
       "model_id": "8e5c5476bbc8481f8436ec915f7bc4f6",
       "version_major": 2,
       "version_minor": 0
      },
      "text/plain": [
       "  0%|          | 0/79 [00:00<?, ?it/s]"
      ]
     },
     "metadata": {},
     "output_type": "display_data"
    },
    {
     "name": "stdout",
     "output_type": "stream",
     "text": [
      "Epoch : 2 :: Step : 600 :: Loss : 1.6473182439804077  :: F1 : 0.48951740506329117\n"
     ]
    },
    {
     "data": {
      "application/vnd.jupyter.widget-view+json": {
       "model_id": "01aa43abc7764f7e9d05e81c585c0ca7",
       "version_major": 2,
       "version_minor": 0
      },
      "text/plain": [
       "  0%|          | 0/391 [00:00<?, ?it/s]"
      ]
     },
     "metadata": {},
     "output_type": "display_data"
    },
    {
     "name": "stdout",
     "output_type": "stream",
     "text": [
      "Evaluating ... \n"
     ]
    },
    {
     "data": {
      "application/vnd.jupyter.widget-view+json": {
       "model_id": "09be35d855384813b13a0d174a37a076",
       "version_major": 2,
       "version_minor": 0
      },
      "text/plain": [
       "  0%|          | 0/79 [00:00<?, ?it/s]"
      ]
     },
     "metadata": {},
     "output_type": "display_data"
    },
    {
     "name": "stdout",
     "output_type": "stream",
     "text": [
      "Epoch : 3 :: Step : 800 :: Loss : 1.521551251411438  :: F1 : 0.48358386075949367\n",
      "Evaluating ... \n"
     ]
    },
    {
     "data": {
      "application/vnd.jupyter.widget-view+json": {
       "model_id": "dc2fc275fa1f4062be2fc7f7acca7a87",
       "version_major": 2,
       "version_minor": 0
      },
      "text/plain": [
       "  0%|          | 0/79 [00:00<?, ?it/s]"
      ]
     },
     "metadata": {},
     "output_type": "display_data"
    },
    {
     "name": "stdout",
     "output_type": "stream",
     "text": [
      "Epoch : 3 :: Step : 1000 :: Loss : 1.4645955562591553  :: F1 : 0.49624208860759494\n"
     ]
    },
    {
     "data": {
      "application/vnd.jupyter.widget-view+json": {
       "model_id": "1bb98356c3c345db8030f967d964b987",
       "version_major": 2,
       "version_minor": 0
      },
      "text/plain": [
       "  0%|          | 0/391 [00:00<?, ?it/s]"
      ]
     },
     "metadata": {},
     "output_type": "display_data"
    },
    {
     "name": "stdout",
     "output_type": "stream",
     "text": [
      "Evaluating ... \n"
     ]
    },
    {
     "data": {
      "application/vnd.jupyter.widget-view+json": {
       "model_id": "ccd4653faebd4d21800376d19df02769",
       "version_major": 2,
       "version_minor": 0
      },
      "text/plain": [
       "  0%|          | 0/79 [00:00<?, ?it/s]"
      ]
     },
     "metadata": {},
     "output_type": "display_data"
    },
    {
     "name": "stdout",
     "output_type": "stream",
     "text": [
      "Epoch : 4 :: Step : 1200 :: Loss : 1.4096702337265015  :: F1 : 0.5100870253164557\n",
      "Evaluating ... \n"
     ]
    },
    {
     "data": {
      "application/vnd.jupyter.widget-view+json": {
       "model_id": "1e1813b052ec4977973d49470b926a19",
       "version_major": 2,
       "version_minor": 0
      },
      "text/plain": [
       "  0%|          | 0/79 [00:00<?, ?it/s]"
      ]
     },
     "metadata": {},
     "output_type": "display_data"
    },
    {
     "name": "stdout",
     "output_type": "stream",
     "text": [
      "Epoch : 4 :: Step : 1400 :: Loss : 1.2829735279083252  :: F1 : 0.5018789556962026\n"
     ]
    },
    {
     "data": {
      "application/vnd.jupyter.widget-view+json": {
       "model_id": "c1a1f002bd564ee69a6c0bce9c77184b",
       "version_major": 2,
       "version_minor": 0
      },
      "text/plain": [
       "  0%|          | 0/391 [00:00<?, ?it/s]"
      ]
     },
     "metadata": {},
     "output_type": "display_data"
    },
    {
     "name": "stdout",
     "output_type": "stream",
     "text": [
      "Evaluating ... \n"
     ]
    },
    {
     "data": {
      "application/vnd.jupyter.widget-view+json": {
       "model_id": "2f6024925c1947199e8ce13284cc0faa",
       "version_major": 2,
       "version_minor": 0
      },
      "text/plain": [
       "  0%|          | 0/79 [00:00<?, ?it/s]"
      ]
     },
     "metadata": {},
     "output_type": "display_data"
    },
    {
     "name": "stdout",
     "output_type": "stream",
     "text": [
      "Epoch : 5 :: Step : 1600 :: Loss : 1.3250913619995117  :: F1 : 0.5089992088607594\n",
      "Evaluating ... \n"
     ]
    },
    {
     "data": {
      "application/vnd.jupyter.widget-view+json": {
       "model_id": "817cc5c75d8f49e5be661cc7720ca2f6",
       "version_major": 2,
       "version_minor": 0
      },
      "text/plain": [
       "  0%|          | 0/79 [00:00<?, ?it/s]"
      ]
     },
     "metadata": {},
     "output_type": "display_data"
    },
    {
     "name": "stdout",
     "output_type": "stream",
     "text": [
      "Epoch : 5 :: Step : 1800 :: Loss : 1.2746849060058594  :: F1 : 0.5096914556962026\n"
     ]
    }
   ],
   "source": [
    "state, losses, f1s = train(state, 5, trainloader, testloader)"
   ]
  },
  {
   "cell_type": "code",
   "execution_count": 26,
   "id": "4f167270-6d8d-4603-b1cf-a1154c1c5de4",
   "metadata": {},
   "outputs": [
    {
     "data": {
      "text/plain": [
       "[<matplotlib.lines.Line2D at 0x7f6440434d70>]"
      ]
     },
     "execution_count": 26,
     "metadata": {},
     "output_type": "execute_result"
    },
    {
     "data": {
      "image/png": "[encoded data removed]",
      "text/plain": [
       "<Figure size 1000x500 with 1 Axes>"
      ]
     },
     "metadata": {
      "image/png": {
       "height": 448,
       "width": 855
      }
     },
     "output_type": "display_data"
    }
   ],
   "source": [
    "%matplotlib inline\n",
    "import matplotlib.pyplot as plt\n",
    "%config InlineBackend.figure_format = 'retina'\n",
    "\n",
    "fig = plt.figure(figsize=(10, 5))\n",
    "fig.add_subplot()\n",
    "plt.xlabel(\"Every 200 Steps\")\n",
    "plt.ylabel(\"Loss/Train\")\n",
    "plt.plot(np.arange(len(losses)), losses)"
   ]
  },
  {
   "cell_type": "code",
   "execution_count": 28,
   "id": "f2454df0-7e3d-4e4d-a51f-4e3d38ece68a",
   "metadata": {},
   "outputs": [
    {
     "data": {
      "text/plain": [
       "[<matplotlib.lines.Line2D at 0x7f64404f2720>]"
      ]
     },
     "execution_count": 28,
     "metadata": {},
     "output_type": "execute_result"
    },
    {
     "data": {
      "image/png": "[encoded data removed]",
      "text/plain": [
       "<Figure size 1000x500 with 1 Axes>"
      ]
     },
     "metadata": {
      "image/png": {
       "height": 448,
       "width": 855
      }
     },
     "output_type": "display_data"
    }
   ],
   "source": [
    "fig2 = plt.figure(figsize=(10, 5))\n",
    "fig2.add_subplot()\n",
    "plt.xlabel(\"Every 200 Steps\")\n",
    "plt.ylabel(\"f1 score\")\n",
    "plt.plot(np.arange(len(f1s)), f1s)\n",
    "\n"
   ]
  },
  {
   "cell_type": "markdown",
   "id": "cf854206-3e08-4524-940a-6c2384c204af",
   "metadata": {},
   "source": [
    "#### Class wise classification results"
   ]
  },
  {
   "cell_type": "code",
   "execution_count": 29,
   "id": "4382d168-c41c-489c-bc56-b1414070dbd7",
   "metadata": {},
   "outputs": [
    {
     "data": {
      "application/vnd.jupyter.widget-view+json": {
       "model_id": "7bc6bd5256334423bc6a1fcb0836d53d",
       "version_major": 2,
       "version_minor": 0
      },
      "text/plain": [
       "  0%|          | 0/79 [00:00<?, ?it/s]"
      ]
     },
     "metadata": {},
     "output_type": "display_data"
    },
    {
     "name": "stdout",
     "output_type": "stream",
     "text": [
      "              precision    recall  f1-score   support\n",
      "\n",
      "       plane       0.50      0.59      0.54       844\n",
      "         car       0.61      0.63      0.62       970\n",
      "        bird       0.44      0.38      0.41      1157\n",
      "         cat       0.33      0.38      0.35       862\n",
      "        deer       0.46      0.43      0.44      1076\n",
      "         dog       0.37      0.51      0.43       732\n",
      "        frog       0.61      0.54      0.57      1134\n",
      "       horse       0.59      0.62      0.60       955\n",
      "        ship       0.74      0.57      0.64      1308\n",
      "       truck       0.55      0.57      0.56       962\n",
      "\n",
      "    accuracy                           0.52     10000\n",
      "   macro avg       0.52      0.52      0.52     10000\n",
      "weighted avg       0.53      0.52      0.52     10000\n",
      "\n"
     ]
    }
   ],
   "source": [
    "custom_classification_report(state.params, testloader)"
   ]
  }
 ],
 "metadata": {
  "kernelspec": {
   "display_name": "Python 3 (ipykernel)",
   "language": "python",
   "name": "python3"
  },
  "language_info": {
   "codemirror_mode": {
    "name": "ipython",
    "version": 3
   },
   "file_extension": ".py",
   "mimetype": "text/x-python",
   "name": "python",
   "nbconvert_exporter": "python",
   "pygments_lexer": "ipython3",
   "version": "3.12.1"
  }
 },
 "nbformat": 4,
 "nbformat_minor": 5
}
