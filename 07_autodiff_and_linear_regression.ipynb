{
 "cells": [
  {
   "cell_type": "markdown",
   "id": "c4113faf",
   "metadata": {},
   "source": [
    "## Autodiff with a Linear Regression example\n",
    "\n",
    "So far, we've seen all the fine  Jax transformations. Now let's see how we can apply them. In this example, I'm going to use a very simple linear regression model and estimate the parameters using gradient descent (which in turn requires finding gradients).\n",
    "\n",
    "But first, let's complete the ritual of creating keys for the PRNG. (Seems kinda annoying that you've to do this every time but that's how Jax is, sadly.)"
   ]
  },
  {
   "cell_type": "code",
   "execution_count": 1,
   "id": "c52f3329",
   "metadata": {
    "ExecuteTime": {
     "end_time": "2023-02-12T22:45:57.859139Z",
     "start_time": "2023-02-12T22:45:57.086833Z"
    }
   },
   "outputs": [],
   "source": [
    "import jax\n",
    "import jax.numpy as jnp\n",
    "\n",
    "masterkey = jax.random.PRNGKey(0)\n",
    "masterkey, *subkeys = jax.random.split(masterkey, 10)"
   ]
  },
  {
   "cell_type": "markdown",
   "id": "e4daa74a",
   "metadata": {},
   "source": [
    "## Function to generate data\n",
    "\n",
    "The function basically is:\n",
    "\n",
    "$$\n",
    "f(x) = 4x + 3\n",
    "$$"
   ]
  },
  {
   "cell_type": "code",
   "execution_count": 2,
   "id": "9e2e9aba",
   "metadata": {
    "ExecuteTime": {
     "end_time": "2023-02-12T22:45:57.865224Z",
     "start_time": "2023-02-12T22:45:57.860200Z"
    }
   },
   "outputs": [
    {
     "data": {
      "text/plain": [
       "7"
      ]
     },
     "execution_count": 2,
     "metadata": {},
     "output_type": "execute_result"
    }
   ],
   "source": [
    "f = lambda x: 4 * x + 3\n",
    "f(1)"
   ]
  },
  {
   "cell_type": "markdown",
   "id": "1cd9767d",
   "metadata": {},
   "source": [
    "The function is defined, now to get some inputs for the function to generate the outputs."
   ]
  },
  {
   "cell_type": "code",
   "execution_count": 3,
   "id": "18fab3ce",
   "metadata": {
    "ExecuteTime": {
     "end_time": "2023-02-12T22:45:58.035339Z",
     "start_time": "2023-02-12T22:45:57.866003Z"
    }
   },
   "outputs": [],
   "source": [
    "xs = jax.random.normal(subkeys[0], shape=(1000, ))\n",
    "ys = f(xs)"
   ]
  },
  {
   "cell_type": "markdown",
   "id": "dd6508c0",
   "metadata": {},
   "source": [
    "If you've your doubts over f being linear, well, there's always matplotlib!"
   ]
  },
  {
   "cell_type": "code",
   "execution_count": 4,
   "id": "228dbd7c",
   "metadata": {
    "ExecuteTime": {
     "end_time": "2023-02-12T22:45:58.553576Z",
     "start_time": "2023-02-12T22:45:58.036403Z"
    }
   },
   "outputs": [
    {
     "data": {
      "text/plain": [
       "[<matplotlib.lines.Line2D at 0x7f9058724820>]"
      ]
     },
     "execution_count": 4,
     "metadata": {},
     "output_type": "execute_result"
    },
    {
     "data": {
      "image/png": "[encoded data removed]",
      "text/plain": [
       "<Figure size 640x480 with 1 Axes>"
      ]
     },
     "metadata": {},
     "output_type": "display_data"
    }
   ],
   "source": [
    "%matplotlib inline\n",
    "import matplotlib.pyplot as plt\n",
    "\n",
    "plt.plot(xs, ys)"
   ]
  },
  {
   "cell_type": "markdown",
   "id": "617fb3d9",
   "metadata": {},
   "source": [
    "So, as of this notebook cell, we've data for regression and we've the PRNG keys for Jax. What's next then? THE MODEL!\n",
    "\n",
    "## Model\n",
    "### Model definition\n",
    "\n",
    "The python function should be pretty self explanatory. We pass in the parameters and the input array and the function will predict some output based on the given parameters. On academic terms, this function serves as the \"forward\" pass."
   ]
  },
  {
   "cell_type": "code",
   "execution_count": 5,
   "id": "586344e4",
   "metadata": {
    "ExecuteTime": {
     "end_time": "2023-02-12T22:45:58.556494Z",
     "start_time": "2023-02-12T22:45:58.554534Z"
    }
   },
   "outputs": [],
   "source": [
    "@jax.jit\n",
    "def lin_reg_model(params, x):\n",
    "    w, b = params\n",
    "    \n",
    "    y_pred = w * x + b\n",
    "    return y_pred"
   ]
  },
  {
   "cell_type": "markdown",
   "id": "ec87a3bf",
   "metadata": {},
   "source": [
    "### Initial parameters\n",
    "\n",
    "Okay, so the model has been defined, it takes in parameters, churns out some output, all good. But where are the params going to come from? We already have x. \n",
    "\n",
    "(Paramters initialisation, anybody? To keep things simple, I'm just initialising them from a normal distribution. Sure there are well established ways of initialising paramters but we're not writing this model to win any Kaggle competitions.)"
   ]
  },
  {
   "cell_type": "code",
   "execution_count": 6,
   "id": "52359e5a",
   "metadata": {
    "ExecuteTime": {
     "end_time": "2023-02-12T22:45:58.653635Z",
     "start_time": "2023-02-12T22:45:58.557296Z"
    }
   },
   "outputs": [
    {
     "data": {
      "text/plain": [
       "DeviceArray([ 0.97020763, -0.12123348], dtype=float32)"
      ]
     },
     "execution_count": 6,
     "metadata": {},
     "output_type": "execute_result"
    }
   ],
   "source": [
    "def init_params():\n",
    "    return jax.random.normal(subkeys[1], shape=(2, ))\n",
    "\n",
    "params = init_params()\n",
    "params"
   ]
  },
  {
   "cell_type": "markdown",
   "id": "ece77a2c",
   "metadata": {},
   "source": [
    "### Error / Objective / Loss\n",
    "\n",
    "To be honest, academicians need to sit together and fix a single name for the same thing so people get less confused. Just get your thing together people! Anyways, so a error / loss / ........... just say loss function, we have to find one and define it. \n",
    "\n",
    "[Mean Squared Error](https://en.wikipedia.org/wiki/Mean_squared_error) is a pretty simple \n",
    "loss function for discrete estimation tasks such as linear regression. You can read more [here](https://en.wikipedia.org/wiki/Ordinary_least_squares)."
   ]
  },
  {
   "cell_type": "code",
   "execution_count": 7,
   "id": "d09295a6",
   "metadata": {
    "ExecuteTime": {
     "end_time": "2023-02-12T22:45:58.710608Z",
     "start_time": "2023-02-12T22:45:58.655199Z"
    }
   },
   "outputs": [
    {
     "data": {
      "text/plain": [
       "DeviceArray(20.059916, dtype=float32)"
      ]
     },
     "execution_count": 7,
     "metadata": {},
     "output_type": "execute_result"
    }
   ],
   "source": [
    "# jit, because speed\n",
    "@jax.jit\n",
    "def compute_loss(params, x, y):\n",
    "    y_pred = lin_reg_model(params, x)\n",
    "    \n",
    "    # mse error\n",
    "    error = jnp.mean((y - y_pred) ** 2)\n",
    "    \n",
    "    return error\n",
    "\n",
    "# test\n",
    "compute_loss(params, xs, ys)"
   ]
  },
  {
   "cell_type": "markdown",
   "id": "2e73748d",
   "metadata": {},
   "source": [
    "## Gradient Descent\n",
    "\n",
    "If you're already lost in the middle of all the text in the notebook, we have to update the parameters iteratively. \n",
    "\n",
    "So to update using gradient descent, we need the gradients. `jax.grad` will give us the gradients, but I also want to keep track of the loss values for each iteration. Does jax have anything for this? Yes. `jax.value_and_grad`. \n",
    "\n",
    "So just to recall, a gradient descent update roughly looks like this in terms of pseudocode:\n",
    "```python\n",
    "params = params - learning_rate * gradients\n",
    "```\n",
    "\n",
    "This can be done in two ways in jax. Either via using `tree_map` or just simply like the pseudocode above. I've initialised the parameters as an array. What if you've a dictionary for params? In that case, jax forbids using the regular pythonic way to update dict values recommends using `tree_map`."
   ]
  },
  {
   "cell_type": "code",
   "execution_count": 8,
   "id": "558add86",
   "metadata": {
    "ExecuteTime": {
     "end_time": "2023-02-12T22:45:58.713676Z",
     "start_time": "2023-02-12T22:45:58.711533Z"
    }
   },
   "outputs": [],
   "source": [
    "# keeping the learning rate as 0.01 here. feel free to experiment with other values\n",
    "\n",
    "@jax.jit\n",
    "def update(params, x, y, lr=0.01): \n",
    "    # get loss value and also gradients\n",
    "    values, grads = jax.value_and_grad(compute_loss)(params, x, y)\n",
    "    \n",
    "    updated_params = params - lr * grads\n",
    "    # alternative\n",
    "    # updated_params = jax.tree_map(lambda p, g: p - lr * g, params, grads)\n",
    "\n",
    "    return values, updated_params"
   ]
  },
  {
   "cell_type": "markdown",
   "id": "8197b6a9",
   "metadata": {},
   "source": [
    "## Train"
   ]
  },
  {
   "cell_type": "code",
   "execution_count": 9,
   "id": "ba2459dd",
   "metadata": {
    "ExecuteTime": {
     "end_time": "2023-02-12T22:45:58.801595Z",
     "start_time": "2023-02-12T22:45:58.714632Z"
    }
   },
   "outputs": [],
   "source": [
    "epochs = 100\n",
    "\n",
    "losses = list() # keep a list to plot later\n",
    "\n",
    "\n",
    "for e in range(epochs):\n",
    "    values, params = update(params, xs, ys)\n",
    "    \n",
    "    # append the loss\n",
    "    losses.append(values)"
   ]
  },
  {
   "cell_type": "markdown",
   "id": "c29c3787",
   "metadata": {},
   "source": [
    "Let's check on the updated params. They should be as close as possible to 4 and 3 (compare with the data generation function)."
   ]
  },
  {
   "cell_type": "code",
   "execution_count": 10,
   "id": "deff959f",
   "metadata": {
    "ExecuteTime": {
     "end_time": "2023-02-12T22:45:58.805123Z",
     "start_time": "2023-02-12T22:45:58.802591Z"
    }
   },
   "outputs": [
    {
     "data": {
      "text/plain": [
       "DeviceArray([3.679284 , 2.5969446], dtype=float32)"
      ]
     },
     "execution_count": 10,
     "metadata": {},
     "output_type": "execute_result"
    }
   ],
   "source": [
    "params"
   ]
  },
  {
   "cell_type": "markdown",
   "id": "f6cbb354",
   "metadata": {},
   "source": [
    "Looks quite close. How about the loss values though? Did the overall loss decrease well over the iterations (epochs)?"
   ]
  },
  {
   "cell_type": "code",
   "execution_count": 11,
   "id": "af960baa",
   "metadata": {
    "ExecuteTime": {
     "end_time": "2023-02-12T22:45:59.080829Z",
     "start_time": "2023-02-12T22:45:58.805997Z"
    }
   },
   "outputs": [
    {
     "data": {
      "text/plain": [
       "[<matplotlib.lines.Line2D at 0x7f9058725bd0>]"
      ]
     },
     "execution_count": 11,
     "metadata": {},
     "output_type": "execute_result"
    },
    {
     "data": {
      "image/png": "[encoded data removed]",
      "text/plain": [
       "<Figure size 640x480 with 1 Axes>"
      ]
     },
     "metadata": {},
     "output_type": "display_data"
    }
   ],
   "source": [
    "plt.plot(jnp.arange(epochs), losses, c=\"r\")"
   ]
  },
  {
   "cell_type": "markdown",
   "id": "10d65608",
   "metadata": {},
   "source": [
    "## Comparing the actual and predicted function\n",
    "\n",
    "We have the estimated parameters and now can use these to generate outputs using our linear regression model. (Estimating parameters is basically estimating a function). However one question lingers, how much of a deviation does our predicted function/model/parameters show?"
   ]
  },
  {
   "cell_type": "code",
   "execution_count": 12,
   "id": "eff57421",
   "metadata": {
    "ExecuteTime": {
     "end_time": "2023-02-12T22:45:59.204191Z",
     "start_time": "2023-02-12T22:45:59.081727Z"
    }
   },
   "outputs": [
    {
     "data": {
      "text/plain": [
       "<matplotlib.legend.Legend at 0x7f90585379d0>"
      ]
     },
     "execution_count": 12,
     "metadata": {},
     "output_type": "execute_result"
    },
    {
     "data": {
      "image/png": "[encoded data removed]",
      "text/plain": [
       "<Figure size 640x480 with 1 Axes>"
      ]
     },
     "metadata": {},
     "output_type": "display_data"
    }
   ],
   "source": [
    "plt.plot(xs, ys, c=\"r\", label=\"actual\")\n",
    "plt.plot(xs, lin_reg_model(params, xs), c=\"g\", label=\"predicted\")\n",
    "plt.legend()"
   ]
  },
  {
   "cell_type": "markdown",
   "id": "410db8cd",
   "metadata": {},
   "source": [
    "You're pretty good - [Revolver Ocelote](https://youtu.be/8xVfjkb-xVs)"
   ]
  }
 ],
 "metadata": {
  "kernelspec": {
   "display_name": "Python 3 (ipykernel)",
   "language": "python",
   "name": "python3"
  },
  "language_info": {
   "codemirror_mode": {
    "name": "ipython",
    "version": 3
   },
   "file_extension": ".py",
   "mimetype": "text/x-python",
   "name": "python",
   "nbconvert_exporter": "python",
   "pygments_lexer": "ipython3",
   "version": "3.10.8"
  },
  "toc": {
   "base_numbering": 1,
   "nav_menu": {},
   "number_sections": true,
   "sideBar": true,
   "skip_h1_title": false,
   "title_cell": "Table of Contents",
   "title_sidebar": "Contents",
   "toc_cell": false,
   "toc_position": {},
   "toc_section_display": true,
   "toc_window_display": false
  }
 },
 "nbformat": 4,
 "nbformat_minor": 5
}
