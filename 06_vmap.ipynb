{
 "cells": [
  {
   "cell_type": "markdown",
   "metadata": {},
   "source": [
    "## vmap()\n",
    "\n",
    "While training a model in a mini batch setting, you'll need to find a way to batch inputs from multiple variables together. In jax, this can be done with vmap. Let's see this in detail with examples."
   ]
  },
  {
   "cell_type": "markdown",
   "metadata": {},
   "source": [
    "Say you need to get the dot product of two arrays, like we do for an affine transformation ($y = wx + b$, let's omit the $b$ for now). For a single $x$ and $w$, you can just use the dot() function inside numpy or jax.numpy. "
   ]
  },
  {
   "cell_type": "code",
   "execution_count": 1,
   "metadata": {},
   "outputs": [],
   "source": [
    "import jax\n",
    "import jax.numpy as jnp\n",
    "\n",
    "key = jax.random.PRNGKey(42)"
   ]
  },
  {
   "cell_type": "code",
   "execution_count": 9,
   "metadata": {},
   "outputs": [
    {
     "data": {
      "text/plain": [
       "DeviceArray([-61.76024], dtype=float32)"
      ]
     },
     "execution_count": 9,
     "metadata": {},
     "output_type": "execute_result"
    }
   ],
   "source": [
    "x = jax.random.randint(key, shape=(100, ), minval=0, maxval=10)\n",
    "\n",
    "key, newkey = jax.random.split(key)\n",
    "w = jax.random.normal(newkey, shape=(1, 100))\n",
    "\n",
    "single_dot = jnp.dot(w, x)\n",
    "single_dot"
   ]
  },
  {
   "cell_type": "markdown",
   "metadata": {},
   "source": [
    "So here $x$ was an array of length 100, and $w$ was a vector of length 100. A single array and a single vector. What if we have to take the dot product of 100 such $x$ and $w$'s ? This is where vmap comes in handy. Or in other words, we have a batch size of 100 for them."
   ]
  },
  {
   "cell_type": "code",
   "execution_count": 10,
   "metadata": {},
   "outputs": [
    {
     "data": {
      "text/plain": [
       "DeviceArray([[ -27.859941 ],\n",
       "             [ -10.8492565],\n",
       "             [  56.76403  ],\n",
       "             [ -31.128239 ],\n",
       "             [ -11.093838 ],\n",
       "             [  43.46985  ],\n",
       "             [  11.236668 ],\n",
       "             [ -29.302572 ],\n",
       "             [  81.706825 ],\n",
       "             [-153.93439  ],\n",
       "             [ -87.40844  ],\n",
       "             [  13.617945 ],\n",
       "             [  42.5484   ],\n",
       "             [  46.42689  ],\n",
       "             [ -40.167423 ],\n",
       "             [  55.56234  ],\n",
       "             [  17.17352  ],\n",
       "             [ -54.812828 ],\n",
       "             [ -22.769302 ],\n",
       "             [  28.912077 ],\n",
       "             [  16.715572 ],\n",
       "             [ -44.53877  ],\n",
       "             [   3.0542583],\n",
       "             [  12.650742 ],\n",
       "             [ -48.302437 ],\n",
       "             [  71.312965 ],\n",
       "             [-126.796036 ],\n",
       "             [ 101.5988   ],\n",
       "             [  45.1598   ],\n",
       "             [  32.948288 ],\n",
       "             [  45.646736 ],\n",
       "             [ 103.16312  ],\n",
       "             [ -18.586262 ],\n",
       "             [ -44.694626 ],\n",
       "             [-103.155716 ],\n",
       "             [  22.80392  ],\n",
       "             [ -92.43735  ],\n",
       "             [ -11.917765 ],\n",
       "             [ -55.650646 ],\n",
       "             [  50.08988  ],\n",
       "             [ -60.06888  ],\n",
       "             [  13.5358515],\n",
       "             [  34.165123 ],\n",
       "             [  -1.4818401],\n",
       "             [ -17.585876 ],\n",
       "             [  52.153343 ],\n",
       "             [ -48.290466 ],\n",
       "             [ -26.32135  ],\n",
       "             [  40.40196  ],\n",
       "             [  16.887966 ],\n",
       "             [  80.30506  ],\n",
       "             [  29.187675 ],\n",
       "             [ -37.525978 ],\n",
       "             [  24.333595 ],\n",
       "             [ -51.778038 ],\n",
       "             [  -6.457403 ],\n",
       "             [  89.18242  ],\n",
       "             [ -64.020035 ],\n",
       "             [  -5.761471 ],\n",
       "             [  27.773062 ],\n",
       "             [  54.805046 ],\n",
       "             [ 100.77609  ],\n",
       "             [ -12.063271 ],\n",
       "             [ -82.76529  ],\n",
       "             [  14.896467 ],\n",
       "             [  71.28262  ],\n",
       "             [  10.079033 ],\n",
       "             [ -27.51586  ],\n",
       "             [  33.506504 ],\n",
       "             [  18.258974 ],\n",
       "             [ -50.882698 ],\n",
       "             [  59.49365  ],\n",
       "             [  28.191475 ],\n",
       "             [  -8.3889885],\n",
       "             [  20.075855 ],\n",
       "             [  60.085518 ],\n",
       "             [  48.716877 ],\n",
       "             [  71.09445  ],\n",
       "             [ -20.239437 ],\n",
       "             [ -21.417501 ],\n",
       "             [  -3.5782738],\n",
       "             [ -28.954529 ],\n",
       "             [  15.080009 ],\n",
       "             [  36.371315 ],\n",
       "             [ -17.836216 ],\n",
       "             [ -13.53807  ],\n",
       "             [ -30.103985 ],\n",
       "             [ -32.677773 ],\n",
       "             [ -75.86542  ],\n",
       "             [ -80.54329  ],\n",
       "             [  -9.922146 ],\n",
       "             [ -98.25856  ],\n",
       "             [ -29.52291  ],\n",
       "             [  33.076973 ],\n",
       "             [-117.127174 ],\n",
       "             [  35.276447 ],\n",
       "             [ -39.09691  ],\n",
       "             [  23.732447 ],\n",
       "             [ 153.41312  ],\n",
       "             [  62.465744 ]], dtype=float32)"
      ]
     },
     "execution_count": 10,
     "metadata": {},
     "output_type": "execute_result"
    }
   ],
   "source": [
    "vmapped_dot = jax.vmap(jnp.dot)\n",
    "\n",
    "BATCH_SIZE = 100\n",
    "\n",
    "batched_x = jax.random.randint(key, shape=(BATCH_SIZE, 100, ), minval=0, maxval=10)\n",
    "batched_w = jax.random.normal(newkey, shape=(BATCH_SIZE ,1, 100))\n",
    "\n",
    "batched_dot = vmapped_dot(batched_w, batched_x)\n",
    "batched_dot"
   ]
  },
  {
   "cell_type": "markdown",
   "metadata": {},
   "source": [
    "If you want to add $b$ and make it a full fledged affine transformation .... "
   ]
  },
  {
   "cell_type": "code",
   "execution_count": 11,
   "metadata": {},
   "outputs": [
    {
     "data": {
      "text/plain": [
       "DeviceArray([[ -20.859941  ],\n",
       "             [  -1.8492565 ],\n",
       "             [  64.76403   ],\n",
       "             [ -26.128239  ],\n",
       "             [  -3.0938377 ],\n",
       "             [  44.46985   ],\n",
       "             [  20.236668  ],\n",
       "             [ -20.302572  ],\n",
       "             [  81.706825  ],\n",
       "             [-152.93439   ],\n",
       "             [ -82.40844   ],\n",
       "             [  17.617945  ],\n",
       "             [  42.5484    ],\n",
       "             [  47.42689   ],\n",
       "             [ -32.167423  ],\n",
       "             [  62.56234   ],\n",
       "             [  19.17352   ],\n",
       "             [ -48.812828  ],\n",
       "             [ -21.769302  ],\n",
       "             [  28.912077  ],\n",
       "             [  19.715572  ],\n",
       "             [ -44.53877   ],\n",
       "             [   5.0542583 ],\n",
       "             [  21.650742  ],\n",
       "             [ -48.302437  ],\n",
       "             [  73.312965  ],\n",
       "             [-117.796036  ],\n",
       "             [ 105.5988    ],\n",
       "             [  45.1598    ],\n",
       "             [  39.948288  ],\n",
       "             [  50.646736  ],\n",
       "             [ 108.16312   ],\n",
       "             [ -16.586262  ],\n",
       "             [ -44.694626  ],\n",
       "             [ -95.155716  ],\n",
       "             [  23.80392   ],\n",
       "             [ -84.43735   ],\n",
       "             [  -7.9177647 ],\n",
       "             [ -54.650646  ],\n",
       "             [  58.08988   ],\n",
       "             [ -58.06888   ],\n",
       "             [  20.53585   ],\n",
       "             [  43.165123  ],\n",
       "             [   0.51815987],\n",
       "             [ -12.585876  ],\n",
       "             [  61.153343  ],\n",
       "             [ -48.290466  ],\n",
       "             [ -23.32135   ],\n",
       "             [  44.40196   ],\n",
       "             [  20.887966  ],\n",
       "             [  88.30506   ],\n",
       "             [  32.187675  ],\n",
       "             [ -35.525978  ],\n",
       "             [  27.333595  ],\n",
       "             [ -48.778038  ],\n",
       "             [  -6.457403  ],\n",
       "             [  98.18242   ],\n",
       "             [ -63.020035  ],\n",
       "             [  -3.7614708 ],\n",
       "             [  29.773062  ],\n",
       "             [  63.805046  ],\n",
       "             [ 109.77609   ],\n",
       "             [ -11.063271  ],\n",
       "             [ -77.76529   ],\n",
       "             [  21.896467  ],\n",
       "             [  74.28262   ],\n",
       "             [  12.079033  ],\n",
       "             [ -27.51586   ],\n",
       "             [  42.506504  ],\n",
       "             [  20.258974  ],\n",
       "             [ -45.882698  ],\n",
       "             [  63.49365   ],\n",
       "             [  28.191475  ],\n",
       "             [  -8.3889885 ],\n",
       "             [  23.075855  ],\n",
       "             [  65.08552   ],\n",
       "             [  54.716877  ],\n",
       "             [  75.09445   ],\n",
       "             [ -17.239437  ],\n",
       "             [ -18.417501  ],\n",
       "             [   5.421726  ],\n",
       "             [ -23.954529  ],\n",
       "             [  22.08001   ],\n",
       "             [  38.371315  ],\n",
       "             [  -9.836216  ],\n",
       "             [ -10.53807   ],\n",
       "             [ -22.103985  ],\n",
       "             [ -30.677773  ],\n",
       "             [ -72.86542   ],\n",
       "             [ -75.54329   ],\n",
       "             [  -8.922146  ],\n",
       "             [ -97.25856   ],\n",
       "             [ -29.52291   ],\n",
       "             [  34.076973  ],\n",
       "             [-109.127174  ],\n",
       "             [  42.276447  ],\n",
       "             [ -33.09691   ],\n",
       "             [  26.732447  ],\n",
       "             [ 158.41312   ],\n",
       "             [  66.465744  ]], dtype=float32)"
      ]
     },
     "execution_count": 11,
     "metadata": {},
     "output_type": "execute_result"
    }
   ],
   "source": [
    "y = lambda w, x, b: jnp.dot(w, x) + b\n",
    "\n",
    "newkey, b_key = jax.random.split(newkey)\n",
    "batched_b = jax.random.randint(b_key, shape=(BATCH_SIZE, ), minval=0, maxval=10)\n",
    "\n",
    "res = jax.vmap(y)(batched_w, batched_x, batched_b)\n",
    "res\n"
   ]
  },
  {
   "cell_type": "code",
   "execution_count": null,
   "metadata": {},
   "outputs": [],
   "source": []
  }
 ],
 "metadata": {
  "kernelspec": {
   "display_name": "Python 3.10.6 ('venv': venv)",
   "language": "python",
   "name": "python3"
  },
  "language_info": {
   "codemirror_mode": {
    "name": "ipython",
    "version": 3
   },
   "file_extension": ".py",
   "mimetype": "text/x-python",
   "name": "python",
   "nbconvert_exporter": "python",
   "pygments_lexer": "ipython3",
   "version": "3.10.6"
  },
  "orig_nbformat": 4,
  "vscode": {
   "interpreter": {
    "hash": "85f6f424c393e7c95d987d0a64d03300802113ad2045bd4cdb9a90d6d84115f4"
   }
  }
 },
 "nbformat": 4,
 "nbformat_minor": 2
}
