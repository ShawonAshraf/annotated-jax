{
 "cells": [
  {
   "cell_type": "markdown",
   "metadata": {},
   "source": [
    "## vmap()\n",
    "\n",
    "While training a model in a mini batch setting, you'll need to find a way to batch inputs from multiple variables together. In jax, this can be done with vmap. Let's see this in detail with examples."
   ]
  },
  {
   "cell_type": "markdown",
   "metadata": {},
   "source": [
    "Say you need to get the dot product of two arrays, like we do for an affine transformation ($y = wx + b$, let's omit the $b$ for now). For a single $x$ and $w$, you can just use the dot() function inside numpy or jax.numpy. "
   ]
  },
  {
   "cell_type": "code",
   "execution_count": 1,
   "metadata": {},
   "outputs": [],
   "source": [
    "import jax\n",
    "import jax.numpy as jnp\n",
    "\n",
    "key = jax.random.PRNGKey(42)"
   ]
  },
  {
   "cell_type": "code",
   "execution_count": 2,
   "metadata": {},
   "outputs": [
    {
     "data": {
      "text/plain": [
       "DeviceArray([-8.661343], dtype=float32)"
      ]
     },
     "execution_count": 2,
     "metadata": {},
     "output_type": "execute_result"
    }
   ],
   "source": [
    "x = jax.random.randint(key, shape=(100, ), minval=0, maxval=10)\n",
    "\n",
    "newkey, subkey = jax.random.split(key)\n",
    "w = jax.random.normal(newkey, shape=(1, 100))\n",
    "\n",
    "single_dot = jnp.dot(w, x)\n",
    "single_dot"
   ]
  },
  {
   "cell_type": "markdown",
   "metadata": {},
   "source": [
    "So here $x$ was an array of length 100, and $w$ was a vector of length 100. A single array and a single vector. What if we have to take the dot product of 100 such $x$ and $w$'s ? This is where vmap comes in handy. Or in other words, we have a batch size of 100 for them."
   ]
  },
  {
   "cell_type": "code",
   "execution_count": 3,
   "metadata": {},
   "outputs": [
    {
     "data": {
      "text/plain": [
       "DeviceArray([[-154.21112  ],\n",
       "             [  49.17533  ],\n",
       "             [  11.140234 ],\n",
       "             [  37.236473 ],\n",
       "             [  29.498665 ],\n",
       "             [   9.617361 ],\n",
       "             [  71.4579   ],\n",
       "             [  78.10006  ],\n",
       "             [ -45.04447  ],\n",
       "             [  56.26046  ],\n",
       "             [  64.63633  ],\n",
       "             [  49.38059  ],\n",
       "             [ -17.98463  ],\n",
       "             [ -64.39987  ],\n",
       "             [  38.20652  ],\n",
       "             [  43.753876 ],\n",
       "             [ -12.084675 ],\n",
       "             [   4.5944977],\n",
       "             [ -19.081417 ],\n",
       "             [   3.98884  ],\n",
       "             [ -52.261543 ],\n",
       "             [  24.712055 ],\n",
       "             [ -83.08613  ],\n",
       "             [ -51.1763   ],\n",
       "             [  15.695245 ],\n",
       "             [ -75.23836  ],\n",
       "             [  -4.31831  ],\n",
       "             [  25.793459 ],\n",
       "             [ -82.10106  ],\n",
       "             [  53.141228 ],\n",
       "             [  52.1035   ],\n",
       "             [  54.45214  ],\n",
       "             [  28.216433 ],\n",
       "             [  14.025606 ],\n",
       "             [ -13.750018 ],\n",
       "             [-103.090065 ],\n",
       "             [ -70.45574  ],\n",
       "             [ -46.20912  ],\n",
       "             [  -6.498311 ],\n",
       "             [ -44.736053 ],\n",
       "             [ -52.984802 ],\n",
       "             [ -37.06279  ],\n",
       "             [ -44.17498  ],\n",
       "             [  58.821663 ],\n",
       "             [  13.887475 ],\n",
       "             [  35.980446 ],\n",
       "             [ -54.982548 ],\n",
       "             [  47.16511  ],\n",
       "             [  38.77239  ],\n",
       "             [ -38.094448 ],\n",
       "             [ -23.02494  ],\n",
       "             [ -21.954275 ],\n",
       "             [ -19.846363 ],\n",
       "             [ -44.547688 ],\n",
       "             [  51.120495 ],\n",
       "             [  12.431988 ],\n",
       "             [  70.32898  ],\n",
       "             [ -71.68102  ],\n",
       "             [-109.04095  ],\n",
       "             [  48.91443  ],\n",
       "             [ -71.28049  ],\n",
       "             [ -15.275305 ],\n",
       "             [  47.285713 ],\n",
       "             [ 137.93857  ],\n",
       "             [   2.1972694],\n",
       "             [-122.16468  ],\n",
       "             [  23.500605 ],\n",
       "             [  29.90213  ],\n",
       "             [  59.79647  ],\n",
       "             [ -68.63152  ],\n",
       "             [  51.945915 ],\n",
       "             [ -37.473484 ],\n",
       "             [  11.74073  ],\n",
       "             [   9.68816  ],\n",
       "             [  31.353745 ],\n",
       "             [ -37.99536  ],\n",
       "             [ -46.590107 ],\n",
       "             [ -16.142231 ],\n",
       "             [  57.372856 ],\n",
       "             [ 106.728584 ],\n",
       "             [ -40.79023  ],\n",
       "             [ -38.10121  ],\n",
       "             [  -2.146965 ],\n",
       "             [ -34.138027 ],\n",
       "             [ -41.231956 ],\n",
       "             [  54.510483 ],\n",
       "             [ -70.35623  ],\n",
       "             [   9.3040695],\n",
       "             [ -19.62253  ],\n",
       "             [ -83.54456  ],\n",
       "             [  42.054413 ],\n",
       "             [  12.002651 ],\n",
       "             [  42.617317 ],\n",
       "             [  43.809654 ],\n",
       "             [  41.09497  ],\n",
       "             [ -15.199002 ],\n",
       "             [ -21.719818 ],\n",
       "             [  33.370712 ],\n",
       "             [  53.736507 ],\n",
       "             [  11.971184 ]], dtype=float32)"
      ]
     },
     "execution_count": 3,
     "metadata": {},
     "output_type": "execute_result"
    }
   ],
   "source": [
    "vmapped_dot = jax.vmap(jnp.dot)\n",
    "\n",
    "BATCH_SIZE = 100\n",
    "\n",
    "batched_x = jax.random.randint(key, shape=(BATCH_SIZE, 100, ), minval=0, maxval=10)\n",
    "batched_w = jax.random.normal(newkey, shape=(BATCH_SIZE ,1, 100))\n",
    "\n",
    "batched_dot = vmapped_dot(batched_w, batched_x)\n",
    "batched_dot"
   ]
  },
  {
   "cell_type": "markdown",
   "metadata": {},
   "source": [
    "If you want to add $b$ and make it a full fledged affine transformation .... "
   ]
  },
  {
   "cell_type": "code",
   "execution_count": 4,
   "metadata": {},
   "outputs": [
    {
     "data": {
      "text/plain": [
       "DeviceArray([[-147.21112  ],\n",
       "             [  58.17533  ],\n",
       "             [  15.140234 ],\n",
       "             [  38.236473 ],\n",
       "             [  37.498665 ],\n",
       "             [  14.617361 ],\n",
       "             [  74.4579   ],\n",
       "             [  85.10006  ],\n",
       "             [ -43.04447  ],\n",
       "             [  59.26046  ],\n",
       "             [  69.63633  ],\n",
       "             [  53.38059  ],\n",
       "             [ -11.984631 ],\n",
       "             [ -56.39987  ],\n",
       "             [  43.20652  ],\n",
       "             [  48.753876 ],\n",
       "             [  -3.0846748],\n",
       "             [   8.594498 ],\n",
       "             [ -16.081417 ],\n",
       "             [   8.98884  ],\n",
       "             [ -46.261543 ],\n",
       "             [  29.712055 ],\n",
       "             [ -75.08613  ],\n",
       "             [ -51.1763   ],\n",
       "             [  22.695244 ],\n",
       "             [ -67.23836  ],\n",
       "             [  -3.3183098],\n",
       "             [  33.793457 ],\n",
       "             [ -80.10106  ],\n",
       "             [  55.141228 ],\n",
       "             [  59.1035   ],\n",
       "             [  57.45214  ],\n",
       "             [  31.216433 ],\n",
       "             [  19.025606 ],\n",
       "             [  -6.750018 ],\n",
       "             [ -98.090065 ],\n",
       "             [ -65.45574  ],\n",
       "             [ -37.20912  ],\n",
       "             [  -1.498311 ],\n",
       "             [ -35.736053 ],\n",
       "             [ -44.984802 ],\n",
       "             [ -28.06279  ],\n",
       "             [ -36.17498  ],\n",
       "             [  61.821663 ],\n",
       "             [  17.887474 ],\n",
       "             [  43.980446 ],\n",
       "             [ -48.982548 ],\n",
       "             [  55.16511  ],\n",
       "             [  41.77239  ],\n",
       "             [ -30.094448 ],\n",
       "             [ -15.0249405],\n",
       "             [ -20.954275 ],\n",
       "             [ -17.846363 ],\n",
       "             [ -42.547688 ],\n",
       "             [  55.120495 ],\n",
       "             [  14.431988 ],\n",
       "             [  71.32898  ],\n",
       "             [ -64.68102  ],\n",
       "             [-104.04095  ],\n",
       "             [  53.91443  ],\n",
       "             [ -69.28049  ],\n",
       "             [  -8.275305 ],\n",
       "             [  55.285713 ],\n",
       "             [ 137.93857  ],\n",
       "             [   7.1972694],\n",
       "             [-120.16468  ],\n",
       "             [  30.500605 ],\n",
       "             [  29.90213  ],\n",
       "             [  66.79647  ],\n",
       "             [ -59.631523 ],\n",
       "             [  60.945915 ],\n",
       "             [ -35.473484 ],\n",
       "             [  18.74073  ],\n",
       "             [   9.68816  ],\n",
       "             [  33.353745 ],\n",
       "             [ -35.99536  ],\n",
       "             [ -45.590107 ],\n",
       "             [ -14.142231 ],\n",
       "             [  59.372856 ],\n",
       "             [ 115.728584 ],\n",
       "             [ -37.79023  ],\n",
       "             [ -35.10121  ],\n",
       "             [   1.853035 ],\n",
       "             [ -30.138027 ],\n",
       "             [ -38.231956 ],\n",
       "             [  58.510483 ],\n",
       "             [ -62.35623  ],\n",
       "             [  15.3040695],\n",
       "             [ -12.62253  ],\n",
       "             [ -77.54456  ],\n",
       "             [  42.054413 ],\n",
       "             [  18.002651 ],\n",
       "             [  46.617317 ],\n",
       "             [  46.809654 ],\n",
       "             [  47.09497  ],\n",
       "             [ -14.199002 ],\n",
       "             [ -20.719818 ],\n",
       "             [  41.370712 ],\n",
       "             [  56.736507 ],\n",
       "             [  11.971184 ]], dtype=float32)"
      ]
     },
     "execution_count": 4,
     "metadata": {},
     "output_type": "execute_result"
    }
   ],
   "source": [
    "y = lambda w, x, b: jnp.dot(w, x) + b\n",
    "\n",
    "batched_b = jax.random.randint(subkey, shape=(BATCH_SIZE, ), minval=0, maxval=10)\n",
    "\n",
    "res = jax.vmap(y)(batched_w, batched_x, batched_b)\n",
    "res\n"
   ]
  }
 ],
 "metadata": {
  "kernelspec": {
   "display_name": "Python 3.10.6 ('venv': venv)",
   "language": "python",
   "name": "python3"
  },
  "language_info": {
   "codemirror_mode": {
    "name": "ipython",
    "version": 3
   },
   "file_extension": ".py",
   "mimetype": "text/x-python",
   "name": "python",
   "nbconvert_exporter": "python",
   "pygments_lexer": "ipython3",
   "version": "3.10.6"
  },
  "orig_nbformat": 4,
  "vscode": {
   "interpreter": {
    "hash": "85f6f424c393e7c95d987d0a64d03300802113ad2045bd4cdb9a90d6d84115f4"
   }
  }
 },
 "nbformat": 4,
 "nbformat_minor": 2
}
