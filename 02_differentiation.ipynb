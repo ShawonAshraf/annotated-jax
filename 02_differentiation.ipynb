{
 "cells": [
  {
   "cell_type": "markdown",
   "id": "096c3f75",
   "metadata": {},
   "source": [
    "## Before you begin\n",
    "\n",
    "If you're new to calculus or need a refresher of the concepts and formulas, check out the Khan Academy course on YouTube. \n",
    "\n",
    "LINK : https://youtube.com/playlist?list=PL19E79A0638C8D449\n",
    "\n",
    "Specially for Derivatives: https://youtu.be/rAof9Ld5sOg "
   ]
  },
  {
   "cell_type": "markdown",
   "id": "72075517",
   "metadata": {},
   "source": [
    "## Simple differentiation\n",
    "\n",
    "Say we have this function: $y = x^{4} - 5x^{3} + 2x^{2} +4x - 1$\n",
    "\n",
    "And we want to differentiate it in terms of $x$ or find its derivative which is $\\frac{dy}{dx}$"
   ]
  },
  {
   "cell_type": "code",
   "execution_count": 1,
   "id": "dc35e499",
   "metadata": {},
   "outputs": [],
   "source": [
    "import jax as J"
   ]
  },
  {
   "cell_type": "code",
   "execution_count": 2,
   "id": "d72d8064",
   "metadata": {},
   "outputs": [],
   "source": [
    "def y(x):\n",
    "    return x**4 - 5 * x**3 + 2 * x**2 + 4 * x - 1"
   ]
  },
  {
   "cell_type": "markdown",
   "id": "98bd3d24",
   "metadata": {},
   "source": [
    "Why function? Good question. Jax was designed with Functional Programming in mind hence this function stuff. You can also use lambdas. For example this can also be written as \n",
    "\n",
    "```python\n",
    "y = lambda x: x**4 - 5 * x**3 + 2 * x**2 + 4 * x - 1\n",
    "```"
   ]
  },
  {
   "cell_type": "code",
   "execution_count": 3,
   "id": "506fd90b",
   "metadata": {},
   "outputs": [
    {
     "data": {
      "text/plain": [
       "<function __main__.y(x)>"
      ]
     },
     "execution_count": 3,
     "metadata": {},
     "output_type": "execute_result"
    }
   ],
   "source": [
    "dy_dx = J.grad(y)\n",
    "dy_dx"
   ]
  },
  {
   "cell_type": "markdown",
   "id": "cc25777b",
   "metadata": {},
   "source": [
    "Where's the derivative? Huh Charlston! Where's the derivative? \n",
    "\n",
    "Well you didn't tell me for which value of x you need a derivative of y here!"
   ]
  },
  {
   "cell_type": "code",
   "execution_count": 4,
   "id": "85dc4cac",
   "metadata": {},
   "outputs": [
    {
     "data": {
      "text/plain": [
       "DeviceArray(-16., dtype=float32, weak_type=True)"
      ]
     },
     "execution_count": 4,
     "metadata": {},
     "output_type": "execute_result"
    }
   ],
   "source": [
    "dy_dx(2.) # make sure to pass in floats, that's how JAX likes it!"
   ]
  },
  {
   "cell_type": "markdown",
   "id": "2a8f87d6",
   "metadata": {},
   "source": [
    "Let's verify that, shall we? \n",
    "\n",
    "$\\frac{dy}{dx} = 4x^{3} - 15x^{2} + 4x + 4$\n",
    "\n",
    "So for $x = 2.0$, or say $x = 2$\n",
    "\n",
    "$\\frac{dy}{dx} = 4x^{3} - 15x^{2} + 4x + 4 = 4 \\times 2^{3} - 15 \\times 2^{2} + 4 \\times 2 + 4 = -16$\n"
   ]
  },
  {
   "cell_type": "markdown",
   "id": "b56a3977",
   "metadata": {},
   "source": [
    "## Higher order differentiation\n",
    "\n",
    "What we saw above was the first order derivative of  y in terms of x. So a very simple definition would be that when you differentiate once, it's a first order derivative, twice - second order derivative and so on. Anything above first order derivative is called a higher order derivative. \n",
    "\n",
    "Let's try the second and third order derivative:\n",
    "\n",
    "$\\frac{d}{dx}(\\frac{dy}{dx}) = \\frac{d}{dx}(4x^{3} - 15x^{2} + 4x + 4) = 12x^{2} - 30x + 4$\n",
    "\n",
    "This second order derivative or, $\\frac{d}{dx}(\\frac{dy}{dx})$ can also be written as $\\frac{d^{2}x}{dx^{2}} $ or simply ${y}''$. Guess what the first order derivative is then? ${y}'$. \n",
    "\n",
    "So, \n",
    "\n",
    "${y}''' = 24x - 30$\n",
    "\n",
    "Fun fact, for a fourth order derivative you don't have to add like 4 ' signs. You can replace ' with numbers as well, and just write something like $y_{4}$ or $y^{4}$ or $y^{iv}$."
   ]
  },
  {
   "cell_type": "code",
   "execution_count": 5,
   "id": "425efc42",
   "metadata": {},
   "outputs": [
    {
     "data": {
      "text/plain": [
       "DeviceArray(-8., dtype=float32, weak_type=True)"
      ]
     },
     "execution_count": 5,
     "metadata": {},
     "output_type": "execute_result"
    }
   ],
   "source": [
    "y2 = J.grad(dy_dx)\n",
    "y2(2.)"
   ]
  },
  {
   "cell_type": "code",
   "execution_count": 6,
   "id": "fdc68abd",
   "metadata": {},
   "outputs": [
    {
     "data": {
      "text/plain": [
       "DeviceArray(-6., dtype=float32, weak_type=True)"
      ]
     },
     "execution_count": 6,
     "metadata": {},
     "output_type": "execute_result"
    }
   ],
   "source": [
    "y3 = J.grad(y2)\n",
    "y3(1.)"
   ]
  },
  {
   "cell_type": "code",
   "execution_count": 7,
   "id": "42711e35",
   "metadata": {},
   "outputs": [
    {
     "data": {
      "text/plain": [
       "DeviceArray(24., dtype=float32, weak_type=True)"
      ]
     },
     "execution_count": 7,
     "metadata": {},
     "output_type": "execute_result"
    }
   ],
   "source": [
    "y4 = J.grad(y3)\n",
    "y4(0.)"
   ]
  },
  {
   "cell_type": "code",
   "execution_count": 8,
   "id": "6b3fff9d",
   "metadata": {},
   "outputs": [
    {
     "data": {
      "text/plain": [
       "DeviceArray(0., dtype=float32, weak_type=True)"
      ]
     },
     "execution_count": 8,
     "metadata": {},
     "output_type": "execute_result"
    }
   ],
   "source": [
    "y5 = J.grad(y4)\n",
    "y5(1.)"
   ]
  },
  {
   "cell_type": "markdown",
   "id": "80247abe",
   "metadata": {},
   "source": [
    "Why's this 0? Like all those books out there, this has been left as an exercise for the reader. "
   ]
  },
  {
   "cell_type": "code",
   "execution_count": null,
   "id": "f12c9115",
   "metadata": {},
   "outputs": [],
   "source": []
  }
 ],
 "metadata": {
  "kernelspec": {
   "display_name": "Python 3 (ipykernel)",
   "language": "python",
   "name": "python3"
  },
  "language_info": {
   "codemirror_mode": {
    "name": "ipython",
    "version": 3
   },
   "file_extension": ".py",
   "mimetype": "text/x-python",
   "name": "python",
   "nbconvert_exporter": "python",
   "pygments_lexer": "ipython3",
   "version": "3.9.7"
  }
 },
 "nbformat": 4,
 "nbformat_minor": 5
}
