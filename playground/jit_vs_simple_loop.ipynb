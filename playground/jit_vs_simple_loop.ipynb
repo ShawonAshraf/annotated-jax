{
 "cells": [
  {
   "cell_type": "markdown",
   "id": "21c0ebb5",
   "metadata": {},
   "source": [
    "# Data\n",
    "\n",
    "[Paler penguins dataset](https://allisonhorst.github.io/palmerpenguins/)\n",
    "\n",
    "https://github.com/mcnakhaee/palmerpenguins"
   ]
  },
  {
   "cell_type": "markdown",
   "id": "53c5e655",
   "metadata": {},
   "source": [
    "## Load and Prepare"
   ]
  },
  {
   "cell_type": "code",
   "execution_count": 1,
   "id": "d18ae17e",
   "metadata": {
    "ExecuteTime": {
     "end_time": "2022-12-03T08:43:53.333676Z",
     "start_time": "2022-12-03T08:43:52.926080Z"
    }
   },
   "outputs": [],
   "source": [
    "import numpy as np\n",
    "import pandas as pd\n",
    "import jax\n",
    "import jax.numpy as jnp\n",
    "\n",
    "from palmerpenguins import load_penguins"
   ]
  },
  {
   "cell_type": "code",
   "execution_count": 2,
   "id": "8324fe12",
   "metadata": {
    "ExecuteTime": {
     "end_time": "2022-12-03T08:43:53.629172Z",
     "start_time": "2022-12-03T08:43:53.335339Z"
    }
   },
   "outputs": [],
   "source": [
    "from sklearn import preprocessing\n",
    "from sklearn.model_selection import train_test_split\n",
    "from tqdm.notebook import tqdm\n",
    "\n",
    "\n",
    "def convert_label_to_ids(targets, id_dict):\n",
    "    converted_targets = np.zeros(shape=(len(targets, )), dtype=np.int32)\n",
    "    for idx, target in tqdm(enumerate(targets)):\n",
    "        converted_targets[idx] = id_dict[target]\n",
    "\n",
    "    return converted_targets\n",
    "\n",
    "\n",
    "\n",
    "def prepare_penguins_data():\n",
    "    penguins = load_penguins()\n",
    "    \n",
    "    # drop \"nan\" values\n",
    "    penguins = penguins.dropna()\n",
    "    \n",
    "    feature_columns = ['bill_length_mm', 'bill_depth_mm', 'flipper_length_mm', 'body_mass_g']\n",
    "    target_column = \"species\"\n",
    "\n",
    "    features = penguins[feature_columns].values\n",
    "    targets = penguins[target_column].values\n",
    "    \n",
    "    # since the targets are categorical\n",
    "    # giving them int ids\n",
    "    target_ids_dict = dict()\n",
    "    unique_target_labels = set(targets)\n",
    "    _id = 0\n",
    "    for ul in unique_target_labels:\n",
    "        target_ids_dict[ul] = _id\n",
    "        _id += 1\n",
    "        \n",
    "    targets_converted = convert_label_to_ids(targets=targets, id_dict=target_ids_dict)\n",
    "    assert features.shape[0] == targets_converted.shape[0]\n",
    "    \n",
    "    \n",
    "    # normalize features\n",
    "    features_norm = preprocessing.normalize(features, norm=\"l2\")\n",
    "    \n",
    "        \n",
    "    # create train test split\n",
    "    features_train, features_test, targets_train, targets_test = train_test_split(\n",
    "        features_norm, targets_converted, test_size=0.3, random_state=42)\n",
    "    \n",
    "    return features_train, features_test, targets_train, targets_test"
   ]
  },
  {
   "cell_type": "code",
   "execution_count": 3,
   "id": "3a89e521",
   "metadata": {
    "ExecuteTime": {
     "end_time": "2022-12-03T08:43:53.650635Z",
     "start_time": "2022-12-03T08:43:53.630230Z"
    }
   },
   "outputs": [
    {
     "data": {
      "application/vnd.jupyter.widget-view+json": {
       "model_id": "857b75ba41664995a061fb85a4f3ef7d",
       "version_major": 2,
       "version_minor": 0
      },
      "text/plain": [
       "0it [00:00, ?it/s]"
      ]
     },
     "metadata": {},
     "output_type": "display_data"
    }
   ],
   "source": [
    "features_train, features_test, targets_train, targets_test = prepare_penguins_data()"
   ]
  },
  {
   "cell_type": "code",
   "execution_count": 4,
   "id": "360cf23c",
   "metadata": {
    "ExecuteTime": {
     "end_time": "2022-12-03T08:43:53.653567Z",
     "start_time": "2022-12-03T08:43:53.651609Z"
    }
   },
   "outputs": [
    {
     "name": "stdout",
     "output_type": "stream",
     "text": [
      "Train Size : 233\n",
      "Test Size: 100\n"
     ]
    }
   ],
   "source": [
    "print(f\"Train Size : {features_train.shape[0]}\")\n",
    "print(f\"Test Size: {features_test.shape[0]}\")"
   ]
  },
  {
   "cell_type": "markdown",
   "id": "f8a5e4ec",
   "metadata": {},
   "source": [
    "# Model"
   ]
  },
  {
   "cell_type": "code",
   "execution_count": 5,
   "id": "b010307b",
   "metadata": {
    "ExecuteTime": {
     "end_time": "2022-12-03T08:43:53.688291Z",
     "start_time": "2022-12-03T08:43:53.654412Z"
    }
   },
   "outputs": [],
   "source": [
    "import flax.linen as nn\n",
    "\n",
    "class PenguinFinder(nn.Module):\n",
    "    in_features: int =  4 # 4 columns with features to classify penguins\n",
    "    out_dim: int = 3 # number of classes\n",
    "        \n",
    "    @nn.compact\n",
    "    def __call__(self, x):\n",
    "        out = nn.Dense(features=self.in_features)(x)\n",
    "        out = nn.Dense(features=self.out_dim)(out)\n",
    "        out = nn.leaky_relu(out)\n",
    "        \n",
    "        # apply softmax\n",
    "        logits = jax.nn.softmax(out)\n",
    "        \n",
    "        return logits"
   ]
  },
  {
   "cell_type": "markdown",
   "id": "6b8acd18",
   "metadata": {},
   "source": [
    "# Training Setup"
   ]
  },
  {
   "cell_type": "markdown",
   "id": "cd0985d7",
   "metadata": {},
   "source": [
    "## PyTorch style train loop"
   ]
  },
  {
   "cell_type": "code",
   "execution_count": 6,
   "id": "43a68361",
   "metadata": {
    "ExecuteTime": {
     "end_time": "2022-12-03T08:43:53.730046Z",
     "start_time": "2022-12-03T08:43:53.689244Z"
    }
   },
   "outputs": [],
   "source": [
    "import optax\n",
    "from tqdm.notebook import trange\n",
    "\n",
    "def simple_train_loop(model, params, features, targets, ls_fn, lr=0.1, epochs=1000):\n",
    "    optimizer = optax.adam(learning_rate=lr)\n",
    "    opt_state = optimizer.init(params)\n",
    "    \n",
    "    # gradient of loss function\n",
    "    loss_grad_fn = jax.value_and_grad(ls_fn)\n",
    "    \n",
    "    # for visualization later\n",
    "    losses = list()\n",
    "    steps = list()\n",
    "    step_count = 0\n",
    "    \n",
    "    # ============ train loop ==============\n",
    "    for e in trange(epochs):\n",
    "        loss, grads = loss_grad_fn(params, features, targets)\n",
    "        updates, opt_state = optimizer.update(grads, opt_state)\n",
    "        params = optax.apply_updates(params, updates)\n",
    "        \n",
    "        if step_count % 50 == 0:\n",
    "            losses.append(loss)\n",
    "            steps.append(step_count)\n",
    "        step_count += 1\n",
    "        \n",
    "    # =========================\n",
    "    return params, losses, steps"
   ]
  },
  {
   "cell_type": "markdown",
   "id": "3cdbcf81",
   "metadata": {},
   "source": [
    "## jit + flax state"
   ]
  },
  {
   "cell_type": "code",
   "execution_count": 7,
   "id": "67d5ffc6",
   "metadata": {
    "ExecuteTime": {
     "end_time": "2022-12-03T08:43:53.735313Z",
     "start_time": "2022-12-03T08:43:53.731057Z"
    }
   },
   "outputs": [],
   "source": [
    "from flax.training import train_state\n",
    "\n",
    "\n",
    "\n",
    "def jit_train_loop(model, params, features, targets, ls_fn, lr=0.1, epochs=1000):\n",
    "    # flax model state\n",
    "    optimizer = optax.adam(learning_rate=0.1)\n",
    "    model_state = train_state.TrainState.create(\n",
    "        apply_fn=model.apply,\n",
    "        params=params,\n",
    "        tx = optimizer)\n",
    "    \n",
    "    # gradient of loss function\n",
    "    loss_grad_fn = jax.value_and_grad(ls_fn)\n",
    "    assert loss_grad_fn is not None\n",
    "    \n",
    "    # a single train step\n",
    "    @jax.jit\n",
    "    def train_step(state, xs, ys):\n",
    "        loss_value, grads = loss_grad_fn(state.params, xs, ys)\n",
    "        state = state.apply_gradients(grads=grads)\n",
    "        return loss_value, state\n",
    "    \n",
    "    \n",
    "    # ==================== for vis\n",
    "    losses = list()\n",
    "    steps = list()\n",
    "    step_count = 0\n",
    "    \n",
    "    # ==================== train loop\n",
    "    for e in trange(epochs):\n",
    "        loss, model_state = train_step(model_state, features, targets)\n",
    "        if step_count % 50 == 0:\n",
    "            losses.append(loss)\n",
    "            steps.append(step_count)\n",
    "        step_count += 1\n",
    "        \n",
    "    # ===============================\n",
    "    return model_state, losses, steps\n",
    "    \n"
   ]
  },
  {
   "cell_type": "markdown",
   "id": "d5ffdcb1",
   "metadata": {},
   "source": [
    "## Visualize Loss"
   ]
  },
  {
   "cell_type": "code",
   "execution_count": 8,
   "id": "31186dd5",
   "metadata": {
    "ExecuteTime": {
     "end_time": "2022-12-03T08:43:53.988661Z",
     "start_time": "2022-12-03T08:43:53.736141Z"
    }
   },
   "outputs": [],
   "source": [
    "%matplotlib inline\n",
    "import matplotlib.pyplot as plt\n",
    "import seaborn as sns\n",
    "\n",
    "sns.set()\n",
    "\n",
    "def vis(losses, steps):\n",
    "    sns.lineplot(x=np.array(steps), y=np.array(losses))\n",
    "    plt.show()"
   ]
  },
  {
   "cell_type": "markdown",
   "id": "235128f8",
   "metadata": {},
   "source": [
    "# Create two models and compare"
   ]
  },
  {
   "cell_type": "markdown",
   "id": "d0f2ce0b",
   "metadata": {},
   "source": [
    "## Init models"
   ]
  },
  {
   "cell_type": "code",
   "execution_count": 9,
   "id": "9c2ed41a",
   "metadata": {
    "ExecuteTime": {
     "end_time": "2022-12-03T08:43:55.259344Z",
     "start_time": "2022-12-03T08:43:53.989755Z"
    }
   },
   "outputs": [],
   "source": [
    "simple_model = PenguinFinder()\n",
    "jit_model = PenguinFinder()\n",
    "\n",
    "# PRNG keys\n",
    "master_key = jax.random.PRNGKey(1971)\n",
    "master_key, sub_key1, sub_key2 = jax.random.split(master_key, 3)\n",
    "\n",
    "# params from both models\n",
    "params_simple = simple_model.init(sub_key1, features_train[0])\n",
    "params_jit = jit_model.init(sub_key2, features_train[0])"
   ]
  },
  {
   "cell_type": "code",
   "execution_count": 10,
   "id": "28e4e75c",
   "metadata": {
    "ExecuteTime": {
     "end_time": "2022-12-03T08:43:55.263463Z",
     "start_time": "2022-12-03T08:43:55.260388Z"
    }
   },
   "outputs": [
    {
     "data": {
      "text/plain": [
       "FrozenDict({\n",
       "    params: {\n",
       "        Dense_0: {\n",
       "            kernel: DeviceArray([[-0.5805933 , -0.3038017 , -0.1599638 ,  0.13707566],\n",
       "                         [ 0.25928795, -0.53883463, -0.1308711 ,  0.02645478],\n",
       "                         [-0.817803  ,  0.0530334 , -0.689189  ,  0.75184387],\n",
       "                         [ 0.04453415, -0.10775283, -0.21034738,  0.45976543]],            dtype=float32),\n",
       "            bias: DeviceArray([0., 0., 0., 0.], dtype=float32),\n",
       "        },\n",
       "        Dense_1: {\n",
       "            kernel: DeviceArray([[-0.36507347,  0.40669972, -0.47204724],\n",
       "                         [-1.0150541 ,  1.0595707 , -0.64373904],\n",
       "                         [ 0.22301356,  1.0505154 ,  0.1534924 ],\n",
       "                         [ 0.9204447 , -0.36053044,  0.19022419]], dtype=float32),\n",
       "            bias: DeviceArray([0., 0., 0.], dtype=float32),\n",
       "        },\n",
       "    },\n",
       "})"
      ]
     },
     "execution_count": 10,
     "metadata": {},
     "output_type": "execute_result"
    }
   ],
   "source": [
    "params_simple"
   ]
  },
  {
   "cell_type": "code",
   "execution_count": 11,
   "id": "a47843e2",
   "metadata": {
    "ExecuteTime": {
     "end_time": "2022-12-03T08:43:55.277129Z",
     "start_time": "2022-12-03T08:43:55.265886Z"
    }
   },
   "outputs": [
    {
     "data": {
      "text/plain": [
       "FrozenDict({\n",
       "    params: {\n",
       "        Dense_0: {\n",
       "            kernel: DeviceArray([[-0.9005664 ,  0.66599697,  0.5845482 ,  0.04085948],\n",
       "                         [ 0.82358   , -0.31116712,  0.04395251,  0.97363275],\n",
       "                         [-0.7349991 , -0.1704876 , -0.81940633, -0.919815  ],\n",
       "                         [-0.33253327, -0.3536282 , -0.16050176,  0.87292576]],            dtype=float32),\n",
       "            bias: DeviceArray([0., 0., 0., 0.], dtype=float32),\n",
       "        },\n",
       "        Dense_1: {\n",
       "            kernel: DeviceArray([[-0.15390982, -0.20282869, -0.52689606],\n",
       "                         [-0.5096369 ,  1.0160853 , -0.08643549],\n",
       "                         [ 0.0984989 ,  0.63070726,  0.6486512 ],\n",
       "                         [-0.45895505,  0.2593311 , -0.534587  ]], dtype=float32),\n",
       "            bias: DeviceArray([0., 0., 0.], dtype=float32),\n",
       "        },\n",
       "    },\n",
       "})"
      ]
     },
     "execution_count": 11,
     "metadata": {},
     "output_type": "execute_result"
    }
   ],
   "source": [
    "params_jit"
   ]
  },
  {
   "cell_type": "markdown",
   "id": "27321a7a",
   "metadata": {},
   "source": [
    "## Loss functions"
   ]
  },
  {
   "cell_type": "code",
   "execution_count": 12,
   "id": "e44764e3",
   "metadata": {
    "ExecuteTime": {
     "end_time": "2022-12-03T08:43:55.281124Z",
     "start_time": "2022-12-03T08:43:55.278061Z"
    }
   },
   "outputs": [],
   "source": [
    "# simple \n",
    "@jax.jit\n",
    "def cross_entropy_simple(params, x, y):\n",
    "    logits = simple_model.apply(params, x)\n",
    "    return -jnp.log(logits[y])\n",
    "\n",
    "@jax.jit\n",
    "def calculate_loss_simple(params, xs, ys):\n",
    "    return jnp.mean(\n",
    "        jax.vmap(cross_entropy_simple, in_axes=(None, 0, 0))(params, xs, ys)\n",
    "    )"
   ]
  },
  {
   "cell_type": "code",
   "execution_count": 13,
   "id": "b4b13fce",
   "metadata": {
    "ExecuteTime": {
     "end_time": "2022-12-03T08:43:55.286497Z",
     "start_time": "2022-12-03T08:43:55.281956Z"
    }
   },
   "outputs": [],
   "source": [
    "# jit state\n",
    "\n",
    "@jax.jit\n",
    "def cross_entropy_jstate(params, x, y):\n",
    "    logits = jit_model.apply(params, x)\n",
    "    return -jnp.log(logits[y])\n",
    "\n",
    "@jax.jit\n",
    "def calculate_loss_jstate(params, xs, ys):\n",
    "    return jnp.mean(\n",
    "        jax.vmap(cross_entropy_jstate, in_axes=(None, 0, 0))(params, xs, ys)\n",
    "    )"
   ]
  },
  {
   "cell_type": "markdown",
   "id": "70208d4d",
   "metadata": {},
   "source": [
    "## Evaluate"
   ]
  },
  {
   "cell_type": "code",
   "execution_count": 14,
   "id": "fef77105",
   "metadata": {
    "ExecuteTime": {
     "end_time": "2022-12-03T08:43:55.291473Z",
     "start_time": "2022-12-03T08:43:55.287336Z"
    }
   },
   "outputs": [],
   "source": [
    "# jit model\n",
    "@jax.jit\n",
    "def test_step(state, x):\n",
    "    logits = jit_model.apply(state.params, x)\n",
    "    out = jnp.argmax(logits, axis=-1)\n",
    "    \n",
    "    return out\n",
    "    \n",
    "\n",
    "@jax.jit\n",
    "def test(state, xs):\n",
    "    return jax.vmap(test_step, in_axes=(None, 0))(state, xs)"
   ]
  },
  {
   "cell_type": "code",
   "execution_count": 15,
   "id": "ac8eefcb",
   "metadata": {
    "ExecuteTime": {
     "end_time": "2022-12-03T08:43:55.296588Z",
     "start_time": "2022-12-03T08:43:55.292340Z"
    }
   },
   "outputs": [],
   "source": [
    "# simple model\n",
    "\n",
    "@jax.jit\n",
    "def test_step(params, x):\n",
    "    logits = simple_model.apply(params, x)\n",
    "    out = jnp.argmax(logits, axis=-1)\n",
    "    \n",
    "    return out\n",
    "\n",
    "@jax.jit\n",
    "def test(params, xs):\n",
    "    return jax.vmap(test_step, in_axes=(None, 0))(params, xs)"
   ]
  },
  {
   "cell_type": "code",
   "execution_count": 16,
   "id": "4a7bba6b",
   "metadata": {
    "ExecuteTime": {
     "end_time": "2022-12-03T08:43:55.301239Z",
     "start_time": "2022-12-03T08:43:55.297592Z"
    }
   },
   "outputs": [],
   "source": [
    "from sklearn.metrics import classification_report\n",
    "\n",
    "def report(pred, true):\n",
    "    report = classification_report(y_pred=pred, y_true=true)\n",
    "    print(report)"
   ]
  },
  {
   "cell_type": "markdown",
   "id": "f7f4d6e1",
   "metadata": {},
   "source": [
    "## Train"
   ]
  },
  {
   "cell_type": "code",
   "execution_count": 17,
   "id": "80724c6c",
   "metadata": {
    "ExecuteTime": {
     "end_time": "2022-12-03T08:44:39.668964Z",
     "start_time": "2022-12-03T08:43:55.302022Z"
    }
   },
   "outputs": [
    {
     "data": {
      "application/vnd.jupyter.widget-view+json": {
       "model_id": "47483dfd74a846ffb975a6f67c1d9cdc",
       "version_major": 2,
       "version_minor": 0
      },
      "text/plain": [
       "  0%|          | 0/1000 [00:00<?, ?it/s]"
      ]
     },
     "metadata": {},
     "output_type": "display_data"
    }
   ],
   "source": [
    "trained_params_simple, losses_simple, steps_simple = simple_train_loop(\n",
    "    model=simple_model, \n",
    "    params=params_simple, \n",
    "    features=features_train, \n",
    "    targets=targets_train,\n",
    "    ls_fn=calculate_loss_simple,\n",
    "    lr=0.1, \n",
    "    epochs=1000)"
   ]
  },
  {
   "cell_type": "code",
   "execution_count": 18,
   "id": "59ea2dbb",
   "metadata": {
    "ExecuteTime": {
     "end_time": "2022-12-03T08:44:40.160948Z",
     "start_time": "2022-12-03T08:44:39.669993Z"
    }
   },
   "outputs": [
    {
     "data": {
      "application/vnd.jupyter.widget-view+json": {
       "model_id": "e72ec4b4d11d485b8d373a586f01062e",
       "version_major": 2,
       "version_minor": 0
      },
      "text/plain": [
       "  0%|          | 0/1000 [00:00<?, ?it/s]"
      ]
     },
     "metadata": {},
     "output_type": "display_data"
    }
   ],
   "source": [
    "trained_params_jit, losses_jit, steps_jit = jit_train_loop(\n",
    "    model=jit_model, \n",
    "    params=params_jit, \n",
    "    features=features_train, \n",
    "    targets=targets_train,\n",
    "    ls_fn=calculate_loss_jstate,\n",
    "    lr=0.1, \n",
    "    epochs=1000)"
   ]
  },
  {
   "cell_type": "markdown",
   "id": "454dec39",
   "metadata": {},
   "source": [
    "# Visualization and Evaluation"
   ]
  },
  {
   "cell_type": "code",
   "execution_count": 19,
   "id": "94d77b2a",
   "metadata": {
    "ExecuteTime": {
     "end_time": "2022-12-03T08:44:40.262718Z",
     "start_time": "2022-12-03T08:44:40.162432Z"
    }
   },
   "outputs": [
    {
     "data": {
      "image/png": "[encoded data removed]",
      "text/plain": [
       "<Figure size 640x480 with 1 Axes>"
      ]
     },
     "metadata": {},
     "output_type": "display_data"
    }
   ],
   "source": [
    "vis(losses_simple, steps_simple)"
   ]
  },
  {
   "cell_type": "code",
   "execution_count": 20,
   "id": "66422b89",
   "metadata": {
    "ExecuteTime": {
     "end_time": "2022-12-03T08:44:40.353646Z",
     "start_time": "2022-12-03T08:44:40.263802Z"
    }
   },
   "outputs": [
    {
     "data": {
      "image/png": "[encoded data removed]",
      "text/plain": [
       "<Figure size 640x480 with 1 Axes>"
      ]
     },
     "metadata": {},
     "output_type": "display_data"
    }
   ],
   "source": [
    "vis(losses_jit, steps_jit)"
   ]
  },
  {
   "cell_type": "code",
   "execution_count": 21,
   "id": "f274c6e7",
   "metadata": {
    "ExecuteTime": {
     "end_time": "2022-12-03T08:44:40.561382Z",
     "start_time": "2022-12-03T08:44:40.354699Z"
    }
   },
   "outputs": [
    {
     "name": "stdout",
     "output_type": "stream",
     "text": [
      "              precision    recall  f1-score   support\n",
      "\n",
      "           0       0.97      1.00      0.98        29\n",
      "           1       0.95      0.91      0.93        23\n",
      "           2       0.96      0.96      0.96        48\n",
      "\n",
      "    accuracy                           0.96       100\n",
      "   macro avg       0.96      0.96      0.96       100\n",
      "weighted avg       0.96      0.96      0.96       100\n",
      "\n"
     ]
    }
   ],
   "source": [
    "# simple\n",
    "report(pred=test(trained_params_simple, features_test), true=targets_test)"
   ]
  },
  {
   "cell_type": "code",
   "execution_count": 22,
   "id": "c6536178",
   "metadata": {
    "ExecuteTime": {
     "end_time": "2022-12-03T08:44:40.566470Z",
     "start_time": "2022-12-03T08:44:40.562461Z"
    }
   },
   "outputs": [
    {
     "name": "stdout",
     "output_type": "stream",
     "text": [
      "              precision    recall  f1-score   support\n",
      "\n",
      "           0       0.97      1.00      0.98        29\n",
      "           1       0.95      0.91      0.93        23\n",
      "           2       0.96      0.96      0.96        48\n",
      "\n",
      "    accuracy                           0.96       100\n",
      "   macro avg       0.96      0.96      0.96       100\n",
      "weighted avg       0.96      0.96      0.96       100\n",
      "\n"
     ]
    }
   ],
   "source": [
    "# jit state\n",
    "report(pred=test(trained_params_jit.params, features_test), true=targets_test)"
   ]
  },
  {
   "cell_type": "code",
   "execution_count": null,
   "id": "f844420a",
   "metadata": {},
   "outputs": [],
   "source": []
  }
 ],
 "metadata": {
  "kernelspec": {
   "display_name": "Python 3 (ipykernel)",
   "language": "python",
   "name": "python3"
  },
  "language_info": {
   "codemirror_mode": {
    "name": "ipython",
    "version": 3
   },
   "file_extension": ".py",
   "mimetype": "text/x-python",
   "name": "python",
   "nbconvert_exporter": "python",
   "pygments_lexer": "ipython3",
   "version": "3.10.8"
  },
  "toc": {
   "base_numbering": 1,
   "nav_menu": {},
   "number_sections": true,
   "sideBar": true,
   "skip_h1_title": false,
   "title_cell": "Table of Contents",
   "title_sidebar": "Contents",
   "toc_cell": false,
   "toc_position": {},
   "toc_section_display": true,
   "toc_window_display": false
  },
  "varInspector": {
   "cols": {
    "lenName": 16,
    "lenType": 16,
    "lenVar": 40
   },
   "kernels_config": {
    "python": {
     "delete_cmd_postfix": "",
     "delete_cmd_prefix": "del ",
     "library": "var_list.py",
     "varRefreshCmd": "print(var_dic_list())"
    },
    "r": {
     "delete_cmd_postfix": ") ",
     "delete_cmd_prefix": "rm(",
     "library": "var_list.r",
     "varRefreshCmd": "cat(var_dic_list()) "
    }
   },
   "types_to_exclude": [
    "module",
    "function",
    "builtin_function_or_method",
    "instance",
    "_Feature"
   ],
   "window_display": false
  }
 },
 "nbformat": 4,
 "nbformat_minor": 5
}
