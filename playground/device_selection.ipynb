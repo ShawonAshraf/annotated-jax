{
 "cells": [
  {
   "cell_type": "markdown",
   "id": "1298ec8a",
   "metadata": {},
   "source": [
    "Setting CPU or GPU as a device in JAX\n",
    "\n",
    "https://jax.readthedocs.io/en/latest/faq.html#controlling-data-and-computation-placement-on-devices\n",
    "\n",
    "https://github.com/google/jax/issues/2851"
   ]
  },
  {
   "cell_type": "code",
   "execution_count": 1,
   "id": "03551d10",
   "metadata": {},
   "outputs": [],
   "source": [
    "#import os\n",
    "\n",
    "#os.environ[\"JAX_PLATFORM_NAME\"] = \"cpu\""
   ]
  },
  {
   "cell_type": "code",
   "execution_count": 2,
   "id": "062bc4cd",
   "metadata": {},
   "outputs": [],
   "source": [
    "import jax as J\n",
    "import jax.numpy as jnp"
   ]
  },
  {
   "cell_type": "code",
   "execution_count": 3,
   "id": "cb7e443b",
   "metadata": {},
   "outputs": [
    {
     "data": {
      "text/plain": [
       "[<jaxlib.xla_extension.Device at 0x1b64d3d28b0>]"
      ]
     },
     "execution_count": 3,
     "metadata": {},
     "output_type": "execute_result"
    }
   ],
   "source": [
    "cpus  = J.devices(\"cpu\")\n",
    "cpus"
   ]
  },
  {
   "cell_type": "code",
   "execution_count": 4,
   "id": "a841f2ab",
   "metadata": {},
   "outputs": [],
   "source": [
    "x_cpu = J.device_put(jnp.ones(shape=(1000, 5000)), cpus[0])"
   ]
  },
  {
   "cell_type": "code",
   "execution_count": 6,
   "id": "7ccbd24a",
   "metadata": {},
   "outputs": [
    {
     "data": {
      "text/plain": [
       "<jaxlib.xla_extension.Device at 0x1b64d3d28b0>"
      ]
     },
     "execution_count": 6,
     "metadata": {},
     "output_type": "execute_result"
    }
   ],
   "source": [
    "x_cpu.device_buffer.device()"
   ]
  },
  {
   "cell_type": "code",
   "execution_count": 7,
   "id": "074782c8",
   "metadata": {},
   "outputs": [
    {
     "data": {
      "text/plain": [
       "GpuDevice(id=0, process_index=0)"
      ]
     },
     "execution_count": 7,
     "metadata": {},
     "output_type": "execute_result"
    }
   ],
   "source": [
    "gpus = J.devices(\"gpu\")\n",
    "\n",
    "x_gpu = J.device_put(jnp.ones(shape=(100, 50)), gpus[0])\n",
    "\n",
    "x_gpu.device_buffer.device()"
   ]
  },
  {
   "cell_type": "code",
   "execution_count": 9,
   "id": "82256fd4",
   "metadata": {},
   "outputs": [],
   "source": [
    "from jax import jit\n",
    "\n",
    "def f(x):\n",
    "    return jnp.sin(x) + jnp.cos(x)"
   ]
  },
  {
   "cell_type": "code",
   "execution_count": 10,
   "id": "d834d362",
   "metadata": {},
   "outputs": [],
   "source": [
    "f_cpu = J.jit(f, device=cpus[0])\n",
    "f_gpu = J.jit(f, device=gpus[0])"
   ]
  },
  {
   "cell_type": "code",
   "execution_count": 11,
   "id": "7ac8bc34",
   "metadata": {},
   "outputs": [
    {
     "name": "stdout",
     "output_type": "stream",
     "text": [
      "10.3 ms ± 133 µs per loop (mean ± std. dev. of 7 runs, 100 loops each)\n"
     ]
    }
   ],
   "source": [
    "%timeit f_cpu(x_cpu)"
   ]
  },
  {
   "cell_type": "code",
   "execution_count": 12,
   "id": "1b7fd64f",
   "metadata": {},
   "outputs": [
    {
     "name": "stdout",
     "output_type": "stream",
     "text": [
      "10.4 ms ± 22.9 µs per loop (mean ± std. dev. of 7 runs, 100 loops each)\n"
     ]
    }
   ],
   "source": [
    "%timeit f_cpu(x_cpu)"
   ]
  },
  {
   "cell_type": "code",
   "execution_count": 13,
   "id": "14106441",
   "metadata": {},
   "outputs": [
    {
     "name": "stdout",
     "output_type": "stream",
     "text": [
      "43.9 µs ± 567 ns per loop (mean ± std. dev. of 7 runs, 10000 loops each)\n"
     ]
    }
   ],
   "source": [
    "%timeit f_gpu(x_gpu)"
   ]
  },
  {
   "cell_type": "code",
   "execution_count": 14,
   "id": "ed26cc05",
   "metadata": {},
   "outputs": [
    {
     "name": "stdout",
     "output_type": "stream",
     "text": [
      "44.1 µs ± 1.01 µs per loop (mean ± std. dev. of 7 runs, 10000 loops each)\n"
     ]
    }
   ],
   "source": [
    "%timeit f_gpu(x_gpu)"
   ]
  },
  {
   "cell_type": "code",
   "execution_count": null,
   "id": "43096f1d",
   "metadata": {},
   "outputs": [],
   "source": []
  }
 ],
 "metadata": {
  "kernelspec": {
   "display_name": "Python 3 (ipykernel)",
   "language": "python",
   "name": "python3"
  },
  "language_info": {
   "codemirror_mode": {
    "name": "ipython",
    "version": 3
   },
   "file_extension": ".py",
   "mimetype": "text/x-python",
   "name": "python",
   "nbconvert_exporter": "python",
   "pygments_lexer": "ipython3",
   "version": "3.9.7"
  }
 },
 "nbformat": 4,
 "nbformat_minor": 5
}
