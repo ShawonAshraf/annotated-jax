{
 "cells": [
  {
   "cell_type": "code",
   "execution_count": 1,
   "id": "5a25f937",
   "metadata": {
    "ExecuteTime": {
     "end_time": "2022-12-03T05:26:35.752613Z",
     "start_time": "2022-12-03T05:26:35.540771Z"
    }
   },
   "outputs": [],
   "source": [
    "import numpy as np\n",
    "import pandas as pd\n",
    "\n",
    "from palmerpenguins import load_penguins"
   ]
  },
  {
   "cell_type": "code",
   "execution_count": 2,
   "id": "f506cc08",
   "metadata": {
    "ExecuteTime": {
     "end_time": "2022-12-03T05:26:36.221145Z",
     "start_time": "2022-12-03T05:26:35.754342Z"
    }
   },
   "outputs": [],
   "source": [
    "import jax\n",
    "import jax.numpy as jnp\n",
    "import flax.linen as nn\n",
    "import optax"
   ]
  },
  {
   "cell_type": "code",
   "execution_count": 3,
   "id": "b99c4c8f",
   "metadata": {
    "ExecuteTime": {
     "end_time": "2022-12-03T05:26:36.225787Z",
     "start_time": "2022-12-03T05:26:36.222204Z"
    }
   },
   "outputs": [],
   "source": [
    "penguins = load_penguins()"
   ]
  },
  {
   "cell_type": "code",
   "execution_count": 4,
   "id": "1d9bf451",
   "metadata": {
    "ExecuteTime": {
     "end_time": "2022-12-03T05:26:36.237493Z",
     "start_time": "2022-12-03T05:26:36.226864Z"
    }
   },
   "outputs": [
    {
     "data": {
      "text/html": [
       "<div>\n",
       "<style scoped>\n",
       "    .dataframe tbody tr th:only-of-type {\n",
       "        vertical-align: middle;\n",
       "    }\n",
       "\n",
       "    .dataframe tbody tr th {\n",
       "        vertical-align: top;\n",
       "    }\n",
       "\n",
       "    .dataframe thead th {\n",
       "        text-align: right;\n",
       "    }\n",
       "</style>\n",
       "<table border=\"1\" class=\"dataframe\">\n",
       "  <thead>\n",
       "    <tr style=\"text-align: right;\">\n",
       "      <th></th>\n",
       "      <th>species</th>\n",
       "      <th>island</th>\n",
       "      <th>bill_length_mm</th>\n",
       "      <th>bill_depth_mm</th>\n",
       "      <th>flipper_length_mm</th>\n",
       "      <th>body_mass_g</th>\n",
       "      <th>sex</th>\n",
       "      <th>year</th>\n",
       "    </tr>\n",
       "  </thead>\n",
       "  <tbody>\n",
       "    <tr>\n",
       "      <th>0</th>\n",
       "      <td>Adelie</td>\n",
       "      <td>Torgersen</td>\n",
       "      <td>39.1</td>\n",
       "      <td>18.7</td>\n",
       "      <td>181.0</td>\n",
       "      <td>3750.0</td>\n",
       "      <td>male</td>\n",
       "      <td>2007</td>\n",
       "    </tr>\n",
       "    <tr>\n",
       "      <th>1</th>\n",
       "      <td>Adelie</td>\n",
       "      <td>Torgersen</td>\n",
       "      <td>39.5</td>\n",
       "      <td>17.4</td>\n",
       "      <td>186.0</td>\n",
       "      <td>3800.0</td>\n",
       "      <td>female</td>\n",
       "      <td>2007</td>\n",
       "    </tr>\n",
       "    <tr>\n",
       "      <th>2</th>\n",
       "      <td>Adelie</td>\n",
       "      <td>Torgersen</td>\n",
       "      <td>40.3</td>\n",
       "      <td>18.0</td>\n",
       "      <td>195.0</td>\n",
       "      <td>3250.0</td>\n",
       "      <td>female</td>\n",
       "      <td>2007</td>\n",
       "    </tr>\n",
       "    <tr>\n",
       "      <th>3</th>\n",
       "      <td>Adelie</td>\n",
       "      <td>Torgersen</td>\n",
       "      <td>NaN</td>\n",
       "      <td>NaN</td>\n",
       "      <td>NaN</td>\n",
       "      <td>NaN</td>\n",
       "      <td>NaN</td>\n",
       "      <td>2007</td>\n",
       "    </tr>\n",
       "    <tr>\n",
       "      <th>4</th>\n",
       "      <td>Adelie</td>\n",
       "      <td>Torgersen</td>\n",
       "      <td>36.7</td>\n",
       "      <td>19.3</td>\n",
       "      <td>193.0</td>\n",
       "      <td>3450.0</td>\n",
       "      <td>female</td>\n",
       "      <td>2007</td>\n",
       "    </tr>\n",
       "  </tbody>\n",
       "</table>\n",
       "</div>"
      ],
      "text/plain": [
       "  species     island  bill_length_mm  bill_depth_mm  flipper_length_mm  \\\n",
       "0  Adelie  Torgersen            39.1           18.7              181.0   \n",
       "1  Adelie  Torgersen            39.5           17.4              186.0   \n",
       "2  Adelie  Torgersen            40.3           18.0              195.0   \n",
       "3  Adelie  Torgersen             NaN            NaN                NaN   \n",
       "4  Adelie  Torgersen            36.7           19.3              193.0   \n",
       "\n",
       "   body_mass_g     sex  year  \n",
       "0       3750.0    male  2007  \n",
       "1       3800.0  female  2007  \n",
       "2       3250.0  female  2007  \n",
       "3          NaN     NaN  2007  \n",
       "4       3450.0  female  2007  "
      ]
     },
     "execution_count": 4,
     "metadata": {},
     "output_type": "execute_result"
    }
   ],
   "source": [
    "penguins.head()"
   ]
  },
  {
   "cell_type": "code",
   "execution_count": 5,
   "id": "397390c6",
   "metadata": {
    "ExecuteTime": {
     "end_time": "2022-12-03T05:26:36.241657Z",
     "start_time": "2022-12-03T05:26:36.238329Z"
    }
   },
   "outputs": [
    {
     "data": {
      "text/plain": [
       "species              344\n",
       "island               344\n",
       "bill_length_mm       342\n",
       "bill_depth_mm        342\n",
       "flipper_length_mm    342\n",
       "body_mass_g          342\n",
       "sex                  333\n",
       "year                 344\n",
       "dtype: int64"
      ]
     },
     "execution_count": 5,
     "metadata": {},
     "output_type": "execute_result"
    }
   ],
   "source": [
    "penguins.count()"
   ]
  },
  {
   "cell_type": "code",
   "execution_count": 6,
   "id": "6bbb788c",
   "metadata": {
    "ExecuteTime": {
     "end_time": "2022-12-03T05:26:36.250223Z",
     "start_time": "2022-12-03T05:26:36.242393Z"
    }
   },
   "outputs": [
    {
     "data": {
      "text/html": [
       "<div>\n",
       "<style scoped>\n",
       "    .dataframe tbody tr th:only-of-type {\n",
       "        vertical-align: middle;\n",
       "    }\n",
       "\n",
       "    .dataframe tbody tr th {\n",
       "        vertical-align: top;\n",
       "    }\n",
       "\n",
       "    .dataframe thead th {\n",
       "        text-align: right;\n",
       "    }\n",
       "</style>\n",
       "<table border=\"1\" class=\"dataframe\">\n",
       "  <thead>\n",
       "    <tr style=\"text-align: right;\">\n",
       "      <th></th>\n",
       "      <th>species</th>\n",
       "      <th>island</th>\n",
       "      <th>bill_length_mm</th>\n",
       "      <th>bill_depth_mm</th>\n",
       "      <th>flipper_length_mm</th>\n",
       "      <th>body_mass_g</th>\n",
       "      <th>sex</th>\n",
       "      <th>year</th>\n",
       "    </tr>\n",
       "  </thead>\n",
       "  <tbody>\n",
       "    <tr>\n",
       "      <th>0</th>\n",
       "      <td>Adelie</td>\n",
       "      <td>Torgersen</td>\n",
       "      <td>39.1</td>\n",
       "      <td>18.7</td>\n",
       "      <td>181.0</td>\n",
       "      <td>3750.0</td>\n",
       "      <td>male</td>\n",
       "      <td>2007</td>\n",
       "    </tr>\n",
       "    <tr>\n",
       "      <th>1</th>\n",
       "      <td>Adelie</td>\n",
       "      <td>Torgersen</td>\n",
       "      <td>39.5</td>\n",
       "      <td>17.4</td>\n",
       "      <td>186.0</td>\n",
       "      <td>3800.0</td>\n",
       "      <td>female</td>\n",
       "      <td>2007</td>\n",
       "    </tr>\n",
       "    <tr>\n",
       "      <th>2</th>\n",
       "      <td>Adelie</td>\n",
       "      <td>Torgersen</td>\n",
       "      <td>40.3</td>\n",
       "      <td>18.0</td>\n",
       "      <td>195.0</td>\n",
       "      <td>3250.0</td>\n",
       "      <td>female</td>\n",
       "      <td>2007</td>\n",
       "    </tr>\n",
       "    <tr>\n",
       "      <th>4</th>\n",
       "      <td>Adelie</td>\n",
       "      <td>Torgersen</td>\n",
       "      <td>36.7</td>\n",
       "      <td>19.3</td>\n",
       "      <td>193.0</td>\n",
       "      <td>3450.0</td>\n",
       "      <td>female</td>\n",
       "      <td>2007</td>\n",
       "    </tr>\n",
       "    <tr>\n",
       "      <th>5</th>\n",
       "      <td>Adelie</td>\n",
       "      <td>Torgersen</td>\n",
       "      <td>39.3</td>\n",
       "      <td>20.6</td>\n",
       "      <td>190.0</td>\n",
       "      <td>3650.0</td>\n",
       "      <td>male</td>\n",
       "      <td>2007</td>\n",
       "    </tr>\n",
       "  </tbody>\n",
       "</table>\n",
       "</div>"
      ],
      "text/plain": [
       "  species     island  bill_length_mm  bill_depth_mm  flipper_length_mm  \\\n",
       "0  Adelie  Torgersen            39.1           18.7              181.0   \n",
       "1  Adelie  Torgersen            39.5           17.4              186.0   \n",
       "2  Adelie  Torgersen            40.3           18.0              195.0   \n",
       "4  Adelie  Torgersen            36.7           19.3              193.0   \n",
       "5  Adelie  Torgersen            39.3           20.6              190.0   \n",
       "\n",
       "   body_mass_g     sex  year  \n",
       "0       3750.0    male  2007  \n",
       "1       3800.0  female  2007  \n",
       "2       3250.0  female  2007  \n",
       "4       3450.0  female  2007  \n",
       "5       3650.0    male  2007  "
      ]
     },
     "execution_count": 6,
     "metadata": {},
     "output_type": "execute_result"
    }
   ],
   "source": [
    "# drop NaN\n",
    "\n",
    "penguins = penguins.dropna()\n",
    "penguins.head()"
   ]
  },
  {
   "cell_type": "code",
   "execution_count": 7,
   "id": "c2af5225",
   "metadata": {
    "ExecuteTime": {
     "end_time": "2022-12-03T05:26:36.255161Z",
     "start_time": "2022-12-03T05:26:36.250955Z"
    }
   },
   "outputs": [],
   "source": [
    "feature_columns = ['bill_length_mm', 'bill_depth_mm', 'flipper_length_mm', 'body_mass_g']\n",
    "target_column = \"species\"\n",
    "\n",
    "features = penguins[feature_columns].values\n",
    "targets = penguins[target_column].values"
   ]
  },
  {
   "cell_type": "code",
   "execution_count": 8,
   "id": "a05f0ce3",
   "metadata": {
    "ExecuteTime": {
     "end_time": "2022-12-03T05:26:36.260549Z",
     "start_time": "2022-12-03T05:26:36.256035Z"
    }
   },
   "outputs": [
    {
     "data": {
      "text/plain": [
       "{'Adelie': 0, 'Gentoo': 1, 'Chinstrap': 2}"
      ]
     },
     "execution_count": 8,
     "metadata": {},
     "output_type": "execute_result"
    }
   ],
   "source": [
    "# target label dict\n",
    "target_ids_dict = dict()\n",
    "\n",
    "unique_target_labels = set(targets)\n",
    "_id = 0\n",
    "for ul in unique_target_labels:\n",
    "    target_ids_dict[ul] = _id\n",
    "    _id += 1\n",
    "    \n",
    "target_ids_dict"
   ]
  },
  {
   "cell_type": "code",
   "execution_count": 9,
   "id": "de7e9bf1",
   "metadata": {
    "ExecuteTime": {
     "end_time": "2022-12-03T05:26:36.304859Z",
     "start_time": "2022-12-03T05:26:36.261443Z"
    }
   },
   "outputs": [
    {
     "data": {
      "application/vnd.jupyter.widget-view+json": {
       "model_id": "9b33247d0e7d479b8ccf98384b6b00d7",
       "version_major": 2,
       "version_minor": 0
      },
      "text/plain": [
       "0it [00:00, ?it/s]"
      ]
     },
     "metadata": {},
     "output_type": "display_data"
    }
   ],
   "source": [
    "from tqdm.notebook import tqdm\n",
    "\n",
    "# convert target labels to integers using the same dict\n",
    "\n",
    "\n",
    "def convert_label_to_ids(targets, id_dict):\n",
    "    converted_targets = np.zeros(shape=(len(targets, )), dtype=np.int32)\n",
    "    for idx, target in tqdm(enumerate(targets)):\n",
    "        converted_targets[idx] = id_dict[target]\n",
    "\n",
    "    return converted_targets\n",
    "\n",
    "\n",
    "targets_converted = convert_label_to_ids(targets=targets, id_dict=target_ids_dict)"
   ]
  },
  {
   "cell_type": "code",
   "execution_count": 10,
   "id": "1d48a2f0",
   "metadata": {
    "ExecuteTime": {
     "end_time": "2022-12-03T05:26:36.307672Z",
     "start_time": "2022-12-03T05:26:36.305815Z"
    }
   },
   "outputs": [],
   "source": [
    "assert features.shape[0] == targets_converted.shape[0]"
   ]
  },
  {
   "cell_type": "code",
   "execution_count": 11,
   "id": "0455ffbe",
   "metadata": {
    "ExecuteTime": {
     "end_time": "2022-12-03T05:26:36.357921Z",
     "start_time": "2022-12-03T05:26:36.310524Z"
    }
   },
   "outputs": [],
   "source": [
    "from sklearn import preprocessing\n",
    "\n",
    "features_norm = preprocessing.normalize(features, norm=\"l2\")"
   ]
  },
  {
   "cell_type": "code",
   "execution_count": 12,
   "id": "e16147eb",
   "metadata": {
    "ExecuteTime": {
     "end_time": "2022-12-03T05:26:36.367678Z",
     "start_time": "2022-12-03T05:26:36.358978Z"
    },
    "code_folding": []
   },
   "outputs": [],
   "source": [
    "# create train test split. Dataset is pretty small so can't really make a validation set here\n",
    "from sklearn.model_selection import train_test_split\n",
    "\n",
    "features_train, features_test, targets_train, targets_test = train_test_split(\n",
    "    features_norm, targets_converted, test_size=0.3, random_state=42)"
   ]
  },
  {
   "cell_type": "code",
   "execution_count": 13,
   "id": "448d7853",
   "metadata": {
    "ExecuteTime": {
     "end_time": "2022-12-03T05:26:36.452790Z",
     "start_time": "2022-12-03T05:26:36.368631Z"
    }
   },
   "outputs": [],
   "source": [
    "features_train = jnp.array(features_train)\n",
    "features_test = jnp.array(features_test)\n",
    "targets_train = jnp.array(targets_train)\n",
    "targets_test = jnp.array(targets_test)"
   ]
  },
  {
   "cell_type": "code",
   "execution_count": 14,
   "id": "cc0b202e",
   "metadata": {
    "ExecuteTime": {
     "end_time": "2022-12-03T05:26:36.455730Z",
     "start_time": "2022-12-03T05:26:36.453674Z"
    }
   },
   "outputs": [
    {
     "name": "stdout",
     "output_type": "stream",
     "text": [
      "Train Size : 233\n",
      "Test Size: 100\n"
     ]
    }
   ],
   "source": [
    "print(f\"Train Size : {features_train.shape[0]}\")\n",
    "print(f\"Test Size: {features_test.shape[0]}\")"
   ]
  },
  {
   "cell_type": "code",
   "execution_count": 15,
   "id": "c52fa234",
   "metadata": {
    "ExecuteTime": {
     "end_time": "2022-12-03T05:26:36.460952Z",
     "start_time": "2022-12-03T05:26:36.456478Z"
    }
   },
   "outputs": [],
   "source": [
    "class PenguinFinder(nn.Module):\n",
    "    in_features: int =  4 # 4 columns with features to classify penguins\n",
    "    hidden_dim: int = 4\n",
    "    out_dim: int = 3 # number of classes\n",
    "        \n",
    "    @nn.compact\n",
    "    def __call__(self, x):\n",
    "        out = nn.Dense(features=self.in_features)(x)\n",
    "        out = nn.Dense(features=self.hidden_dim)(out)\n",
    "        out = nn.leaky_relu(out)\n",
    "        \n",
    "        # apply softmax\n",
    "        logits = jax.nn.softmax(out)\n",
    "        \n",
    "        return logits"
   ]
  },
  {
   "cell_type": "code",
   "execution_count": 16,
   "id": "d23fc860",
   "metadata": {
    "ExecuteTime": {
     "end_time": "2022-12-03T05:26:37.355067Z",
     "start_time": "2022-12-03T05:26:36.461687Z"
    }
   },
   "outputs": [],
   "source": [
    "rng = jax.random.PRNGKey(42)\n",
    "\n",
    "model = PenguinFinder()\n",
    "params = model.init(rng, features_train[0])"
   ]
  },
  {
   "cell_type": "code",
   "execution_count": 17,
   "id": "e2d329d1",
   "metadata": {
    "ExecuteTime": {
     "end_time": "2022-12-03T05:26:37.359291Z",
     "start_time": "2022-12-03T05:26:37.356222Z"
    }
   },
   "outputs": [
    {
     "data": {
      "text/plain": [
       "FrozenDict({\n",
       "    params: {\n",
       "        Dense_0: {\n",
       "            kernel: DeviceArray([[-0.08309741,  0.62912625, -0.16815168,  0.16308075],\n",
       "                         [ 0.08364423,  0.48755625,  0.7825095 , -0.15177737],\n",
       "                         [-0.66532636,  0.11095859, -0.07868695, -0.5322201 ],\n",
       "                         [ 0.5642229 ,  0.57618606, -0.4533119 , -0.18674311]],            dtype=float32),\n",
       "            bias: DeviceArray([0., 0., 0., 0.], dtype=float32),\n",
       "        },\n",
       "        Dense_1: {\n",
       "            kernel: DeviceArray([[ 0.01293683, -0.1283617 , -0.00723918, -0.0592929 ],\n",
       "                         [-0.79303294,  0.741729  ,  0.22723791, -0.20607322],\n",
       "                         [ 0.11693704,  0.6277427 , -0.20141304,  0.51093733],\n",
       "                         [ 0.9667059 , -0.01717042,  0.25071916,  0.40597463]],            dtype=float32),\n",
       "            bias: DeviceArray([0., 0., 0., 0.], dtype=float32),\n",
       "        },\n",
       "    },\n",
       "})"
      ]
     },
     "execution_count": 17,
     "metadata": {},
     "output_type": "execute_result"
    }
   ],
   "source": [
    "params"
   ]
  },
  {
   "cell_type": "code",
   "execution_count": 18,
   "id": "2aa46382",
   "metadata": {
    "ExecuteTime": {
     "end_time": "2022-12-03T05:26:37.393170Z",
     "start_time": "2022-12-03T05:26:37.360131Z"
    }
   },
   "outputs": [
    {
     "data": {
      "text/plain": [
       "DeviceArray([0.23273471, 0.25657552, 0.27736816, 0.23332164], dtype=float32)"
      ]
     },
     "execution_count": 18,
     "metadata": {},
     "output_type": "execute_result"
    }
   ],
   "source": [
    "model.apply(params, features_train[0])"
   ]
  },
  {
   "cell_type": "code",
   "execution_count": 19,
   "id": "64d7659e",
   "metadata": {
    "ExecuteTime": {
     "end_time": "2022-12-03T05:26:37.396224Z",
     "start_time": "2022-12-03T05:26:37.394175Z"
    }
   },
   "outputs": [],
   "source": [
    "@jax.jit\n",
    "def cross_entropy(params, x, y):\n",
    "    logits = model.apply(params, x)\n",
    "    return -jnp.log(logits[y])"
   ]
  },
  {
   "cell_type": "code",
   "execution_count": 20,
   "id": "6921692a",
   "metadata": {
    "ExecuteTime": {
     "end_time": "2022-12-03T05:26:37.579975Z",
     "start_time": "2022-12-03T05:26:37.397036Z"
    }
   },
   "outputs": [
    {
     "data": {
      "text/plain": [
       "DeviceArray(1.457856, dtype=float32)"
      ]
     },
     "execution_count": 20,
     "metadata": {},
     "output_type": "execute_result"
    }
   ],
   "source": [
    "cross_entropy(params, features_train[0], targets_train[0])"
   ]
  },
  {
   "cell_type": "code",
   "execution_count": 21,
   "id": "fce2d0a4",
   "metadata": {
    "ExecuteTime": {
     "end_time": "2022-12-03T05:26:37.583214Z",
     "start_time": "2022-12-03T05:26:37.580985Z"
    }
   },
   "outputs": [],
   "source": [
    "@jax.jit\n",
    "def calculate_loss(params, xs, ys):\n",
    "    return jnp.mean(\n",
    "        jax.vmap(cross_entropy, in_axes=(None, 0, 0))(params, xs, ys)\n",
    "    )"
   ]
  },
  {
   "cell_type": "code",
   "execution_count": 22,
   "id": "f79546f5",
   "metadata": {
    "ExecuteTime": {
     "end_time": "2022-12-03T05:26:38.363746Z",
     "start_time": "2022-12-03T05:26:37.584151Z"
    }
   },
   "outputs": [
    {
     "data": {
      "text/plain": [
       "DeviceArray(1.3876096, dtype=float32)"
      ]
     },
     "execution_count": 22,
     "metadata": {},
     "output_type": "execute_result"
    }
   ],
   "source": [
    "calculate_loss(params, features_train, targets_train)"
   ]
  },
  {
   "cell_type": "code",
   "execution_count": 23,
   "id": "dc660c21",
   "metadata": {
    "ExecuteTime": {
     "end_time": "2022-12-03T05:26:38.404216Z",
     "start_time": "2022-12-03T05:26:38.364767Z"
    }
   },
   "outputs": [],
   "source": [
    "from tqdm.notebook import trange\n",
    "from flax.training import train_state\n",
    "\n",
    "lr = 0.1\n",
    "optimizer = optax.adam(learning_rate=lr)\n",
    "# opt_state = tx.init(params)\n",
    "loss_grad_fn = jax.value_and_grad(calculate_loss) \n",
    "\n",
    "\n",
    "model_state = train_state.TrainState.create(\n",
    "    apply_fn=model.apply,\n",
    "    params=params,\n",
    "    tx = optimizer\n",
    ")\n",
    "\n",
    "\n",
    "\n",
    "@jax.jit\n",
    "def train_step(state, xs, ys):\n",
    "    loss_value, grads = loss_grad_fn(state.params, xs, ys)\n",
    "    state = state.apply_gradients(grads=grads)\n",
    "    return loss_value, state\n",
    "\n",
    "\n",
    "def train_model(state, xs, ys, epochs=1000):\n",
    "    losses = list()\n",
    "    steps = list()\n",
    "    \n",
    "    step_count = 0\n",
    "    \n",
    "    for e in trange(epochs):\n",
    "        loss, state = train_step(state, xs, ys)\n",
    "        if step_count % 50 == 0:\n",
    "            losses.append(loss)\n",
    "            steps.append(step_count)\n",
    "        step_count += 1\n",
    "        \n",
    "    return state, losses, steps"
   ]
  },
  {
   "cell_type": "code",
   "execution_count": 24,
   "id": "13fcac24",
   "metadata": {
    "ExecuteTime": {
     "end_time": "2022-12-03T05:26:38.797276Z",
     "start_time": "2022-12-03T05:26:38.405247Z"
    }
   },
   "outputs": [
    {
     "data": {
      "application/vnd.jupyter.widget-view+json": {
       "model_id": "693d3c4ebdce454ab62088f79a92304c",
       "version_major": 2,
       "version_minor": 0
      },
      "text/plain": [
       "  0%|          | 0/1000 [00:00<?, ?it/s]"
      ]
     },
     "metadata": {},
     "output_type": "display_data"
    }
   ],
   "source": [
    "trained_model_state, losses, steps = train_model(state=model_state, xs=features_train, ys=targets_train)"
   ]
  },
  {
   "cell_type": "code",
   "execution_count": 25,
   "id": "9d69675c",
   "metadata": {
    "ExecuteTime": {
     "end_time": "2022-12-03T05:26:39.117333Z",
     "start_time": "2022-12-03T05:26:38.798267Z"
    }
   },
   "outputs": [
    {
     "data": {
      "image/png": "[encoded data removed]",
      "text/plain": [
       "<Figure size 640x480 with 1 Axes>"
      ]
     },
     "metadata": {},
     "output_type": "display_data"
    }
   ],
   "source": [
    "%matplotlib inline\n",
    "import matplotlib.pyplot as plt\n",
    "import seaborn as sns\n",
    "\n",
    "\n",
    "sns.lineplot(x=np.array(steps), y=np.array(losses))\n",
    "plt.show()"
   ]
  },
  {
   "cell_type": "code",
   "execution_count": 26,
   "id": "041e8b21",
   "metadata": {
    "ExecuteTime": {
     "end_time": "2022-12-03T05:26:39.120736Z",
     "start_time": "2022-12-03T05:26:39.118295Z"
    }
   },
   "outputs": [],
   "source": [
    "@jax.jit\n",
    "def test_step(state, x):\n",
    "    logits = model.apply(state.params, x)\n",
    "    out = jnp.argmax(logits, axis=-1)\n",
    "    \n",
    "    return out\n",
    "    \n",
    "\n",
    "@jax.jit\n",
    "def test(state, xs):\n",
    "    return jax.vmap(test_step, in_axes=(None, 0))(state, xs)"
   ]
  },
  {
   "cell_type": "code",
   "execution_count": 27,
   "id": "d17d4012",
   "metadata": {
    "ExecuteTime": {
     "end_time": "2022-12-03T05:26:39.252869Z",
     "start_time": "2022-12-03T05:26:39.121489Z"
    }
   },
   "outputs": [],
   "source": [
    "predictions = test(trained_model_state, features_test) "
   ]
  },
  {
   "cell_type": "code",
   "execution_count": 28,
   "id": "9f33292d",
   "metadata": {
    "ExecuteTime": {
     "end_time": "2022-12-03T05:26:39.259105Z",
     "start_time": "2022-12-03T05:26:39.253966Z"
    }
   },
   "outputs": [
    {
     "name": "stdout",
     "output_type": "stream",
     "text": [
      "              precision    recall  f1-score   support\n",
      "\n",
      "           0       0.91      1.00      0.95        48\n",
      "           1       1.00      0.97      0.98        29\n",
      "           2       1.00      0.83      0.90        23\n",
      "\n",
      "    accuracy                           0.95       100\n",
      "   macro avg       0.97      0.93      0.95       100\n",
      "weighted avg       0.95      0.95      0.95       100\n",
      "\n"
     ]
    }
   ],
   "source": [
    "from sklearn.metrics import classification_report\n",
    "\n",
    "report = classification_report(y_pred=predictions, y_true=targets_test)\n",
    "print(report)"
   ]
  },
  {
   "cell_type": "code",
   "execution_count": null,
   "id": "f8834aea",
   "metadata": {},
   "outputs": [],
   "source": []
  }
 ],
 "metadata": {
  "kernelspec": {
   "display_name": "Python 3 (ipykernel)",
   "language": "python",
   "name": "python3"
  },
  "language_info": {
   "codemirror_mode": {
    "name": "ipython",
    "version": 3
   },
   "file_extension": ".py",
   "mimetype": "text/x-python",
   "name": "python",
   "nbconvert_exporter": "python",
   "pygments_lexer": "ipython3",
   "version": "3.10.8"
  },
  "toc": {
   "base_numbering": 1,
   "nav_menu": {},
   "number_sections": true,
   "sideBar": true,
   "skip_h1_title": false,
   "title_cell": "Table of Contents",
   "title_sidebar": "Contents",
   "toc_cell": false,
   "toc_position": {},
   "toc_section_display": true,
   "toc_window_display": false
  },
  "varInspector": {
   "cols": {
    "lenName": 16,
    "lenType": 16,
    "lenVar": 40
   },
   "kernels_config": {
    "python": {
     "delete_cmd_postfix": "",
     "delete_cmd_prefix": "del ",
     "library": "var_list.py",
     "varRefreshCmd": "print(var_dic_list())"
    },
    "r": {
     "delete_cmd_postfix": ") ",
     "delete_cmd_prefix": "rm(",
     "library": "var_list.r",
     "varRefreshCmd": "cat(var_dic_list()) "
    }
   },
   "types_to_exclude": [
    "module",
    "function",
    "builtin_function_or_method",
    "instance",
    "_Feature"
   ],
   "window_display": false
  }
 },
 "nbformat": 4,
 "nbformat_minor": 5
}
