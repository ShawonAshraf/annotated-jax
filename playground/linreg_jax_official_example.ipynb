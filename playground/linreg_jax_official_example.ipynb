{
 "cells": [
  {
   "cell_type": "code",
   "execution_count": 1,
   "id": "0b5308f1",
   "metadata": {
    "ExecuteTime": {
     "end_time": "2022-05-07T03:48:17.772145Z",
     "start_time": "2022-05-07T03:48:17.285966Z"
    }
   },
   "outputs": [],
   "source": [
    "import jax as J\n",
    "import jax.numpy as jnp\n",
    "from jax import jit"
   ]
  },
  {
   "cell_type": "code",
   "execution_count": 2,
   "id": "e3aa0983",
   "metadata": {
    "ExecuteTime": {
     "end_time": "2022-05-07T03:48:17.775189Z",
     "start_time": "2022-05-07T03:48:17.773004Z"
    }
   },
   "outputs": [],
   "source": [
    "@jit\n",
    "def model(params, x):\n",
    "    w, b = params\n",
    "    return w * x + b\n",
    "\n",
    "@jit\n",
    "def loss(params, x, y):\n",
    "    y_pred = model(params, x)\n",
    "    return jnp.mean((y_pred - y) ** 2)"
   ]
  },
  {
   "cell_type": "code",
   "execution_count": 3,
   "id": "0e64cd04",
   "metadata": {
    "ExecuteTime": {
     "end_time": "2022-05-07T03:48:17.779199Z",
     "start_time": "2022-05-07T03:48:17.776186Z"
    }
   },
   "outputs": [],
   "source": [
    "# gradient descent\n",
    "@jit\n",
    "def gd(params, x, y, lr):\n",
    "    return params - lr * J.grad(loss)(params, x, y)"
   ]
  },
  {
   "cell_type": "code",
   "execution_count": 4,
   "id": "f19d9691",
   "metadata": {
    "ExecuteTime": {
     "end_time": "2022-05-07T03:48:18.339681Z",
     "start_time": "2022-05-07T03:48:17.780669Z"
    }
   },
   "outputs": [
    {
     "data": {
      "text/plain": [
       "DeviceArray([-2.169826  ,  0.46480063], dtype=float32)"
      ]
     },
     "execution_count": 4,
     "metadata": {},
     "output_type": "execute_result"
    }
   ],
   "source": [
    "key = J.random.PRNGKey(42)\n",
    "# w and b\n",
    "params = J.random.normal(key, (2, ))\n",
    "params"
   ]
  },
  {
   "cell_type": "code",
   "execution_count": 5,
   "id": "56172edf",
   "metadata": {
    "ExecuteTime": {
     "end_time": "2022-05-07T03:48:18.608988Z",
     "start_time": "2022-05-07T03:48:18.340517Z"
    }
   },
   "outputs": [],
   "source": [
    "# 2 new keys\n",
    "# one for xs, another for noise\n",
    "\n",
    "# +1 for key\n",
    "key, *newkeys = J.random.split(key, 2 + 1)\n",
    "\n",
    "xs = J.random.normal(newkeys[0], (100,))\n",
    "noise = J.random.normal(newkeys[1], (100,))\n",
    "\n",
    "ys = xs * 3 - 1 + noise"
   ]
  },
  {
   "cell_type": "code",
   "execution_count": 6,
   "id": "15be9edf",
   "metadata": {
    "ExecuteTime": {
     "end_time": "2022-05-07T03:48:18.720938Z",
     "start_time": "2022-05-07T03:48:18.609889Z"
    }
   },
   "outputs": [
    {
     "name": "stderr",
     "output_type": "stream",
     "text": [
      "100%|██████████████████████████████████████████████████████████████████████████████████████████████████| 1000/1000 [00:00<00:00, 9576.50it/s]\n"
     ]
    }
   ],
   "source": [
    "from tqdm import tqdm\n",
    "\n",
    "for _ in tqdm(range(1000)):\n",
    "    params = gd(params, xs, ys, 0.01)"
   ]
  },
  {
   "cell_type": "code",
   "execution_count": 7,
   "id": "d3f23495",
   "metadata": {
    "ExecuteTime": {
     "end_time": "2022-05-07T03:48:19.540947Z",
     "start_time": "2022-05-07T03:48:18.721808Z"
    }
   },
   "outputs": [
    {
     "data": {
      "text/plain": [
       "[<matplotlib.lines.Line2D at 0x7f1fc45f4640>]"
      ]
     },
     "execution_count": 7,
     "metadata": {},
     "output_type": "execute_result"
    },
    {
     "data": {
      "image/png": "[encoded data removed]",
      "text/plain": [
       "<Figure size 432x288 with 1 Axes>"
      ]
     },
     "metadata": {
      "needs_background": "light"
     },
     "output_type": "display_data"
    }
   ],
   "source": [
    "%matplotlib inline\n",
    "import matplotlib.pyplot as plt\n",
    "\n",
    "plt.scatter(xs, ys)\n",
    "plt.plot(xs, model(params, xs))"
   ]
  },
  {
   "cell_type": "code",
   "execution_count": 8,
   "id": "0f75c6bf",
   "metadata": {
    "ExecuteTime": {
     "end_time": "2022-05-07T03:48:19.576414Z",
     "start_time": "2022-05-07T03:48:19.542458Z"
    }
   },
   "outputs": [
    {
     "name": "stdout",
     "output_type": "stream",
     "text": [
      "2.9418302 -1.0934553\n"
     ]
    }
   ],
   "source": [
    "w, b = params\n",
    "print(w, b)"
   ]
  },
  {
   "cell_type": "code",
   "execution_count": null,
   "id": "16bc0e94",
   "metadata": {},
   "outputs": [],
   "source": []
  }
 ],
 "metadata": {
  "kernelspec": {
   "display_name": "Python 3 (ipykernel)",
   "language": "python",
   "name": "python3"
  },
  "language_info": {
   "codemirror_mode": {
    "name": "ipython",
    "version": 3
   },
   "file_extension": ".py",
   "mimetype": "text/x-python",
   "name": "python",
   "nbconvert_exporter": "python",
   "pygments_lexer": "ipython3",
   "version": "3.10.4"
  },
  "latex_envs": {
   "LaTeX_envs_menu_present": true,
   "autoclose": false,
   "autocomplete": true,
   "bibliofile": "biblio.bib",
   "cite_by": "apalike",
   "current_citInitial": 1,
   "eqLabelWithNumbers": true,
   "eqNumInitial": 1,
   "hotkeys": {
    "equation": "Ctrl-E",
    "itemize": "Ctrl-I"
   },
   "labels_anchors": false,
   "latex_user_defs": false,
   "report_style_numbering": false,
   "user_envs_cfg": false
  },
  "toc": {
   "base_numbering": 1,
   "nav_menu": {},
   "number_sections": true,
   "sideBar": true,
   "skip_h1_title": false,
   "title_cell": "Table of Contents",
   "title_sidebar": "Contents",
   "toc_cell": false,
   "toc_position": {},
   "toc_section_display": true,
   "toc_window_display": false
  },
  "varInspector": {
   "cols": {
    "lenName": 16,
    "lenType": 16,
    "lenVar": 40
   },
   "kernels_config": {
    "python": {
     "delete_cmd_postfix": "",
     "delete_cmd_prefix": "del ",
     "library": "var_list.py",
     "varRefreshCmd": "print(var_dic_list())"
    },
    "r": {
     "delete_cmd_postfix": ") ",
     "delete_cmd_prefix": "rm(",
     "library": "var_list.r",
     "varRefreshCmd": "cat(var_dic_list()) "
    }
   },
   "position": {
    "height": "156px",
    "left": "935px",
    "right": "20px",
    "top": "120px",
    "width": "325px"
   },
   "types_to_exclude": [
    "module",
    "function",
    "builtin_function_or_method",
    "instance",
    "_Feature"
   ],
   "window_display": false
  }
 },
 "nbformat": 4,
 "nbformat_minor": 5
}
