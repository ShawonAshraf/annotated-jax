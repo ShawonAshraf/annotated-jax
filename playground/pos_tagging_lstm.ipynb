{
 "cells": [
  {
   "cell_type": "code",
   "execution_count": 1,
   "metadata": {},
   "outputs": [],
   "source": [
    "from datasets import load_dataset\n",
    "\n",
    "dataset_name = \"batterydata/pos_tagging\"\n",
    "training_dataset = load_dataset(dataset_name, split=\"train\")\n",
    "test_dataset = load_dataset(dataset_name, split=\"test\")\n"
   ]
  },
  {
   "cell_type": "code",
   "execution_count": 2,
   "metadata": {},
   "outputs": [
    {
     "data": {
      "text/plain": [
       "Dataset({\n",
       "    features: ['words', 'labels'],\n",
       "    num_rows: 13054\n",
       "})"
      ]
     },
     "execution_count": 2,
     "metadata": {},
     "output_type": "execute_result"
    }
   ],
   "source": [
    "training_dataset\n"
   ]
  },
  {
   "cell_type": "code",
   "execution_count": 3,
   "metadata": {},
   "outputs": [
    {
     "data": {
      "text/plain": [
       "Dataset({\n",
       "    features: ['words', 'labels'],\n",
       "    num_rows: 1451\n",
       "})"
      ]
     },
     "execution_count": 3,
     "metadata": {},
     "output_type": "execute_result"
    }
   ],
   "source": [
    "test_dataset\n"
   ]
  },
  {
   "cell_type": "markdown",
   "metadata": {},
   "source": [
    "So for data preprocessing:\n",
    "1. Make words to idx and labels to idx dictionaries\n",
    "2. Make a validation split from the training set\n",
    "3. Encode all the data with indices found from 1"
   ]
  },
  {
   "cell_type": "code",
   "execution_count": 4,
   "metadata": {},
   "outputs": [
    {
     "data": {
      "text/plain": [
       "24849"
      ]
     },
     "execution_count": 4,
     "metadata": {},
     "output_type": "execute_result"
    }
   ],
   "source": [
    "# a dict containing word -> idx mapping\n",
    "def create_word_indices(dataset):\n",
    "    unique_words = set()\n",
    "    word_to_idx = dict()\n",
    "    # add an out of vocab token\n",
    "    oov_token = \"<OOV>\"\n",
    "    pad_token = \"<PAD>\"\n",
    "    word_to_idx[oov_token] = 0\n",
    "    word_to_idx[pad_token] = 1\n",
    "    \n",
    "    # find unique words\n",
    "    for data in dataset:\n",
    "        words = data[\"words\"]\n",
    "        for w in words:\n",
    "            unique_words.add(w)\n",
    "            \n",
    "    # add index to them\n",
    "    for idx, uw in enumerate(list(unique_words)):\n",
    "        word_to_idx[uw] = idx + 2 # since oov is at 0 and pad at 1\n",
    "        \n",
    "    \n",
    "    return word_to_idx\n",
    "\n",
    "\n",
    "# ===============\n",
    "word_to_idx = create_word_indices(training_dataset)\n",
    "len(word_to_idx)\n"
   ]
  },
  {
   "cell_type": "code",
   "execution_count": 5,
   "metadata": {},
   "outputs": [
    {
     "name": "stdout",
     "output_type": "stream",
     "text": [
      "50\n"
     ]
    }
   ],
   "source": [
    "def create_label_to_idx(dataset):\n",
    "    unique_labels = set()\n",
    "    label_to_idx = dict()\n",
    "    # add an out of vocab token\n",
    "    oov_token = \"<OOV>\"\n",
    "    pad_token = \"<PAD>\"\n",
    "    label_to_idx[oov_token] = 0\n",
    "    label_to_idx[pad_token] = 1\n",
    "    \n",
    "    # find the labels\n",
    "    for data in dataset:\n",
    "        labels = data[\"labels\"]\n",
    "        for l in labels:\n",
    "            unique_labels.add(l)\n",
    "            \n",
    "    # index\n",
    "    for idx, label in enumerate(list(unique_labels)):\n",
    "        label_to_idx[label] = idx + 2\n",
    "        \n",
    "    return label_to_idx\n",
    "    \n",
    "label_to_idx = create_label_to_idx(training_dataset)\n",
    "print(len(label_to_idx))\n",
    "    "
   ]
  },
  {
   "cell_type": "code",
   "execution_count": 6,
   "metadata": {},
   "outputs": [
    {
     "name": "stdout",
     "output_type": "stream",
     "text": [
      "{'<OOV>': 0, '<PAD>': 1, '$': 2, 'RB': 3, 'CD': 4, \"''\": 5, '-RRB-': 6, 'RBR': 7, 'WP': 8, 'SYM': 9, 'VBN': 10, 'WP$': 11, 'PDT': 12, 'PRP': 13, 'VBP': 14, ',': 15, 'MD': 16, 'NNS': 17, 'VBG': 18, 'WDT': 19, 'PRP$': 20, 'JJR': 21, 'RP': 22, 'POS': 23, '(': 24, 'JJS': 25, 'CC': 26, 'VBD': 27, 'EX': 28, '-LRB-': 29, 'FW': 30, 'UH': 31, 'VBZ': 32, 'NNPS': 33, 'WRB': 34, '.': 35, ':': 36, 'IN': 37, '``': 38, 'VB': 39, 'NNP': 40, '#': 41, 'JJ': 42, 'TO': 43, 'NN': 44, '-NONE-': 45, 'RBS': 46, 'LS': 47, 'DT': 48, ')': 49}\n"
     ]
    }
   ],
   "source": [
    "print(label_to_idx)\n"
   ]
  },
  {
   "cell_type": "code",
   "execution_count": 7,
   "metadata": {},
   "outputs": [
    {
     "name": "stdout",
     "output_type": "stream",
     "text": [
      "{'words': [9415, 16132, 10878, 22956, 14850, 20370, 19881, 14733, 11299, 314, 309, 11204, 24349, 11608, 20254, 6088, 13375, 18668, 2715, 6088, 7627, 12356, 18668, 16393, 14733, 2877, 24225, 10402, 3866, 20761, 18641, 16851, 19003, 4610, 8688, 22947, 23786], 'labels': [44, 37, 48, 44, 32, 3, 10, 43, 39, 48, 42, 44, 37, 44, 17, 37, 40, 15, 42, 37, 44, 44, 15, 39, 43, 39, 48, 42, 44, 37, 40, 26, 40, 23, 42, 17, 35]}\n"
     ]
    }
   ],
   "source": [
    "# for a single instance\n",
    "def encode_data_instance(data, word_to_idx, label_to_idx):\n",
    "    words = [\n",
    "        word_to_idx.get(word, word_to_idx[\"<OOV>\"]) for word in data[\"words\"]\n",
    "    ]\n",
    "    \n",
    "    labels = [\n",
    "        label_to_idx[label] for label in data[\"labels\"]\n",
    "    ]\n",
    "    \n",
    "    return {\n",
    "        \"words\": words,\n",
    "        \"labels\": labels\n",
    "    }\n",
    "    \n",
    "\n",
    "print(encode_data_instance(training_dataset[0], word_to_idx, label_to_idx))\n"
   ]
  },
  {
   "cell_type": "code",
   "execution_count": 8,
   "metadata": {},
   "outputs": [
    {
     "name": "stdout",
     "output_type": "stream",
     "text": [
      "{'words': [9415, 16132, 10878, 22956, 14850, 20370, 19881, 14733, 11299, 314, 309, 11204, 24349, 11608, 20254, 6088, 13375, 18668, 2715, 6088, 7627, 12356, 18668, 16393, 14733, 2877, 24225, 10402, 3866, 20761, 18641, 16851, 19003, 4610, 8688, 22947, 23786], 'labels': [44, 37, 48, 44, 32, 3, 10, 43, 39, 48, 42, 44, 37, 44, 17, 37, 40, 15, 42, 37, 44, 44, 15, 39, 43, 39, 48, 42, 44, 37, 40, 26, 40, 23, 42, 17, 35]}\n"
     ]
    }
   ],
   "source": [
    "trainset = map(lambda data: encode_data_instance(data, word_to_idx, label_to_idx), training_dataset)\n",
    "trainset = list(trainset)\n",
    "\n",
    "print(trainset[0])\n"
   ]
  },
  {
   "cell_type": "code",
   "execution_count": 9,
   "metadata": {},
   "outputs": [
    {
     "name": "stdout",
     "output_type": "stream",
     "text": [
      "{'words': [18895, 0, 9082, 10878, 24846, 19137, 18668, 619, 14708, 12445, 8372, 18668, 19735, 10878, 11627, 13193, 15979, 6055, 15412, 8624, 16132, 23079, 16553, 17735, 18668, 16851, 11118, 5085, 19861, 15180, 297, 12483, 13256, 23786], 'labels': [26, 40, 27, 48, 40, 44, 15, 13, 32, 45, 45, 15, 37, 48, 40, 40, 42, 44, 32, 44, 37, 42, 37, 44, 15, 26, 3, 32, 3, 39, 48, 44, 17, 35]}\n"
     ]
    }
   ],
   "source": [
    "testset = map(lambda data: encode_data_instance(\n",
    "    data, word_to_idx, label_to_idx), test_dataset)\n",
    "testset = list(testset)\n",
    "\n",
    "print(testset[0])\n"
   ]
  },
  {
   "cell_type": "code",
   "execution_count": 10,
   "metadata": {},
   "outputs": [],
   "source": [
    "assert len(training_dataset) == len(trainset)\n"
   ]
  },
  {
   "cell_type": "code",
   "execution_count": 11,
   "metadata": {},
   "outputs": [
    {
     "name": "stdout",
     "output_type": "stream",
     "text": [
      "9138\n",
      "3916\n"
     ]
    }
   ],
   "source": [
    "# now to create the validation set\n",
    "import numpy as np\n",
    "\n",
    "def create_train_validation_splits(trainset, validation_ratio):\n",
    "    validation_set_size = int(len(trainset) * validation_ratio)\n",
    "    validation_indices = np.random.choice(len(trainset), replace=False, size=validation_set_size).tolist()\n",
    "    \n",
    "    # now to separate trainset indices\n",
    "    trainset_indices = [i for i in range(len(trainset)) if i not in validation_indices]\n",
    "    \n",
    "    return trainset_indices, validation_indices\n",
    "\n",
    "\n",
    "trainset_indices, validation_indices = create_train_validation_splits(trainset, 0.3)\n",
    "\n",
    "print(len(trainset_indices))\n",
    "print(len(validation_indices))\n",
    "\n",
    "\n",
    "assert len(trainset_indices) + len(validation_indices) == len(trainset)\n"
   ]
  },
  {
   "cell_type": "code",
   "execution_count": 12,
   "metadata": {},
   "outputs": [
    {
     "name": "stdout",
     "output_type": "stream",
     "text": [
      "[array([[24475,  5861,  6143, ...,     1,     1,     1],\n",
      "       [19805, 10878, 13633, ...,     1,     1,     1],\n",
      "       [18895, 10878,   850, ...,     1,     1,     1],\n",
      "       ...,\n",
      "       [13684, 11699, 11178, ...,     1,     1,     1],\n",
      "       [24475, 14115, 18431, ...,     1,     1,     1],\n",
      "       [18904,  8683, 14795, ...,     1,     1,     1]], dtype=int32), array([[48, 40, 44, ...,  1,  1,  1],\n",
      "       [37, 48,  4, ...,  1,  1,  1],\n",
      "       [26, 48, 17, ...,  1,  1,  1],\n",
      "       ...,\n",
      "       [48, 42, 44, ...,  1,  1,  1],\n",
      "       [48, 44, 37, ...,  1,  1,  1],\n",
      "       [44, 27,  4, ...,  1,  1,  1]], dtype=int32)]\n"
     ]
    }
   ],
   "source": [
    "from torch.utils.data import Dataset\n",
    "import jax_dataloader as jdl\n",
    "\n",
    "class TagDataset(Dataset):\n",
    "    def __init__(self, indices, dataset) -> None:\n",
    "        self.indices = indices\n",
    "        self.dataset = dataset\n",
    "        \n",
    "        \n",
    "    def __len__(self):\n",
    "        if self.indices is None:\n",
    "            # this is for the test case\n",
    "            return len(self.dataset)\n",
    "        else:\n",
    "            return len(self.indices)\n",
    "        \n",
    "    def __getitem__(self, index) -> np.ndarray:\n",
    "        if self.indices is None:\n",
    "            idx = index\n",
    "        else:\n",
    "            idx = self.indices[index]\n",
    "            \n",
    "        data = self.dataset[idx]\n",
    "        \n",
    "        # padding to 300\n",
    "        # pad token idx is 1\n",
    "        words = np.ones((300, ), dtype=np.int32)\n",
    "        words[:len(data[\"words\"])] = data[\"words\"] \n",
    "    \n",
    "        \n",
    "        labels = np.ones((300, ), dtype=np.int32)\n",
    "        labels[:len(data[\"labels\"])] = data[\"labels\"]\n",
    "        \n",
    "        # labels = np.array(data[\"labels\"])\n",
    "        \n",
    "        return words, labels\n",
    "\n",
    "train_loader = jdl.DataLoader(TagDataset(trainset_indices, trainset), \"pytorch\", batch_size=128, shuffle=True)\n",
    "val_loader = jdl.DataLoader(TagDataset(validation_indices, trainset), \"pytorch\", batch_size=128, shuffle=False)\n",
    "test_loader = jdl.DataLoader(TagDataset(None, testset), \"pytorch\", batch_size=128, shuffle=False)\n",
    "\n",
    "\n",
    "# =========== test a dataloader ==========\n",
    "for batch in train_loader:\n",
    "    print(batch)\n",
    "    break\n"
   ]
  },
  {
   "cell_type": "code",
   "execution_count": 13,
   "metadata": {},
   "outputs": [],
   "source": [
    "from jax import random, jit, vmap, grad, value_and_grad\n",
    "import jax.numpy as jnp\n",
    "import flax.linen as nn\n"
   ]
  },
  {
   "cell_type": "code",
   "execution_count": 14,
   "metadata": {},
   "outputs": [],
   "source": [
    "master_key = random.key(seed=2023)\n",
    "master_key, model_init_key = random.split(master_key)\n",
    "master_key, dropout_key = random.split(master_key)\n"
   ]
  },
  {
   "cell_type": "code",
   "execution_count": 15,
   "metadata": {},
   "outputs": [
    {
     "name": "stdout",
     "output_type": "stream",
     "text": [
      "(300, 300)\n"
     ]
    }
   ],
   "source": [
    "# lstm in flax: https://flax.readthedocs.io/en/latest/api_reference/flax.linen/_autosummary/flax.linen.LSTMCell.html\n",
    "from typing import Any\n",
    "\n",
    "\n",
    "class LSTMTagger(nn.Module):\n",
    "    vocab_size: int\n",
    "    embedding_dimensions: int\n",
    "    projection_dims: int # aka hidden dims for projection after lstm\n",
    "    n_labels: int\n",
    "    training = True\n",
    "\n",
    "    @nn.compact\n",
    "    def __call__(self, words) -> Any:\n",
    "        # ========== Embedding ==========\n",
    "        x = nn.Embed(\n",
    "            num_embeddings=self.vocab_size, features=self.embedding_dimensions, name=\"embedding\")(words)\n",
    "        x = nn.Dropout(0.2, deterministic=not self.training)(x)\n",
    "\n",
    "\n",
    "        # ========= LSTM ============\n",
    "        lstm = nn.OptimizedLSTMCell(features=self.projection_dims, name=\"lstm\")\n",
    "        carry = lstm.initialize_carry(random.PRNGKey(2024), x.shape)\n",
    "        carry, x = lstm(carry=carry, inputs=x)\n",
    "\n",
    "        # ========== Dense ==========\n",
    "        x = nn.Dense(features=self.n_labels, name=\"dense\")(x)\n",
    "        x = nn.leaky_relu(x)\n",
    "\n",
    "        return x\n",
    "\n",
    "\n",
    "model = LSTMTagger(len(word_to_idx), 300, 300, 300)\n",
    "\n",
    "# why ?\n",
    "# https://flax.readthedocs.io/en/latest/api_reference/flax.linen/module.html\n",
    "model_rngs = {\"params\": model_init_key, \"dropout\": dropout_key}\n",
    "\n",
    "init_params = model.init(model_rngs, np.arange(300))\n",
    "logits = model.apply(init_params, jnp.arange(300), rngs={\"dropout\": dropout_key})\n",
    "print(logits.shape)\n"
   ]
  },
  {
   "cell_type": "code",
   "execution_count": 16,
   "metadata": {},
   "outputs": [],
   "source": [
    "import optax\n",
    "\n",
    "\n",
    "@jit\n",
    "def calculate_loss(params, words, labels):\n",
    "    logits = model.apply(params, words, rngs={\"dropout\": dropout_key})\n",
    "    loss = optax.softmax_cross_entropy_with_integer_labels(logits, labels)\n",
    "    return loss.mean(axis=-1)\n",
    "\n",
    "\n",
    "# you're vmapping the whole grad function!\n",
    "# have a separate batch loss function!\n",
    "@jit\n",
    "def batched_loss(params, words_batched, labels_batched):\n",
    "    batch_loss = vmap(calculate_loss, in_axes=(None, 0, 0))(params, words_batched, labels_batched)\n",
    "    return batch_loss.mean(axis=-1)\n"
   ]
  },
  {
   "cell_type": "code",
   "execution_count": 17,
   "metadata": {},
   "outputs": [],
   "source": [
    "import jax.nn as jnn\n",
    "\n",
    "@jit\n",
    "def infer(params, words, labels):\n",
    "    logits = model.apply(params, words, rngs={\"dropout\": dropout_key})\n",
    "    proba = jnn.log_softmax(logits, axis=-1)\n",
    "    preds = jnp.argmax(proba, axis=-1)\n",
    "\n",
    "    return preds\n",
    "\n",
    "@jit\n",
    "def batch_infer(params, words, labels):\n",
    "    preds = vmap(infer, in_axes=(None, 0, 0))(params, words, labels)\n",
    "    return preds\n",
    "\n",
    "\n",
    "def categorical_accuracy(preds, actual, pad_idx=1):\n",
    "    non_padding_indices = jnp.nonzero((actual != pad_idx))\n",
    "\n",
    "    matches = jnp.equal(preds[non_padding_indices], actual[non_padding_indices])\n",
    "    acc = jnp.sum(matches) / actual[non_padding_indices].shape[0]\n",
    "\n",
    "    return acc"
   ]
  },
  {
   "cell_type": "code",
   "execution_count": 18,
   "metadata": {},
   "outputs": [
    {
     "data": {
      "application/vnd.jupyter.widget-view+json": {
       "model_id": "1353a2207031440db6496c682d3e9589",
       "version_major": 2,
       "version_minor": 0
      },
      "text/plain": [
       "  0%|          | 0/10 [00:00<?, ?it/s]"
      ]
     },
     "metadata": {},
     "output_type": "display_data"
    },
    {
     "name": "stdout",
     "output_type": "stream",
     "text": [
      "Step [101] ---- Loss/Train :: 0.2871893048286438 ---- Loss/Val :: 0.300211638212204\n",
      "Step [201] ---- Loss/Train :: 0.09239696711301804 ---- Loss/Val :: 0.09732693433761597\n",
      "Step [301] ---- Loss/Train :: 0.03205893188714981 ---- Loss/Val :: 0.04942373186349869\n",
      "Step [401] ---- Loss/Train :: 0.019017040729522705 ---- Loss/Val :: 0.03827174752950668\n",
      "Step [501] ---- Loss/Train :: 0.012902256101369858 ---- Loss/Val :: 0.034231457859277725\n",
      "Step [601] ---- Loss/Train :: 0.010445604100823402 ---- Loss/Val :: 0.03280894458293915\n",
      "Step [701] ---- Loss/Train :: 0.008069690316915512 ---- Loss/Val :: 0.03216274455189705\n"
     ]
    }
   ],
   "source": [
    "from tqdm.auto import trange, tqdm\n",
    "from flax.training import train_state\n",
    "from functools import partial\n",
    "\n",
    "optimiser = optax.adam(learning_rate=0.001)\n",
    "init_state = train_state.TrainState.create(\n",
    "    apply_fn=model.apply, # the forward function\n",
    "    params=init_params,\n",
    "    tx=optimiser\n",
    ")\n",
    "criterion = value_and_grad(batched_loss)\n",
    "\n",
    "def evaluate(params, test_loader):\n",
    "    acc_per_batch = list()\n",
    "    for batch in tqdm(test_loader):\n",
    "        words, labels = batch\n",
    "        preds = batch_infer(state.params, words, labels)\n",
    "\n",
    "        acc = categorical_accuracy(preds, labels)\n",
    "        acc_per_batch.append(acc)\n",
    "\n",
    "    mean_acc = jnp.mean(jnp.array(acc_per_batch), axis=-1)\n",
    "\n",
    "    return mean_acc\n",
    "\n",
    "\n",
    "\n",
    "@partial(jit, static_argnums=0)\n",
    "def train_step(criterion, state, words_batched, labels_batched):\n",
    "    loss_value, grads = criterion(state.params, words_batched, labels_batched)\n",
    "    updated_state = state.apply_gradients(grads=grads)\n",
    "    return loss_value, updated_state\n",
    "\n",
    "\n",
    "@partial(jit, static_argnums=0)\n",
    "def validation_step(criterion, state, words_batched, labels_batched):\n",
    "    loss_value, _ = criterion(state.params, words_batched, labels_batched)\n",
    "    return loss_value\n",
    "\n",
    "\n",
    "\n",
    "\n",
    "def train_model(state, train_loader, epochs=10, log_every_n_step=100):\n",
    "    step_counter = 0\n",
    "    train_losses = list()\n",
    "    mean_validation_losses = list()\n",
    "\n",
    "    for _ in trange(epochs):\n",
    "        for batch in train_loader:\n",
    "            loss, state = train_step(criterion, state, *batch)\n",
    "            step_counter += 1\n",
    "\n",
    "            if step_counter % log_every_n_step == 0:\n",
    "                # log train loss\n",
    "                train_losses.append(loss)\n",
    "                # run validation\n",
    "                vlosses = list()\n",
    "                for vbatch in val_loader:\n",
    "                    val_loss = validation_step(criterion, state, *vbatch)\n",
    "                    vlosses.append(val_loss)\n",
    "\n",
    "                vlosses = jnp.array(vlosses)\n",
    "                mean_validation_losses.append(vlosses.mean(axis=-1))\n",
    "\n",
    "                print(\n",
    "                    f\"Step [{step_counter + 1}] ---- Loss/Train :: {loss} ---- Loss/Val :: {vlosses.mean(axis=-1)}\")\n",
    "\n",
    "\n",
    "\n",
    "\n",
    "    return state, train_losses, mean_validation_losses\n",
    "\n",
    "\n",
    "\n",
    "# ================ train ====================\n",
    "state, train_loss, val_loss = train_model(init_state, train_loader)\n"
   ]
  },
  {
   "cell_type": "code",
   "execution_count": 19,
   "metadata": {},
   "outputs": [
    {
     "data": {
      "text/plain": [
       "<matplotlib.legend.Legend at 0x7f4b9f5e0ad0>"
      ]
     },
     "execution_count": 19,
     "metadata": {},
     "output_type": "execute_result"
    },
    {
     "data": {
      "image/png": "[encoded data removed]",
      "text/plain": [
       "<Figure size 640x480 with 1 Axes>"
      ]
     },
     "metadata": {},
     "output_type": "display_data"
    }
   ],
   "source": [
    "import matplotlib.pyplot as plt\n",
    "%matplotlib inline\n",
    "\n",
    "plt.plot(np.arange(len(train_loss)), train_loss, c=\"r\", label=\"Loss/Train\")\n",
    "plt.plot(np.arange(len(val_loss)), val_loss, c=\"b\", label=\"Loss/Val\")\n",
    "plt.legend()"
   ]
  },
  {
   "cell_type": "code",
   "execution_count": 20,
   "metadata": {},
   "outputs": [
    {
     "data": {
      "application/vnd.jupyter.widget-view+json": {
       "model_id": "c8c4b3fe08fd4645b9e9299814ab7987",
       "version_major": 2,
       "version_minor": 0
      },
      "text/plain": [
       "  0%|          | 0/12 [00:00<?, ?it/s]"
      ]
     },
     "metadata": {},
     "output_type": "display_data"
    },
    {
     "name": "stdout",
     "output_type": "stream",
     "text": [
      "Mean Accuracy: 0.910028874874115\n"
     ]
    }
   ],
   "source": [
    "mean_acc = evaluate(state.params, test_loader)\n",
    "print(f\"Mean Accuracy: {mean_acc}\")"
   ]
  }
 ],
 "metadata": {
  "kernelspec": {
   "display_name": "Python 3 (ipykernel)",
   "language": "python",
   "name": "python3"
  },
  "language_info": {
   "codemirror_mode": {
    "name": "ipython",
    "version": 3
   },
   "file_extension": ".py",
   "mimetype": "text/x-python",
   "name": "python",
   "nbconvert_exporter": "python",
   "pygments_lexer": "ipython3",
   "version": "3.11.4"
  }
 },
 "nbformat": 4,
 "nbformat_minor": 4
}
