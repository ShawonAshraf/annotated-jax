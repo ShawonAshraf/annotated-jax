{
 "cells": [
  {
   "cell_type": "code",
   "execution_count": 1,
   "metadata": {},
   "outputs": [],
   "source": [
    "from datasets import load_dataset\n",
    "\n",
    "dataset_name = \"batterydata/pos_tagging\"\n",
    "training_dataset = load_dataset(dataset_name, split=\"train\")\n",
    "test_dataset = load_dataset(dataset_name, split=\"test\")\n"
   ]
  },
  {
   "cell_type": "code",
   "execution_count": 2,
   "metadata": {},
   "outputs": [
    {
     "data": {
      "text/plain": [
       "Dataset({\n",
       "    features: ['words', 'labels'],\n",
       "    num_rows: 13054\n",
       "})"
      ]
     },
     "execution_count": 2,
     "metadata": {},
     "output_type": "execute_result"
    }
   ],
   "source": [
    "training_dataset\n"
   ]
  },
  {
   "cell_type": "code",
   "execution_count": 3,
   "metadata": {},
   "outputs": [
    {
     "data": {
      "text/plain": [
       "Dataset({\n",
       "    features: ['words', 'labels'],\n",
       "    num_rows: 1451\n",
       "})"
      ]
     },
     "execution_count": 3,
     "metadata": {},
     "output_type": "execute_result"
    }
   ],
   "source": [
    "test_dataset\n"
   ]
  },
  {
   "cell_type": "markdown",
   "metadata": {},
   "source": [
    "So for data preprocessing:\n",
    "1. Make words to idx and labels to idx dictionaries\n",
    "2. Make a validation split from the training set\n",
    "3. Encode all the data with indices found from 1"
   ]
  },
  {
   "cell_type": "code",
   "execution_count": 4,
   "metadata": {},
   "outputs": [
    {
     "data": {
      "text/plain": [
       "24849"
      ]
     },
     "execution_count": 4,
     "metadata": {},
     "output_type": "execute_result"
    }
   ],
   "source": [
    "# a dict containing word -> idx mapping\n",
    "def create_word_indices(dataset):\n",
    "    unique_words = set()\n",
    "    word_to_idx = dict()\n",
    "    # add an out of vocab token\n",
    "    oov_token = \"<OOV>\"\n",
    "    pad_token = \"<PAD>\"\n",
    "    word_to_idx[oov_token] = 0\n",
    "    word_to_idx[pad_token] = 1\n",
    "    \n",
    "    # find unique words\n",
    "    for data in dataset:\n",
    "        words = data[\"words\"]\n",
    "        for w in words:\n",
    "            unique_words.add(w)\n",
    "            \n",
    "    # add index to them\n",
    "    for idx, uw in enumerate(list(unique_words)):\n",
    "        word_to_idx[uw] = idx + 2 # since oov is at 0 and pad at 1\n",
    "        \n",
    "    \n",
    "    return word_to_idx\n",
    "\n",
    "\n",
    "# ===============\n",
    "word_to_idx = create_word_indices(training_dataset)\n",
    "len(word_to_idx)\n"
   ]
  },
  {
   "cell_type": "code",
   "execution_count": 5,
   "metadata": {},
   "outputs": [
    {
     "name": "stdout",
     "output_type": "stream",
     "text": [
      "50\n"
     ]
    }
   ],
   "source": [
    "def create_label_to_idx(dataset):\n",
    "    unique_labels = set()\n",
    "    label_to_idx = dict()\n",
    "    # add an out of vocab token\n",
    "    oov_token = \"<OOV>\"\n",
    "    pad_token = \"<PAD>\"\n",
    "    label_to_idx[oov_token] = 0\n",
    "    label_to_idx[pad_token] = 1\n",
    "    \n",
    "    # find the labels\n",
    "    for data in dataset:\n",
    "        labels = data[\"labels\"]\n",
    "        for l in labels:\n",
    "            unique_labels.add(l)\n",
    "            \n",
    "    # index\n",
    "    for idx, label in enumerate(list(unique_labels)):\n",
    "        label_to_idx[label] = idx + 2\n",
    "        \n",
    "    return label_to_idx\n",
    "    \n",
    "label_to_idx = create_label_to_idx(training_dataset)\n",
    "print(len(label_to_idx))\n",
    "    "
   ]
  },
  {
   "cell_type": "code",
   "execution_count": 6,
   "metadata": {},
   "outputs": [
    {
     "name": "stdout",
     "output_type": "stream",
     "text": [
      "{'<OOV>': 0, '<PAD>': 1, 'TO': 2, 'JJ': 3, 'DT': 4, 'VB': 5, ',': 6, 'NNPS': 7, 'PRP': 8, 'WP': 9, 'WRB': 10, 'PDT': 11, 'SYM': 12, 'MD': 13, 'VBD': 14, 'NNS': 15, '-RRB-': 16, 'CC': 17, \"''\": 18, 'POS': 19, 'RB': 20, ')': 21, 'LS': 22, 'RBS': 23, 'EX': 24, 'WDT': 25, '#': 26, 'VBP': 27, '.': 28, 'VBN': 29, 'VBG': 30, 'VBZ': 31, 'WP$': 32, 'NNP': 33, '``': 34, '(': 35, 'NN': 36, 'PRP$': 37, 'CD': 38, 'JJR': 39, ':': 40, '-LRB-': 41, 'JJS': 42, 'UH': 43, 'RBR': 44, 'RP': 45, '$': 46, '-NONE-': 47, 'IN': 48, 'FW': 49}\n"
     ]
    }
   ],
   "source": [
    "print(label_to_idx)\n"
   ]
  },
  {
   "cell_type": "code",
   "execution_count": 7,
   "metadata": {},
   "outputs": [
    {
     "name": "stdout",
     "output_type": "stream",
     "text": [
      "{'words': [15618, 19669, 17833, 10294, 17963, 18396, 12476, 20974, 6461, 102, 7366, 15131, 3653, 22881, 14395, 21349, 2906, 14410, 21097, 21349, 16388, 12891, 14410, 20688, 20974, 24378, 8345, 9956, 7832, 4089, 15391, 7645, 13549, 9723, 7654, 8975, 6417], 'labels': [36, 48, 4, 36, 31, 20, 29, 2, 5, 4, 3, 36, 48, 36, 15, 48, 33, 6, 3, 48, 36, 36, 6, 5, 2, 5, 4, 3, 36, 48, 33, 17, 33, 19, 3, 15, 28]}\n"
     ]
    }
   ],
   "source": [
    "# for a single instance\n",
    "def encode_data_instance(data, word_to_idx, label_to_idx):\n",
    "    words = [\n",
    "        word_to_idx.get(word, word_to_idx[\"<OOV>\"]) for word in data[\"words\"]\n",
    "    ]\n",
    "    \n",
    "    labels = [\n",
    "        label_to_idx[label] for label in data[\"labels\"]\n",
    "    ]\n",
    "    \n",
    "    return {\n",
    "        \"words\": words,\n",
    "        \"labels\": labels\n",
    "    }\n",
    "    \n",
    "\n",
    "print(encode_data_instance(training_dataset[0], word_to_idx, label_to_idx))\n"
   ]
  },
  {
   "cell_type": "code",
   "execution_count": 8,
   "metadata": {},
   "outputs": [
    {
     "name": "stdout",
     "output_type": "stream",
     "text": [
      "{'words': [15618, 19669, 17833, 10294, 17963, 18396, 12476, 20974, 6461, 102, 7366, 15131, 3653, 22881, 14395, 21349, 2906, 14410, 21097, 21349, 16388, 12891, 14410, 20688, 20974, 24378, 8345, 9956, 7832, 4089, 15391, 7645, 13549, 9723, 7654, 8975, 6417], 'labels': [36, 48, 4, 36, 31, 20, 29, 2, 5, 4, 3, 36, 48, 36, 15, 48, 33, 6, 3, 48, 36, 36, 6, 5, 2, 5, 4, 3, 36, 48, 33, 17, 33, 19, 3, 15, 28]}\n"
     ]
    }
   ],
   "source": [
    "trainset = map(lambda data: encode_data_instance(data, word_to_idx, label_to_idx), training_dataset)\n",
    "trainset = list(trainset)\n",
    "\n",
    "print(trainset[0])\n"
   ]
  },
  {
   "cell_type": "code",
   "execution_count": 9,
   "metadata": {},
   "outputs": [
    {
     "name": "stdout",
     "output_type": "stream",
     "text": [
      "{'words': [15626, 0, 3310, 17833, 14947, 15909, 14410, 20004, 22504, 20704, 11223, 14410, 9342, 17833, 15077, 18312, 5113, 6608, 23459, 11693, 19669, 4592, 15216, 623, 14410, 7645, 19426, 16866, 21013, 18826, 2342, 11781, 17116, 6417], 'labels': [17, 33, 14, 4, 33, 36, 6, 8, 31, 47, 47, 6, 48, 4, 33, 33, 3, 36, 31, 36, 48, 3, 48, 36, 6, 17, 20, 31, 20, 5, 4, 36, 15, 28]}\n"
     ]
    }
   ],
   "source": [
    "testset = map(lambda data: encode_data_instance(\n",
    "    data, word_to_idx, label_to_idx), test_dataset)\n",
    "testset = list(testset)\n",
    "\n",
    "print(testset[0])\n"
   ]
  },
  {
   "cell_type": "code",
   "execution_count": 10,
   "metadata": {},
   "outputs": [],
   "source": [
    "assert len(training_dataset) == len(trainset)\n"
   ]
  },
  {
   "cell_type": "code",
   "execution_count": 11,
   "metadata": {},
   "outputs": [
    {
     "name": "stdout",
     "output_type": "stream",
     "text": [
      "9138\n",
      "3916\n"
     ]
    }
   ],
   "source": [
    "# now to create the validation set\n",
    "import numpy as np\n",
    "\n",
    "def create_train_validation_splits(trainset, validation_ratio):\n",
    "    validation_set_size = int(len(trainset) * validation_ratio)\n",
    "    validation_indices = np.random.choice(len(trainset), replace=False, size=validation_set_size).tolist()\n",
    "    \n",
    "    # now to separate trainset indices\n",
    "    trainset_indices = [i for i in range(len(trainset)) if i not in validation_indices]\n",
    "    \n",
    "    return trainset_indices, validation_indices\n",
    "\n",
    "\n",
    "trainset_indices, validation_indices = create_train_validation_splits(trainset, 0.3)\n",
    "\n",
    "print(len(trainset_indices))\n",
    "print(len(validation_indices))\n",
    "\n",
    "\n",
    "assert len(trainset_indices) + len(validation_indices) == len(trainset)\n"
   ]
  },
  {
   "cell_type": "code",
   "execution_count": 12,
   "metadata": {},
   "outputs": [
    {
     "name": "stdout",
     "output_type": "stream",
     "text": [
      "[array([[ 5991,  9475, 12517, ...,     1,     1,     1],\n",
      "       [20932,  4336, 19629, ...,     1,     1,     1],\n",
      "       [19901,  9765, 14410, ...,     1,     1,     1],\n",
      "       ...,\n",
      "       [10600,    13, 14410, ...,     1,     1,     1],\n",
      "       [ 1036, 16552, 17300, ...,     1,     1,     1],\n",
      "       [ 7239, 14410, 12581, ...,     1,     1,     1]], dtype=int32), array([[37, 15, 14, ...,  1,  1,  1],\n",
      "       [18, 33, 33, ...,  1,  1,  1],\n",
      "       [33, 33,  6, ...,  1,  1,  1],\n",
      "       ...,\n",
      "       [ 3, 15,  6, ...,  1,  1,  1],\n",
      "       [36, 15, 40, ...,  1,  1,  1],\n",
      "       [20,  6,  4, ...,  1,  1,  1]], dtype=int32)]\n"
     ]
    }
   ],
   "source": [
    "from torch.utils.data import Dataset\n",
    "import jax_dataloader as jdl\n",
    "\n",
    "class TagDataset(Dataset):\n",
    "    def __init__(self, indices, dataset) -> None:\n",
    "        self.indices = indices\n",
    "        self.dataset = dataset\n",
    "        \n",
    "        \n",
    "    def __len__(self):\n",
    "        if self.indices is None:\n",
    "            # this is for the test case\n",
    "            return len(self.dataset)\n",
    "        else:\n",
    "            return len(self.indices)\n",
    "        \n",
    "    def __getitem__(self, index) -> np.ndarray:\n",
    "        if self.indices is None:\n",
    "            idx = index\n",
    "        else:\n",
    "            idx = self.indices[index]\n",
    "            \n",
    "        data = self.dataset[idx]\n",
    "        \n",
    "        # padding to 300\n",
    "        # pad token idx is 1\n",
    "        words = np.ones((300, ), dtype=np.int32)\n",
    "        words[:len(data[\"words\"])] = data[\"words\"] \n",
    "    \n",
    "        \n",
    "        labels = np.ones((300, ), dtype=np.int32)\n",
    "        labels[:len(data[\"labels\"])] = data[\"labels\"]\n",
    "        \n",
    "        # labels = np.array(data[\"labels\"])\n",
    "        \n",
    "        return words, labels\n",
    "\n",
    "train_loader = jdl.DataLoader(TagDataset(trainset_indices, trainset), \"pytorch\", batch_size=128, shuffle=True)\n",
    "val_loader = jdl.DataLoader(TagDataset(validation_indices, trainset), \"pytorch\", batch_size=128, shuffle=False)\n",
    "test_loader = jdl.DataLoader(TagDataset(None, testset), \"pytorch\", batch_size=128, shuffle=False)\n",
    "\n",
    "\n",
    "# =========== test a dataloader ==========\n",
    "for batch in train_loader:\n",
    "    print(batch)\n",
    "    break\n"
   ]
  },
  {
   "cell_type": "code",
   "execution_count": 13,
   "metadata": {},
   "outputs": [],
   "source": [
    "from jax import random, jit, vmap, grad, value_and_grad\n",
    "import jax.numpy as jnp\n",
    "import flax.linen as nn\n"
   ]
  },
  {
   "cell_type": "code",
   "execution_count": 14,
   "metadata": {},
   "outputs": [],
   "source": [
    "master_key = random.PRNGKey(seed=2023)\n",
    "master_key, model_init_key = random.split(master_key)\n",
    "master_key, dropout_key = random.split(master_key)\n"
   ]
  },
  {
   "cell_type": "code",
   "execution_count": 15,
   "metadata": {},
   "outputs": [
    {
     "name": "stdout",
     "output_type": "stream",
     "text": [
      "(37, 300)\n"
     ]
    }
   ],
   "source": [
    "# lstm in flax: https://flax.readthedocs.io/en/latest/api_reference/flax.linen/_autosummary/flax.linen.LSTMCell.html\n",
    "from typing import Any\n",
    "\n",
    "\n",
    "class LSTMTagger(nn.Module):\n",
    "    vocab_size: int\n",
    "    embedding_dimensions: int\n",
    "    projection_dims: int # aka hidden dims for projection after lstm\n",
    "    n_labels: int\n",
    "    training = True\n",
    "\n",
    "    @nn.compact\n",
    "    def __call__(self, words) -> Any:\n",
    "        # ========== Embedding ==========\n",
    "        x = nn.Embed(\n",
    "            num_embeddings=self.vocab_size, features=self.embedding_dimensions, name=\"embedding\")(words)\n",
    "        x = nn.Dropout(0.2, deterministic=not self.training)(x)\n",
    "\n",
    "\n",
    "        # ========= LSTM ============\n",
    "        lstm = nn.OptimizedLSTMCell(features=self.projection_dims, name=\"lstm\")\n",
    "        carry = lstm.initialize_carry(random.PRNGKey(2024), x.shape)\n",
    "        carry, x = lstm(carry=carry, inputs=x)\n",
    "\n",
    "        # ========== Dense ==========\n",
    "        x = nn.Dense(features=self.n_labels, name=\"dense\")(x)\n",
    "        x = nn.leaky_relu(x)\n",
    "\n",
    "        return x\n",
    "\n",
    "\n",
    "model = LSTMTagger(len(word_to_idx), 300, 300, 300)\n",
    "\n",
    "# why ?\n",
    "# https://flax.readthedocs.io/en/latest/api_reference/flax.linen/module.html\n",
    "model_rngs = {\"params\": model_init_key, \"dropout\": dropout_key}\n",
    "\n",
    "init_params = model.init(model_rngs, np.array(trainset[0][\"words\"]))\n",
    "logits = model.apply(init_params, jnp.array(trainset[0][\"words\"]), rngs={\"dropout\": dropout_key})\n",
    "print(logits.shape)\n"
   ]
  },
  {
   "cell_type": "code",
   "execution_count": 16,
   "metadata": {},
   "outputs": [],
   "source": [
    "import optax\n",
    "\n",
    "\n",
    "@jit\n",
    "def calculate_loss(params, words, labels):\n",
    "    logits = model.apply(params, words, rngs={\"dropout\": dropout_key})\n",
    "    loss = optax.softmax_cross_entropy_with_integer_labels(logits, labels)\n",
    "    return loss.mean(axis=-1)\n",
    "\n",
    "\n",
    "# you're vmapping the whole grad function!\n",
    "# have a separate batch loss function!\n",
    "@jit\n",
    "def batched_loss(params, words_batched, labels_batched):\n",
    "    batch_loss = vmap(calculate_loss, in_axes=(None, 0, 0))(params, words_batched, labels_batched)\n",
    "    return batch_loss.mean(axis=-1)\n"
   ]
  },
  {
   "cell_type": "code",
   "execution_count": 17,
   "metadata": {},
   "outputs": [],
   "source": [
    "import jax.nn as jnn\n",
    "\n",
    "@jit\n",
    "def infer(params, words, labels):\n",
    "    logits = model.apply(params, words, rngs={\"dropout\": dropout_key})\n",
    "    proba = jnn.log_softmax(logits, axis=-1)\n",
    "    preds = jnp.argmax(proba, axis=-1)\n",
    "\n",
    "    return preds\n",
    "\n",
    "@jit\n",
    "def batch_infer(params, words, labels):\n",
    "    preds = vmap(infer, in_axes=(None, 0, 0))(params, words, labels)\n",
    "    return preds\n",
    "\n",
    "\n",
    "def categorical_accuracy(preds, actual, pad_idx=1):\n",
    "    non_padding_indices = jnp.nonzero((actual != pad_idx))\n",
    "\n",
    "    matches = jnp.equal(preds[non_padding_indices], actual[non_padding_indices])\n",
    "    acc = jnp.sum(matches) / actual[non_padding_indices].shape[0]\n",
    "\n",
    "    return acc"
   ]
  },
  {
   "cell_type": "code",
   "execution_count": 18,
   "metadata": {},
   "outputs": [
    {
     "data": {
      "application/vnd.jupyter.widget-view+json": {
       "model_id": "eb305a5ebeaf4e6b81bc3bc4d52799c9",
       "version_major": 2,
       "version_minor": 0
      },
      "text/plain": [
       "  0%|          | 0/10 [00:00<?, ?it/s]"
      ]
     },
     "metadata": {},
     "output_type": "display_data"
    },
    {
     "name": "stdout",
     "output_type": "stream",
     "text": [
      "Step [101] ---- Loss/Train :: 0.28627753257751465 ---- Loss/Val :: 0.28966930508613586\n",
      "Step [201] ---- Loss/Train :: 0.09482495486736298 ---- Loss/Val :: 0.09537847340106964\n",
      "Step [301] ---- Loss/Train :: 0.03388737142086029 ---- Loss/Val :: 0.0504341758787632\n",
      "Step [401] ---- Loss/Train :: 0.018869474530220032 ---- Loss/Val :: 0.03912125155329704\n",
      "Step [501] ---- Loss/Train :: 0.014321388676762581 ---- Loss/Val :: 0.03498689830303192\n",
      "Step [601] ---- Loss/Train :: 0.01052327360957861 ---- Loss/Val :: 0.03353063762187958\n",
      "Step [701] ---- Loss/Train :: 0.009827476926147938 ---- Loss/Val :: 0.03296830877661705\n"
     ]
    }
   ],
   "source": [
    "from tqdm.auto import trange, tqdm\n",
    "from flax.training import train_state\n",
    "from functools import partial\n",
    "\n",
    "optimiser = optax.adam(learning_rate=0.001)\n",
    "init_state = train_state.TrainState.create(\n",
    "    apply_fn=model.apply, # the forward function\n",
    "    params=init_params,\n",
    "    tx=optimiser\n",
    ")\n",
    "criterion = value_and_grad(batched_loss)\n",
    "\n",
    "def evaluate(params, test_loader):\n",
    "    acc_per_batch = list()\n",
    "    for batch in tqdm(test_loader):\n",
    "        words, labels = batch\n",
    "        preds = batch_infer(state.params, words, labels)\n",
    "\n",
    "        acc = categorical_accuracy(preds, labels)\n",
    "        acc_per_batch.append(acc)\n",
    "\n",
    "    mean_acc = jnp.mean(jnp.array(acc_per_batch), axis=-1)\n",
    "\n",
    "    return mean_acc\n",
    "\n",
    "\n",
    "\n",
    "@partial(jit, static_argnums=0)\n",
    "def train_step(criterion, state, words_batched, labels_batched):\n",
    "    loss_value, grads = criterion(state.params, words_batched, labels_batched)\n",
    "    updated_state = state.apply_gradients(grads=grads)\n",
    "    return loss_value, updated_state\n",
    "\n",
    "\n",
    "@partial(jit, static_argnums=0)\n",
    "def validation_step(criterion, state, words_batched, labels_batched):\n",
    "    loss_value, _ = criterion(state.params, words_batched, labels_batched)\n",
    "    return loss_value\n",
    "\n",
    "\n",
    "\n",
    "\n",
    "def train_model(state, train_loader, epochs=10, log_every_n_step=100):\n",
    "    step_counter = 0\n",
    "    train_losses = list()\n",
    "    mean_validation_losses = list()\n",
    "\n",
    "    for _ in trange(epochs):\n",
    "        for batch in train_loader:\n",
    "            loss, state = train_step(criterion, state, *batch)\n",
    "            step_counter += 1\n",
    "\n",
    "            if step_counter % log_every_n_step == 0:\n",
    "                # log train loss\n",
    "                train_losses.append(loss)\n",
    "                # run validation\n",
    "                vlosses = list()\n",
    "                for vbatch in val_loader:\n",
    "                    val_loss = validation_step(criterion, state, *vbatch)\n",
    "                    vlosses.append(val_loss)\n",
    "\n",
    "                vlosses = jnp.array(vlosses)\n",
    "                mean_validation_losses.append(vlosses.mean(axis=-1))\n",
    "\n",
    "                print(\n",
    "                    f\"Step [{step_counter + 1}] ---- Loss/Train :: {loss} ---- Loss/Val :: {vlosses.mean(axis=-1)}\")\n",
    "\n",
    "\n",
    "\n",
    "\n",
    "    return state, train_losses, mean_validation_losses\n",
    "\n",
    "\n",
    "\n",
    "# ================ train ====================\n",
    "state, train_loss, val_loss = train_model(init_state, train_loader)\n"
   ]
  },
  {
   "cell_type": "code",
   "execution_count": 19,
   "metadata": {},
   "outputs": [
    {
     "data": {
      "text/plain": [
       "<matplotlib.legend.Legend at 0x7f66ec454750>"
      ]
     },
     "execution_count": 19,
     "metadata": {},
     "output_type": "execute_result"
    },
    {
     "data": {
      "image/png": "[encoded data removed]",
      "text/plain": [
       "<Figure size 640x480 with 1 Axes>"
      ]
     },
     "metadata": {},
     "output_type": "display_data"
    }
   ],
   "source": [
    "import matplotlib.pyplot as plt\n",
    "%matplotlib inline\n",
    "\n",
    "plt.plot(train_loss, np.arange(len(train_loss)), c=\"r\", label=\"Loss/Train\")\n",
    "plt.plot(val_loss, np.arange(len(val_loss)), c=\"b\", label=\"Loss/Val\")\n",
    "plt.legend()"
   ]
  },
  {
   "cell_type": "code",
   "execution_count": 20,
   "metadata": {},
   "outputs": [
    {
     "data": {
      "application/vnd.jupyter.widget-view+json": {
       "model_id": "f39852e1203440c18882f4eda9b5e552",
       "version_major": 2,
       "version_minor": 0
      },
      "text/plain": [
       "  0%|          | 0/12 [00:00<?, ?it/s]"
      ]
     },
     "metadata": {},
     "output_type": "display_data"
    },
    {
     "name": "stdout",
     "output_type": "stream",
     "text": [
      "Mean Accuracy: 0.9112318754196167\n"
     ]
    }
   ],
   "source": [
    "mean_acc = evaluate(state.params, test_loader)\n",
    "print(f\"Mean Accuracy: {mean_acc}\")"
   ]
  }
 ],
 "metadata": {
  "kernelspec": {
   "display_name": "jax_examples",
   "language": "python",
   "name": "python3"
  },
  "language_info": {
   "codemirror_mode": {
    "name": "ipython",
    "version": 3
   },
   "file_extension": ".py",
   "mimetype": "text/x-python",
   "name": "python",
   "nbconvert_exporter": "python",
   "pygments_lexer": "ipython3",
   "version": "3.11.4"
  }
 },
 "nbformat": 4,
 "nbformat_minor": 2
}
