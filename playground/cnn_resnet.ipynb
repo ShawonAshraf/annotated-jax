{
 "cells": [
  {
   "cell_type": "code",
   "execution_count": 2,
   "id": "2b77bec0-b592-4360-bff2-0288b949281d",
   "metadata": {},
   "outputs": [],
   "source": [
    "# !pip install -q --upgrade git+https://github.com/matthias-wright/flaxmodels.git"
   ]
  },
  {
   "cell_type": "code",
   "execution_count": null,
   "id": "e276db6d-e818-43cf-b7de-4316a29b2111",
   "metadata": {},
   "outputs": [],
   "source": []
  }
 ],
 "metadata": {
  "kernelspec": {
   "display_name": "Python 3 (ipykernel)",
   "language": "python",
   "name": "python3"
  },
  "language_info": {
   "codemirror_mode": {
    "name": "ipython",
    "version": 3
   },
   "file_extension": ".py",
   "mimetype": "text/x-python",
   "name": "python",
   "nbconvert_exporter": "python",
   "pygments_lexer": "ipython3",
   "version": "3.11.5"
  }
 },
 "nbformat": 4,
 "nbformat_minor": 5
}
