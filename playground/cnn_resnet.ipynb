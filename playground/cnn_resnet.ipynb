{
 "cells": [
  {
   "cell_type": "code",
   "execution_count": 1,
   "id": "2b77bec0-b592-4360-bff2-0288b949281d",
   "metadata": {},
   "outputs": [],
   "source": [
    "# !pip install -q --upgrade git+https://github.com/matthias-wright/flaxmodels.git"
   ]
  },
  {
   "cell_type": "code",
   "execution_count": 2,
   "id": "a32949f3-bb5f-465a-b491-8dcd3a0a82e8",
   "metadata": {},
   "outputs": [],
   "source": [
    "import clearml\n",
    "from clearml import Task\n",
    "\n",
    "clearml.browser_login()"
   ]
  },
  {
   "cell_type": "code",
   "execution_count": 3,
   "id": "9da8f83b-ea59-47d3-b05d-8b84cd4b926e",
   "metadata": {},
   "outputs": [
    {
     "name": "stdout",
     "output_type": "stream",
     "text": [
      "ClearML Task: created new task id=b73fde530b104da6a30b8bab226cb1f5\n",
      "2024-02-02 13:42:42,109 - clearml.Task - INFO - Storing jupyter notebook directly as code\n",
      "ClearML results page: https://app.clear.ml/projects/8e5be1efcfdc487e86bb77cd5a52222f/experiments/b73fde530b104da6a30b8bab226cb1f5/output/log\n"
     ]
    },
    {
     "data": {
      "text/plain": [
       "{'archi': 'cnn', 'batch_size': 128, 'lr': 0.001, 'optimizer': 'adam'}"
      ]
     },
     "execution_count": 3,
     "metadata": {},
     "output_type": "execute_result"
    }
   ],
   "source": [
    "hparams = {\n",
    "    \"archi\": \"cnn\",\n",
    "    \"batch_size\": 128,\n",
    "    \"lr\": 0.001,\n",
    "    \"optimizer\": \"adam\"\n",
    "}\n",
    "\n",
    "task = Task.init(\n",
    "    project_name=\"jax-examples\",\n",
    "    task_name=\"cnn-cifar10\",\n",
    "    output_uri=True\n",
    ")\n",
    "\n",
    "task.connect(hparams)"
   ]
  },
  {
   "cell_type": "code",
   "execution_count": 4,
   "id": "28b03507-5cfb-4b6f-b4f8-6bb833b5fede",
   "metadata": {},
   "outputs": [
    {
     "name": "stdout",
     "output_type": "stream",
     "text": [
      "gpu\n"
     ]
    }
   ],
   "source": [
    "from jax.lib import xla_bridge\n",
    "print(xla_bridge.get_backend().platform)"
   ]
  },
  {
   "cell_type": "code",
   "execution_count": 5,
   "id": "e276db6d-e818-43cf-b7de-4316a29b2111",
   "metadata": {},
   "outputs": [],
   "source": [
    "import jax\n",
    "import jax.numpy as jnp"
   ]
  },
  {
   "cell_type": "code",
   "execution_count": 6,
   "id": "6ea23217-fde6-4bd9-96ef-b9349a27cbdb",
   "metadata": {},
   "outputs": [],
   "source": [
    "import matplotlib.pyplot as plt\n",
    "import numpy as np\n"
   ]
  },
  {
   "cell_type": "code",
   "execution_count": 7,
   "id": "9ab7af64-e398-4642-9209-647eef5b4dbf",
   "metadata": {},
   "outputs": [],
   "source": [
    "import flax\n",
    "import flax.linen as nn"
   ]
  },
  {
   "cell_type": "code",
   "execution_count": 8,
   "id": "b116a439-ebc1-48d2-87b2-16af909c9641",
   "metadata": {},
   "outputs": [],
   "source": [
    "import torch"
   ]
  },
  {
   "cell_type": "code",
   "execution_count": 9,
   "id": "66c6b998-e4cf-444a-925f-68e9f3ae71ed",
   "metadata": {},
   "outputs": [
    {
     "data": {
      "text/plain": [
       "'\\ndummy_input = np.random.normal(256, 256, 3)\\nh_in, w_in, c_in = dummy_input.shape\\n\\nkernel_size = (5, 5)\\ndilation = (1, 1)\\nstride = (1, 1)\\npadding = (0, 0)\\n\\n\\nh_out = (h_in + 2 * padding[0] - dilation[0] * (kernel_size[0] - 1) - 1) / stride[0]\\nh_out += 1\\n\\nw_out = (w_in + 2 * padding[1] - dilation[1] * (kernel_size[1] - 1) - 1) / stride[1]\\nw_out += 1\\n\\n\\nprint(h_out)\\nprint(w_out)\\n\\n\\nconv1 = nn.Conv(features=1, kernel_size=kernel_size, padding=padding, strides=stride)\\nout, vars = conv1.init_with_output(jax.random.key(0), dummy_input)\\n\\nout.shape\\n\\npooled1 = nn.max_pool(out, window_shape=(2, 2))\\npooled1.shape\\n\\n\\nconv2 = nn.Conv(features=1, kernel_size=kernel_size, padding=padding, strides=stride)\\nout2, vars = conv1.init_with_output(jax.random.key(0), out)\\n\\nout2.shape\\n\\npooled2 = nn.max_pool(out2, window_shape=(2, 2))\\npooled2.shape\\n\\n'"
      ]
     },
     "execution_count": 9,
     "metadata": {},
     "output_type": "execute_result"
    }
   ],
   "source": [
    "\"\"\"\n",
    "dummy_input = np.random.normal(256, 256, 3)\n",
    "h_in, w_in, c_in = dummy_input.shape\n",
    "\n",
    "kernel_size = (5, 5)\n",
    "dilation = (1, 1)\n",
    "stride = (1, 1)\n",
    "padding = (0, 0)\n",
    "\n",
    "\n",
    "h_out = (h_in + 2 * padding[0] - dilation[0] * (kernel_size[0] - 1) - 1) / stride[0]\n",
    "h_out += 1\n",
    "\n",
    "w_out = (w_in + 2 * padding[1] - dilation[1] * (kernel_size[1] - 1) - 1) / stride[1]\n",
    "w_out += 1\n",
    "\n",
    "\n",
    "print(h_out)\n",
    "print(w_out)\n",
    "\n",
    "\n",
    "conv1 = nn.Conv(features=1, kernel_size=kernel_size, padding=padding, strides=stride)\n",
    "out, vars = conv1.init_with_output(jax.random.key(0), dummy_input)\n",
    "\n",
    "out.shape\n",
    "\n",
    "pooled1 = nn.max_pool(out, window_shape=(2, 2))\n",
    "pooled1.shape\n",
    "\n",
    "\n",
    "conv2 = nn.Conv(features=1, kernel_size=kernel_size, padding=padding, strides=stride)\n",
    "out2, vars = conv1.init_with_output(jax.random.key(0), out)\n",
    "\n",
    "out2.shape\n",
    "\n",
    "pooled2 = nn.max_pool(out2, window_shape=(2, 2))\n",
    "pooled2.shape\n",
    "\n",
    "\"\"\""
   ]
  },
  {
   "cell_type": "code",
   "execution_count": 10,
   "id": "ef20d378-64d4-489f-8c30-a016c6ca917e",
   "metadata": {},
   "outputs": [
    {
     "name": "stderr",
     "output_type": "stream",
     "text": [
      "/home/shawon/Projects/jax_examples/venv/lib64/python3.12/site-packages/transformers/utils/generic.py:441: UserWarning:\n",
      "\n",
      "torch.utils._pytree._register_pytree_node is deprecated. Please use torch.utils._pytree.register_pytree_node instead.\n",
      "\n"
     ]
    },
    {
     "name": "stdout",
     "output_type": "stream",
     "text": [
      "Files already downloaded and verified\n",
      "Files already downloaded and verified\n"
     ]
    }
   ],
   "source": [
    "import jax_dataloader as jdl\n",
    "import torchvision\n",
    "import torchvision.transforms as transforms\n",
    "\n",
    "class ToNumpy:\n",
    "    def __call__(self, x: torch.Tensor):\n",
    "        return x.numpy()\n",
    "\n",
    "\n",
    "transform = transforms.Compose(\n",
    "    [transforms.ToTensor(),\n",
    "     transforms.Normalize((0.5, 0.5, 0.5), (0.5, 0.5, 0.5)), ToNumpy()])\n",
    "\n",
    "batch_size = 128\n",
    "\n",
    "trainset = torchvision.datasets.CIFAR10(root='./data', train=True,\n",
    "                                        download=True, transform=transform)\n",
    "trainloader = jdl.DataLoader(trainset, backend=\"pytorch\", batch_size=batch_size,\n",
    "                                          shuffle=True)\n",
    "\n",
    "testset = torchvision.datasets.CIFAR10(root='./data', train=False,\n",
    "                                       download=True, transform=transform)\n",
    "testloader = jdl.DataLoader(testset, backend=\"pytorch\", batch_size=batch_size,\n",
    "                                         shuffle=False)\n",
    "\n",
    "classes = ('plane', 'car', 'bird', 'cat',\n",
    "           'deer', 'dog', 'frog', 'horse', 'ship', 'truck')\n",
    "\n",
    "\n",
    "#print(trainset[0])"
   ]
  },
  {
   "cell_type": "code",
   "execution_count": 11,
   "id": "b93042ed-1c6b-42b3-8a90-93c23ce313f6",
   "metadata": {},
   "outputs": [
    {
     "data": {
      "text/plain": [
       "(10,)"
      ]
     },
     "execution_count": 11,
     "metadata": {},
     "output_type": "execute_result"
    }
   ],
   "source": [
    "from einops import rearrange\n",
    "\n",
    "class ConvNet(nn.Module):\n",
    "    @nn.compact\n",
    "    def __call__(self, x):\n",
    "        # convs\n",
    "        out = nn.Conv(features=6, kernel_size=(5, 5))(x)\n",
    "        out = nn.max_pool(out, window_shape=(2, 2))\n",
    "        out = nn.Conv(features=16, kernel_size=(5, 5))(out)\n",
    "        out = nn.max_pool(out, window_shape=(2, 2))\n",
    "\n",
    "\n",
    "        # flatten into a vector \n",
    "        # skip the batch dim\n",
    "        if len(x.shape) > 3:\n",
    "            out = rearrange(x, \"batch c h w -> batch (c h w)\")\n",
    "        else:\n",
    "            out = out.flatten()\n",
    "\n",
    "        # dense\n",
    "        out = nn.Dense(features=120)(out)\n",
    "        out = nn.Dense(features=84)(out)\n",
    "        out = nn.Dense(features=10)(out)\n",
    "\n",
    "        return out\n",
    "\n",
    "\n",
    "model = ConvNet()\n",
    "params = model.init(jax.random.key(0), trainset[0][0])\n",
    "\n",
    "logits = model.apply(params, trainset[0][0])\n",
    "logits.shape"
   ]
  },
  {
   "cell_type": "code",
   "execution_count": 12,
   "id": "2beafc82-97ec-408f-ad72-96090818f76d",
   "metadata": {},
   "outputs": [
    {
     "data": {
      "text/plain": [
       "Array(2.4910936, dtype=float32)"
      ]
     },
     "execution_count": 12,
     "metadata": {},
     "output_type": "execute_result"
    }
   ],
   "source": [
    "import optax\n",
    "\n",
    "@jax.jit\n",
    "def calculate_loss(params, x, y):\n",
    "    logits = model.apply(params, x)\n",
    "    loss = optax.softmax_cross_entropy_with_integer_labels(logits, y)\n",
    "    return loss\n",
    "\n",
    "@jax.jit\n",
    "def batched_loss(params, xs, ys):\n",
    "    batch_loss = jax.vmap(calculate_loss, in_axes=(None, 0, 0))(params, xs, ys)\n",
    "    return batch_loss.mean(axis=-1)\n",
    "\n",
    "\n",
    "calculate_loss(params, trainset[0][0], trainset[0][1])"
   ]
  },
  {
   "cell_type": "code",
   "execution_count": 13,
   "id": "a6f9cedd-bf33-4161-85f5-86e24a9479ba",
   "metadata": {},
   "outputs": [
    {
     "name": "stdout",
     "output_type": "stream",
     "text": [
      "(128, 3, 32, 32)\n",
      "2.3323336\n"
     ]
    }
   ],
   "source": [
    "for batch in trainloader:\n",
    "    print(batch[0].shape)\n",
    "    l = batched_loss(params, *batch)\n",
    "    print(l)\n",
    "    break"
   ]
  },
  {
   "cell_type": "code",
   "execution_count": 14,
   "id": "c878fb45-4a96-4333-b987-e06aadae4da9",
   "metadata": {},
   "outputs": [],
   "source": [
    "from tqdm.auto import trange, tqdm\n",
    "from flax.training import train_state\n",
    "from functools import partial\n",
    "\n",
    "\n",
    "optimiser = optax.adam(learning_rate=0.001)\n",
    "state = train_state.TrainState.create(\n",
    "    apply_fn=model.apply, # the forward function\n",
    "    params=params,\n",
    "    tx=optimiser\n",
    ")\n",
    "criterion = jax.value_and_grad(batched_loss)\n",
    "\n"
   ]
  },
  {
   "cell_type": "code",
   "execution_count": 15,
   "id": "2f8e5338-402f-4ecd-a2ac-753d5ce8096e",
   "metadata": {},
   "outputs": [],
   "source": [
    "from sklearn.metrics import f1_score\n",
    "\n",
    "@jax.jit\n",
    "def train_step(state, batch):\n",
    "    loss_value, grads = criterion(state.params, *batch)\n",
    "    updated_state = state.apply_gradients(grads=grads)\n",
    "    return loss_value, updated_state\n",
    "\n",
    "\n",
    "@jax.jit\n",
    "def test_step(state, xs):\n",
    "    def infer(params, x):\n",
    "        logits = model.apply(params, x)\n",
    "        return jax.nn.softmax(logits, axis=-1) \n",
    "\n",
    "    preds = jax.vmap(jax.jit(infer), in_axes=(None, 0))(state.params, xs)\n",
    "    return preds\n",
    "        "
   ]
  },
  {
   "cell_type": "code",
   "execution_count": 16,
   "id": "94e857d5-f113-4ac6-be16-c5f99f0466e5",
   "metadata": {},
   "outputs": [
    {
     "data": {
      "application/vnd.jupyter.widget-view+json": {
       "model_id": "dffe4cc6985d413ca657919856814d6a",
       "version_major": 2,
       "version_minor": 0
      },
      "text/plain": [
       "  0%|          | 0/79 [00:00<?, ?it/s]"
      ]
     },
     "metadata": {},
     "output_type": "display_data"
    },
    {
     "data": {
      "text/plain": [
       "0.10808939873417721"
      ]
     },
     "execution_count": 16,
     "metadata": {},
     "output_type": "execute_result"
    }
   ],
   "source": [
    "def evaluate(state, test_loader):\n",
    "    scores = list()\n",
    "    for batch in tqdm(test_loader):\n",
    "        xs, ys = batch\n",
    "        preds = test_step(state, xs)\n",
    "        preds = jnp.argmax(preds, axis=-1)\n",
    "        f1 = f1_score(preds, ys, average=\"micro\")\n",
    "        scores.append(f1)\n",
    "\n",
    "    return np.array(scores).mean(axis=-1)\n",
    "\n",
    "\n",
    "\n",
    "evaluate(state, testloader)"
   ]
  },
  {
   "cell_type": "code",
   "execution_count": 17,
   "id": "43a404eb-bbfd-4366-924e-d7c375c65af7",
   "metadata": {},
   "outputs": [
    {
     "data": {
      "application/vnd.jupyter.widget-view+json": {
       "model_id": "f2f3e311d8cf4abe999a8b1f310c8375",
       "version_major": 2,
       "version_minor": 0
      },
      "text/plain": [
       "  0%|          | 0/5 [00:00<?, ?it/s]"
      ]
     },
     "metadata": {},
     "output_type": "display_data"
    },
    {
     "data": {
      "application/vnd.jupyter.widget-view+json": {
       "model_id": "ee88baf1f9ae4fcea3e8182c9345199b",
       "version_major": 2,
       "version_minor": 0
      },
      "text/plain": [
       "  0%|          | 0/391 [00:00<?, ?it/s]"
      ]
     },
     "metadata": {},
     "output_type": "display_data"
    },
    {
     "name": "stdout",
     "output_type": "stream",
     "text": [
      "Evaluating ... \n"
     ]
    },
    {
     "data": {
      "application/vnd.jupyter.widget-view+json": {
       "model_id": "ad0a5f0ac80046d990d613f96b915e17",
       "version_major": 2,
       "version_minor": 0
      },
      "text/plain": [
       "  0%|          | 0/79 [00:00<?, ?it/s]"
      ]
     },
     "metadata": {},
     "output_type": "display_data"
    },
    {
     "name": "stdout",
     "output_type": "stream",
     "text": [
      "Epoch : 1 :: Step : 200 :: Loss : 1.558483362197876  :: F1 : 0.4396756329113924\n"
     ]
    },
    {
     "data": {
      "application/vnd.jupyter.widget-view+json": {
       "model_id": "a08f0eec634c4e66866c505f8c3021b4",
       "version_major": 2,
       "version_minor": 0
      },
      "text/plain": [
       "  0%|          | 0/391 [00:00<?, ?it/s]"
      ]
     },
     "metadata": {},
     "output_type": "display_data"
    },
    {
     "name": "stdout",
     "output_type": "stream",
     "text": [
      "Evaluating ... \n"
     ]
    },
    {
     "data": {
      "application/vnd.jupyter.widget-view+json": {
       "model_id": "9942dda0ea4c4545b9cc58f9031af525",
       "version_major": 2,
       "version_minor": 0
      },
      "text/plain": [
       "  0%|          | 0/79 [00:00<?, ?it/s]"
      ]
     },
     "metadata": {},
     "output_type": "display_data"
    },
    {
     "name": "stdout",
     "output_type": "stream",
     "text": [
      "Epoch : 2 :: Step : 400 :: Loss : 1.4810092449188232  :: F1 : 0.4622231012658228\n",
      "Evaluating ... \n"
     ]
    },
    {
     "data": {
      "application/vnd.jupyter.widget-view+json": {
       "model_id": "b724a0763ea14ea9a7cd7c93b4650215",
       "version_major": 2,
       "version_minor": 0
      },
      "text/plain": [
       "  0%|          | 0/79 [00:00<?, ?it/s]"
      ]
     },
     "metadata": {},
     "output_type": "display_data"
    },
    {
     "name": "stdout",
     "output_type": "stream",
     "text": [
      "Epoch : 2 :: Step : 600 :: Loss : 1.4202005863189697  :: F1 : 0.4783425632911392\n"
     ]
    },
    {
     "data": {
      "application/vnd.jupyter.widget-view+json": {
       "model_id": "d3a584040c13402a92ddae37a99b7cbe",
       "version_major": 2,
       "version_minor": 0
      },
      "text/plain": [
       "  0%|          | 0/391 [00:00<?, ?it/s]"
      ]
     },
     "metadata": {},
     "output_type": "display_data"
    },
    {
     "name": "stdout",
     "output_type": "stream",
     "text": [
      "Evaluating ... \n"
     ]
    },
    {
     "data": {
      "application/vnd.jupyter.widget-view+json": {
       "model_id": "a6bdcc7570024946b55507645bb43368",
       "version_major": 2,
       "version_minor": 0
      },
      "text/plain": [
       "  0%|          | 0/79 [00:00<?, ?it/s]"
      ]
     },
     "metadata": {},
     "output_type": "display_data"
    },
    {
     "name": "stdout",
     "output_type": "stream",
     "text": [
      "Epoch : 3 :: Step : 800 :: Loss : 1.5418181419372559  :: F1 : 0.4873417721518987\n",
      "Evaluating ... \n"
     ]
    },
    {
     "data": {
      "application/vnd.jupyter.widget-view+json": {
       "model_id": "6162af2b884942489f45cbc31e2d1178",
       "version_major": 2,
       "version_minor": 0
      },
      "text/plain": [
       "  0%|          | 0/79 [00:00<?, ?it/s]"
      ]
     },
     "metadata": {},
     "output_type": "display_data"
    },
    {
     "name": "stdout",
     "output_type": "stream",
     "text": [
      "Epoch : 3 :: Step : 1000 :: Loss : 1.3909101486206055  :: F1 : 0.5007911392405063\n"
     ]
    },
    {
     "data": {
      "application/vnd.jupyter.widget-view+json": {
       "model_id": "36ee43de153644438d979cdfd6b1a264",
       "version_major": 2,
       "version_minor": 0
      },
      "text/plain": [
       "  0%|          | 0/391 [00:00<?, ?it/s]"
      ]
     },
     "metadata": {},
     "output_type": "display_data"
    },
    {
     "name": "stdout",
     "output_type": "stream",
     "text": [
      "Evaluating ... \n"
     ]
    },
    {
     "data": {
      "application/vnd.jupyter.widget-view+json": {
       "model_id": "b10af72432ca49e6ae5eaedfd6e82d9d",
       "version_major": 2,
       "version_minor": 0
      },
      "text/plain": [
       "  0%|          | 0/79 [00:00<?, ?it/s]"
      ]
     },
     "metadata": {},
     "output_type": "display_data"
    },
    {
     "name": "stdout",
     "output_type": "stream",
     "text": [
      "Epoch : 4 :: Step : 1200 :: Loss : 1.2390213012695312  :: F1 : 0.5036590189873418\n",
      "Evaluating ... \n"
     ]
    },
    {
     "data": {
      "application/vnd.jupyter.widget-view+json": {
       "model_id": "8c96a23ca9854f5d8092c4500dec524e",
       "version_major": 2,
       "version_minor": 0
      },
      "text/plain": [
       "  0%|          | 0/79 [00:00<?, ?it/s]"
      ]
     },
     "metadata": {},
     "output_type": "display_data"
    },
    {
     "name": "stdout",
     "output_type": "stream",
     "text": [
      "Epoch : 4 :: Step : 1400 :: Loss : 1.4388818740844727  :: F1 : 0.5170094936708861\n"
     ]
    },
    {
     "data": {
      "application/vnd.jupyter.widget-view+json": {
       "model_id": "f77e6d1cf22d4e5a89deec4ea177527b",
       "version_major": 2,
       "version_minor": 0
      },
      "text/plain": [
       "  0%|          | 0/391 [00:00<?, ?it/s]"
      ]
     },
     "metadata": {},
     "output_type": "display_data"
    },
    {
     "name": "stdout",
     "output_type": "stream",
     "text": [
      "Evaluating ... \n"
     ]
    },
    {
     "data": {
      "application/vnd.jupyter.widget-view+json": {
       "model_id": "d1e70954a7c446e9b86a702d9c4ce318",
       "version_major": 2,
       "version_minor": 0
      },
      "text/plain": [
       "  0%|          | 0/79 [00:00<?, ?it/s]"
      ]
     },
     "metadata": {},
     "output_type": "display_data"
    },
    {
     "name": "stdout",
     "output_type": "stream",
     "text": [
      "Epoch : 5 :: Step : 1600 :: Loss : 1.3556393384933472  :: F1 : 0.5134493670886076\n",
      "Evaluating ... \n"
     ]
    },
    {
     "data": {
      "application/vnd.jupyter.widget-view+json": {
       "model_id": "dd281c0cc52d4015be5bb6a439ff2409",
       "version_major": 2,
       "version_minor": 0
      },
      "text/plain": [
       "  0%|          | 0/79 [00:00<?, ?it/s]"
      ]
     },
     "metadata": {},
     "output_type": "display_data"
    },
    {
     "name": "stdout",
     "output_type": "stream",
     "text": [
      "Epoch : 5 :: Step : 1800 :: Loss : 1.4368547201156616  :: F1 : 0.5110759493670886\n"
     ]
    }
   ],
   "source": [
    "from tqdm.auto import trange\n",
    "\n",
    "steps = 0\n",
    "train_losses = []\n",
    "test_f1 = []\n",
    "\n",
    "for e in trange(5):\n",
    "    for batch in tqdm(trainloader):\n",
    "        loss, state = train_step(state, batch)\n",
    "        steps += 1\n",
    "\n",
    "        if steps % 200 == 0:\n",
    "            train_losses.append(loss)\n",
    "            task.logger.report_scalar(title=\"loss/train\", series=\"loss\", value=loss, iteration=steps)\n",
    "            \n",
    "            # run evaluation\n",
    "            print(\"Evaluating ... \")\n",
    "            score = evaluate(state, testloader)\n",
    "            task.logger.report_scalar(title=\"f1/test\", series=\"f1\", value=score, iteration=steps)\n",
    "            test_f1.append(score)\n",
    "\n",
    "            print(f\"Epoch : {e + 1} :: Step : {steps} :: Loss : {loss}  :: F1 : {score}\")\n",
    "    "
   ]
  },
  {
   "cell_type": "code",
   "execution_count": 18,
   "id": "b26649fe-115f-4b17-82d5-c529354f7fab",
   "metadata": {},
   "outputs": [
    {
     "data": {
      "image/png": "[encoded data removed]",
      "text/plain": [
       "<Figure size 1000x500 with 1 Axes>"
      ]
     },
     "metadata": {},
     "output_type": "display_data"
    }
   ],
   "source": [
    "%matplotlib inline\n",
    "import matplotlib.pyplot as plt\n",
    "\n",
    "fig = plt.figure(figsize=(10, 5))\n",
    "fig.add_subplot()\n",
    "plt.xlabel(\"Steps\")\n",
    "plt.ylabel(\"Loss/Train\")\n",
    "plt.plot(np.arange(len(train_losses)), train_losses) \n",
    "\n",
    "task.logger.report_matplotlib_figure(title=\"Train Loss / Steps\",figure=fig, series=\"loss\")\n"
   ]
  },
  {
   "cell_type": "code",
   "execution_count": 19,
   "id": "20b6af39-1497-498a-91bf-3d5c1dd81a8b",
   "metadata": {},
   "outputs": [
    {
     "data": {
      "image/png": "[encoded data removed]",
      "text/plain": [
       "<Figure size 1000x500 with 1 Axes>"
      ]
     },
     "metadata": {},
     "output_type": "display_data"
    }
   ],
   "source": [
    "fig2 = plt.figure(figsize=(10, 5))\n",
    "fig2.add_subplot()\n",
    "plt.xlabel(\"Steps\")\n",
    "plt.ylabel(\"f1 score\")\n",
    "plt.plot(np.arange(len(test_f1)), test_f1)\n",
    "\n",
    "task.logger.report_matplotlib_figure(title=\"F1 / Steps\",figure=fig2, series=\"f1\")"
   ]
  },
  {
   "cell_type": "code",
   "execution_count": 20,
   "id": "51f68c98-1a90-4f02-8ae2-00dff1f67aba",
   "metadata": {},
   "outputs": [
    {
     "data": {
      "application/vnd.jupyter.widget-view+json": {
       "model_id": "51361ed7fd8e43d4b9fd40ee4d16974c",
       "version_major": 2,
       "version_minor": 0
      },
      "text/plain": [
       "  0%|          | 0/79 [00:00<?, ?it/s]"
      ]
     },
     "metadata": {},
     "output_type": "display_data"
    },
    {
     "name": "stdout",
     "output_type": "stream",
     "text": [
      "              precision    recall  f1-score   support\n",
      "\n",
      "       plane       0.64      0.53      0.58      1212\n",
      "         car       0.43      0.76      0.55       562\n",
      "        bird       0.39      0.38      0.39      1009\n",
      "         cat       0.42      0.36      0.38      1167\n",
      "        deer       0.38      0.48      0.43       796\n",
      "         dog       0.37      0.49      0.42       756\n",
      "        frog       0.72      0.49      0.59      1457\n",
      "       horse       0.59      0.62      0.61       964\n",
      "        ship       0.60      0.64      0.62       937\n",
      "       truck       0.64      0.56      0.60      1140\n",
      "\n",
      "    accuracy                           0.52     10000\n",
      "   macro avg       0.52      0.53      0.52     10000\n",
      "weighted avg       0.54      0.52      0.52     10000\n",
      "\n"
     ]
    }
   ],
   "source": [
    "from sklearn.metrics import classification_report\n",
    "\n",
    "\n",
    "def custom_classification_report(params, test_loader):\n",
    "    preds = list()\n",
    "    actual = list()\n",
    "    for batch in tqdm(test_loader):\n",
    "        xs, ys = batch\n",
    "        pred = test_step(state, xs)\n",
    "        pred = jnp.argmax(pred, axis=-1).tolist()\n",
    "        preds.extend(pred)\n",
    "        actual.extend(ys.tolist())\n",
    "\n",
    "    clf = classification_report(preds, actual, target_names=classes)\n",
    "    print(clf)\n",
    "\n",
    "custom_classification_report(state.params, testloader)\n",
    "        "
   ]
  },
  {
   "cell_type": "code",
   "execution_count": 21,
   "id": "2118060b-0ce2-44d0-873a-3fcbcd95c8d5",
   "metadata": {},
   "outputs": [],
   "source": [
    "task.close()"
   ]
  }
 ],
 "metadata": {
  "kernelspec": {
   "display_name": "Python 3 (ipykernel)",
   "language": "python",
   "name": "python3"
  },
  "language_info": {
   "codemirror_mode": {
    "name": "ipython",
    "version": 3
   },
   "file_extension": ".py",
   "mimetype": "text/x-python",
   "name": "python",
   "nbconvert_exporter": "python",
   "pygments_lexer": "ipython3",
   "version": "3.12.1"
  }
 },
 "nbformat": 4,
 "nbformat_minor": 5
}
