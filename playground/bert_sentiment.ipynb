{
 "cells": [
  {
   "cell_type": "markdown",
   "id": "9bcc01c7",
   "metadata": {},
   "source": [
    "## Corpus"
   ]
  },
  {
   "cell_type": "code",
   "execution_count": 1,
   "id": "f084350d",
   "metadata": {
    "ExecuteTime": {
     "end_time": "2022-05-16T00:35:28.655335Z",
     "start_time": "2022-05-16T00:35:28.219260Z"
    }
   },
   "outputs": [],
   "source": [
    "from corpus import download_and_unzip, catgeories, corpus_root, read_text_files"
   ]
  },
  {
   "cell_type": "code",
   "execution_count": 2,
   "id": "546634c2",
   "metadata": {
    "ExecuteTime": {
     "end_time": "2022-05-16T00:35:28.658249Z",
     "start_time": "2022-05-16T00:35:28.656338Z"
    }
   },
   "outputs": [
    {
     "name": "stdout",
     "output_type": "stream",
     "text": [
      "Already downloaded and extracted!\n"
     ]
    }
   ],
   "source": [
    "download_and_unzip()"
   ]
  },
  {
   "cell_type": "code",
   "execution_count": 3,
   "id": "a8bcad78",
   "metadata": {
    "ExecuteTime": {
     "end_time": "2022-05-16T00:35:28.699529Z",
     "start_time": "2022-05-16T00:35:28.658984Z"
    }
   },
   "outputs": [
    {
     "name": "stderr",
     "output_type": "stream",
     "text": [
      "prepare_corpus: 100%|██████████████████████████████████████████████████████████████| 1000/1000 [00:00<00:00, 1837994.74it/s]\n",
      "prepare_corpus: 100%|██████████████████████████████████████████████████████████████| 1000/1000 [00:00<00:00, 1976580.58it/s]\n"
     ]
    }
   ],
   "source": [
    "import os\n",
    "from tqdm import tqdm\n",
    "\n",
    "\n",
    "reviews = []\n",
    "labels = []\n",
    "\n",
    "# we can't use the previous tokenizers here\n",
    "# idx 0 -> neg, 1 -> pos\n",
    "# one hot labels\n",
    "for idx, cat in enumerate(catgeories):\n",
    "    path = os.path.join(corpus_root, cat)\n",
    "    texts = read_text_files(path)\n",
    "\n",
    "    for i in tqdm(range(len(texts)), desc=\"prepare_corpus\"):\n",
    "        text = texts[i]\n",
    "        reviews.append(text)\n",
    "        \n",
    "        one_hot = [0, 0]\n",
    "        one_hot[idx] = 1\n",
    "        \n",
    "        labels.append(one_hot)"
   ]
  },
  {
   "cell_type": "code",
   "execution_count": 4,
   "id": "8be70389",
   "metadata": {
    "ExecuteTime": {
     "end_time": "2022-05-16T00:35:28.703904Z",
     "start_time": "2022-05-16T00:35:28.700662Z"
    }
   },
   "outputs": [],
   "source": [
    "from sklearn.model_selection import train_test_split\n",
    "\n",
    "x_train, x_test, y_train, y_test = train_test_split(\n",
    "    reviews, labels, random_state=42, train_size=0.8\n",
    ")\n",
    "\n",
    "x_train, x_val, y_train, y_val = train_test_split(x_train, y_train, train_size=0.8, random_state=42)"
   ]
  },
  {
   "cell_type": "markdown",
   "id": "09c341f7",
   "metadata": {},
   "source": [
    "## Dataloader\n"
   ]
  },
  {
   "cell_type": "code",
   "execution_count": 5,
   "id": "bbfe3d13",
   "metadata": {
    "ExecuteTime": {
     "end_time": "2022-05-16T00:35:28.886367Z",
     "start_time": "2022-05-16T00:35:28.704528Z"
    }
   },
   "outputs": [],
   "source": [
    "import numpy as np\n",
    "import jax\n",
    "from jax import numpy as jnp"
   ]
  },
  {
   "cell_type": "code",
   "execution_count": 6,
   "id": "1445b275",
   "metadata": {
    "ExecuteTime": {
     "end_time": "2022-05-16T00:35:33.610959Z",
     "start_time": "2022-05-16T00:35:28.887224Z"
    }
   },
   "outputs": [],
   "source": [
    "from transformers import AutoTokenizer\n",
    "\n",
    "\n",
    "model_name = \"bert-base-cased\"\n",
    "tokenizer = AutoTokenizer.from_pretrained(model_name) "
   ]
  },
  {
   "cell_type": "code",
   "execution_count": 7,
   "id": "aea6cc5f",
   "metadata": {
    "ExecuteTime": {
     "end_time": "2022-05-16T00:35:33.614997Z",
     "start_time": "2022-05-16T00:35:33.611874Z"
    }
   },
   "outputs": [],
   "source": [
    "import torch\n",
    "from torch.utils.data import Dataset\n",
    "\n",
    "# custom dataset\n",
    "class PolarityReviewDataset(Dataset):\n",
    "\n",
    "    def __init__(self, reviews, labels, tokenizer):\n",
    "        self.reviews = reviews\n",
    "        self.labels = labels\n",
    "        self.tokenizer = tokenizer\n",
    "        self.MAX_LEN = 128\n",
    "\n",
    "    def __len__(self):\n",
    "        return len(self.labels)\n",
    "\n",
    "    def __getitem__(self, idx):\n",
    "        review = self.reviews[idx]\n",
    "        label = self.labels[idx]\n",
    "\n",
    "        # encode review text\n",
    "        encoding = self.tokenizer.encode_plus(\n",
    "            review,\n",
    "            add_special_tokens=True,\n",
    "            max_length=self.MAX_LEN,\n",
    "            truncation=True,\n",
    "            return_token_type_ids=False,\n",
    "            padding=\"max_length\",\n",
    "            return_attention_mask=True,\n",
    "            return_tensors=\"np\"\n",
    "        )\n",
    "        \n",
    "\n",
    "        return {\n",
    "            \"inputs\": encoding,\n",
    "            \"label\": np.array(label)\n",
    "        }"
   ]
  },
  {
   "cell_type": "code",
   "execution_count": 8,
   "id": "68a26619",
   "metadata": {
    "ExecuteTime": {
     "end_time": "2022-05-16T00:35:33.627056Z",
     "start_time": "2022-05-16T00:35:33.615681Z"
    }
   },
   "outputs": [],
   "source": [
    "training_dataset = PolarityReviewDataset(x_train, y_train, tokenizer)\n",
    "val_dataset = PolarityReviewDataset(x_val, y_val, tokenizer)"
   ]
  },
  {
   "cell_type": "code",
   "execution_count": 9,
   "id": "ba096245",
   "metadata": {
    "ExecuteTime": {
     "end_time": "2022-05-16T00:35:33.634708Z",
     "start_time": "2022-05-16T00:35:33.627804Z"
    }
   },
   "outputs": [
    {
     "name": "stdout",
     "output_type": "stream",
     "text": [
      "{'inputs': {'input_ids': array([[  101, 15349,  1159,   131,   178,  1138,  1309,   117,  1518,\n",
      "         1562,  2065,  1114,  1103,  3223,   119,   178,  1274,   112,\n",
      "          189,  1221,  1725,   117,  1541,   119,  3983,   112,   189,\n",
      "         1458,  1106,  4031,  1122,  1149,  1113,  1888,   117,  3983,\n",
      "          112,   189,  1151,  1120,  1313,  1103,  6823,  1122,  1108,\n",
      "         1113,  2443,   189,  1964,   117,  1105,  1122,  1108,  1315,\n",
      "         1677,  1106,  2797,  1103,  1314,  1159,  1122,  1108,  1113,\n",
      "         1103,  1992,   118,  3251,   119,  1177,  1268,  1146,  1524,\n",
      "          117,   178,   112,  1325,  5890,  1115,   178,  1274,   112,\n",
      "          189,  1221,  1184,  1103, 26913,   178,   112,   182,  2520,\n",
      "         1164,   117,  1133,  1303,  2947,   119,   119,   119,  1110,\n",
      "          189,  5168,  7770,  1103,  2065,  1114,  1103,  3223,  1104,\n",
      "         1103,  1997,   112,   188,   136,  2654,  1115,   112,   188,\n",
      "         1280,   170,  1376,  2113,  1315,  1677,   119,  1112,  1363,\n",
      "          170,   102]]), 'attention_mask': array([[1, 1, 1, 1, 1, 1, 1, 1, 1, 1, 1, 1, 1, 1, 1, 1, 1, 1, 1, 1, 1, 1,\n",
      "        1, 1, 1, 1, 1, 1, 1, 1, 1, 1, 1, 1, 1, 1, 1, 1, 1, 1, 1, 1, 1, 1,\n",
      "        1, 1, 1, 1, 1, 1, 1, 1, 1, 1, 1, 1, 1, 1, 1, 1, 1, 1, 1, 1, 1, 1,\n",
      "        1, 1, 1, 1, 1, 1, 1, 1, 1, 1, 1, 1, 1, 1, 1, 1, 1, 1, 1, 1, 1, 1,\n",
      "        1, 1, 1, 1, 1, 1, 1, 1, 1, 1, 1, 1, 1, 1, 1, 1, 1, 1, 1, 1, 1, 1,\n",
      "        1, 1, 1, 1, 1, 1, 1, 1, 1, 1, 1, 1, 1, 1, 1, 1, 1, 1]])}, 'label': array([1, 0])}\n"
     ]
    }
   ],
   "source": [
    "for td in training_dataset:\n",
    "    print(td)\n",
    "    break"
   ]
  },
  {
   "cell_type": "code",
   "execution_count": 10,
   "id": "9fc2a7ee",
   "metadata": {
    "ExecuteTime": {
     "end_time": "2022-05-16T00:35:33.638799Z",
     "start_time": "2022-05-16T00:35:33.636072Z"
    }
   },
   "outputs": [],
   "source": [
    "def numpy_collate(batch):\n",
    "    if isinstance(batch[0], np.ndarray):\n",
    "        return np.stack(batch)\n",
    "    elif isinstance(batch[0], (tuple,list)):\n",
    "        transposed = zip(*batch)\n",
    "        return [numpy_collate(samples) for samples in transposed]\n",
    "    else:\n",
    "        return np.array(batch)\n",
    "    \n",
    "    \n",
    "# collate fn\n",
    "# https://github.com/google/jax/issues/3382\n",
    "def collate_fn(batch):\n",
    "    if isinstance(batch[0], jnp.ndarray):\n",
    "        return jnp.stack(batch)\n",
    "    elif isinstance(batch[0], (tuple, list)):\n",
    "        return type(batch[0])(collate_fn(samples) for samples in zip(*batch))\n",
    "    else:\n",
    "        return jnp.asarray(batch)"
   ]
  },
  {
   "cell_type": "code",
   "execution_count": 11,
   "id": "978ad684",
   "metadata": {
    "ExecuteTime": {
     "end_time": "2022-05-16T00:35:33.642650Z",
     "start_time": "2022-05-16T00:35:33.639611Z"
    }
   },
   "outputs": [],
   "source": [
    "from torch.utils.data import DataLoader\n",
    "\n",
    "batch_size = 16\n",
    "\n",
    "# loader from custom dataset\n",
    "train_loader = DataLoader(training_dataset, shuffle=True, batch_size=batch_size, \n",
    "                          pin_memory=True, drop_last=True)\n",
    "val_loader = DataLoader(val_dataset, shuffle=False, batch_size=batch_size, \n",
    "                        pin_memory=True)"
   ]
  },
  {
   "cell_type": "code",
   "execution_count": 12,
   "id": "f4617528",
   "metadata": {
    "ExecuteTime": {
     "end_time": "2022-05-16T00:35:36.346824Z",
     "start_time": "2022-05-16T00:35:33.643315Z"
    }
   },
   "outputs": [
    {
     "name": "stdout",
     "output_type": "stream",
     "text": [
      "{'inputs': {'input_ids': tensor([[[  101,  1505,  1122,  ...,  1132,  1549,   102]],\n",
      "\n",
      "        [[  101, 21718,  1306,  ...,  1106,  2824,   102]],\n",
      "\n",
      "        [[  101,  1148, 25263,  ...,  1178,  1225,   102]],\n",
      "\n",
      "        ...,\n",
      "\n",
      "        [[  101,  1106,  1306,  ...,  1104,  1103,   102]],\n",
      "\n",
      "        [[  101,  1451,  1517,  ...,   188, 12283,   102]],\n",
      "\n",
      "        [[  101,  1107,  1139,  ...,  3768,  1118,   102]]]), 'attention_mask': tensor([[[1, 1, 1,  ..., 1, 1, 1]],\n",
      "\n",
      "        [[1, 1, 1,  ..., 1, 1, 1]],\n",
      "\n",
      "        [[1, 1, 1,  ..., 1, 1, 1]],\n",
      "\n",
      "        ...,\n",
      "\n",
      "        [[1, 1, 1,  ..., 1, 1, 1]],\n",
      "\n",
      "        [[1, 1, 1,  ..., 1, 1, 1]],\n",
      "\n",
      "        [[1, 1, 1,  ..., 1, 1, 1]]])}, 'label': tensor([[0, 1],\n",
      "        [1, 0],\n",
      "        [0, 1],\n",
      "        [0, 1],\n",
      "        [1, 0],\n",
      "        [1, 0],\n",
      "        [0, 1],\n",
      "        [0, 1],\n",
      "        [1, 0],\n",
      "        [0, 1],\n",
      "        [1, 0],\n",
      "        [0, 1],\n",
      "        [1, 0],\n",
      "        [0, 1],\n",
      "        [1, 0],\n",
      "        [0, 1]])}\n"
     ]
    }
   ],
   "source": [
    "for td in train_loader:\n",
    "    print(td)\n",
    "    break"
   ]
  },
  {
   "cell_type": "markdown",
   "id": "2fcfd3f0",
   "metadata": {},
   "source": [
    "## Model"
   ]
  },
  {
   "cell_type": "code",
   "execution_count": 13,
   "id": "bcce3a85",
   "metadata": {
    "ExecuteTime": {
     "end_time": "2022-05-16T00:35:36.404344Z",
     "start_time": "2022-05-16T00:35:36.347719Z"
    }
   },
   "outputs": [],
   "source": [
    "import flax\n",
    "from flax import linen as nn\n",
    "\n",
    "from transformers import FlaxBertModel\n",
    "\n",
    "# define the model\n",
    "\n",
    "class SentiBert(nn.Module):\n",
    "    @nn.compact  \n",
    "    def __call__(self, x):\n",
    "        bert = FlaxBertModel.from_pretrained(model_name)\n",
    "        out = bert(**x)\n",
    "        out = out.pooler_output\n",
    "        linear = nn.Dense(features=2)\n",
    "        out = linear(out)\n",
    "        \n",
    "        return out"
   ]
  },
  {
   "cell_type": "code",
   "execution_count": 14,
   "id": "79b1312b",
   "metadata": {
    "ExecuteTime": {
     "end_time": "2022-05-16T00:35:36.665223Z",
     "start_time": "2022-05-16T00:35:36.405117Z"
    }
   },
   "outputs": [],
   "source": [
    "masterkey = jax.random.PRNGKey(42)\n",
    "model_key, data_key = jax.random.split(masterkey)"
   ]
  },
  {
   "cell_type": "code",
   "execution_count": 15,
   "id": "d2375dd0",
   "metadata": {
    "ExecuteTime": {
     "end_time": "2022-05-16T00:35:43.689826Z",
     "start_time": "2022-05-16T00:35:36.666147Z"
    }
   },
   "outputs": [
    {
     "name": "stderr",
     "output_type": "stream",
     "text": [
      "Some weights of FlaxBertModel were not initialized from the model checkpoint at bert-base-cased and are newly initialized: {('pooler', 'dense', 'kernel'), ('pooler', 'dense', 'bias')}\n",
      "You should probably TRAIN this model on a down-stream task to be able to use it for predictions and inference.\n"
     ]
    }
   ],
   "source": [
    "model = SentiBert()\n",
    "\n",
    "\n",
    "# dummy input\n",
    "dummy = tokenizer.encode_plus(\"this is some text\", max_length=128, padding=\"max_length\", \n",
    "                              truncation=True, return_tensors=\"jax\")\n",
    "\n",
    "params = model.init(model_key, dummy)"
   ]
  },
  {
   "cell_type": "code",
   "execution_count": 16,
   "id": "89355671",
   "metadata": {
    "ExecuteTime": {
     "end_time": "2022-05-16T00:35:43.696683Z",
     "start_time": "2022-05-16T00:35:43.690652Z"
    }
   },
   "outputs": [
    {
     "data": {
      "text/plain": [
       "{'input_ids': DeviceArray([[ 101, 1142, 1110, 1199, 3087,  102,    0,    0,    0,    0,\n",
       "                 0,    0,    0,    0,    0,    0,    0,    0,    0,    0,\n",
       "                 0,    0,    0,    0,    0,    0,    0,    0,    0,    0,\n",
       "                 0,    0,    0,    0,    0,    0,    0,    0,    0,    0,\n",
       "                 0,    0,    0,    0,    0,    0,    0,    0,    0,    0,\n",
       "                 0,    0,    0,    0,    0,    0,    0,    0,    0,    0,\n",
       "                 0,    0,    0,    0,    0,    0,    0,    0,    0,    0,\n",
       "                 0,    0,    0,    0,    0,    0,    0,    0,    0,    0,\n",
       "                 0,    0,    0,    0,    0,    0,    0,    0,    0,    0,\n",
       "                 0,    0,    0,    0,    0,    0,    0,    0,    0,    0,\n",
       "                 0,    0,    0,    0,    0,    0,    0,    0,    0,    0,\n",
       "                 0,    0,    0,    0,    0,    0,    0,    0,    0,    0,\n",
       "                 0,    0,    0,    0,    0,    0,    0,    0]],            dtype=int32), 'token_type_ids': DeviceArray([[0, 0, 0, 0, 0, 0, 0, 0, 0, 0, 0, 0, 0, 0, 0, 0, 0, 0, 0, 0,\n",
       "              0, 0, 0, 0, 0, 0, 0, 0, 0, 0, 0, 0, 0, 0, 0, 0, 0, 0, 0, 0,\n",
       "              0, 0, 0, 0, 0, 0, 0, 0, 0, 0, 0, 0, 0, 0, 0, 0, 0, 0, 0, 0,\n",
       "              0, 0, 0, 0, 0, 0, 0, 0, 0, 0, 0, 0, 0, 0, 0, 0, 0, 0, 0, 0,\n",
       "              0, 0, 0, 0, 0, 0, 0, 0, 0, 0, 0, 0, 0, 0, 0, 0, 0, 0, 0, 0,\n",
       "              0, 0, 0, 0, 0, 0, 0, 0, 0, 0, 0, 0, 0, 0, 0, 0, 0, 0, 0, 0,\n",
       "              0, 0, 0, 0, 0, 0, 0, 0]], dtype=int32), 'attention_mask': DeviceArray([[1, 1, 1, 1, 1, 1, 0, 0, 0, 0, 0, 0, 0, 0, 0, 0, 0, 0, 0, 0,\n",
       "              0, 0, 0, 0, 0, 0, 0, 0, 0, 0, 0, 0, 0, 0, 0, 0, 0, 0, 0, 0,\n",
       "              0, 0, 0, 0, 0, 0, 0, 0, 0, 0, 0, 0, 0, 0, 0, 0, 0, 0, 0, 0,\n",
       "              0, 0, 0, 0, 0, 0, 0, 0, 0, 0, 0, 0, 0, 0, 0, 0, 0, 0, 0, 0,\n",
       "              0, 0, 0, 0, 0, 0, 0, 0, 0, 0, 0, 0, 0, 0, 0, 0, 0, 0, 0, 0,\n",
       "              0, 0, 0, 0, 0, 0, 0, 0, 0, 0, 0, 0, 0, 0, 0, 0, 0, 0, 0, 0,\n",
       "              0, 0, 0, 0, 0, 0, 0, 0]], dtype=int32)}"
      ]
     },
     "execution_count": 16,
     "metadata": {},
     "output_type": "execute_result"
    }
   ],
   "source": [
    "dummy"
   ]
  },
  {
   "cell_type": "code",
   "execution_count": 17,
   "id": "da70fbb2",
   "metadata": {
    "ExecuteTime": {
     "end_time": "2022-05-16T00:35:46.226449Z",
     "start_time": "2022-05-16T00:35:43.697458Z"
    }
   },
   "outputs": [
    {
     "name": "stderr",
     "output_type": "stream",
     "text": [
      "Some weights of FlaxBertModel were not initialized from the model checkpoint at bert-base-cased and are newly initialized: {('pooler', 'dense', 'kernel'), ('pooler', 'dense', 'bias')}\n",
      "You should probably TRAIN this model on a down-stream task to be able to use it for predictions and inference.\n"
     ]
    },
    {
     "data": {
      "text/plain": [
       "DeviceArray([[-0.13187033,  0.21753377]], dtype=float32)"
      ]
     },
     "execution_count": 17,
     "metadata": {},
     "output_type": "execute_result"
    }
   ],
   "source": [
    "model.apply(params, dummy)"
   ]
  },
  {
   "cell_type": "code",
   "execution_count": 18,
   "id": "3e0215e2",
   "metadata": {
    "ExecuteTime": {
     "end_time": "2022-05-16T00:35:46.229478Z",
     "start_time": "2022-05-16T00:35:46.227241Z"
    }
   },
   "outputs": [
    {
     "data": {
      "text/plain": [
       "FrozenDict({\n",
       "    params: {\n",
       "        Dense_0: {\n",
       "            bias: (2,),\n",
       "            kernel: (768, 2),\n",
       "        },\n",
       "    },\n",
       "})"
      ]
     },
     "execution_count": 18,
     "metadata": {},
     "output_type": "execute_result"
    }
   ],
   "source": [
    "jax.tree_map(lambda x:x.shape, params)"
   ]
  },
  {
   "cell_type": "code",
   "execution_count": 19,
   "id": "91d1131d",
   "metadata": {
    "ExecuteTime": {
     "end_time": "2022-05-16T00:35:46.241159Z",
     "start_time": "2022-05-16T00:35:46.230103Z"
    }
   },
   "outputs": [],
   "source": [
    "@jax.jit\n",
    "def cross_entropy(logits, labels):\n",
    "    return -jnp.sum(labels * jax.nn.log_softmax(logits, axis=-1), axis=-1)"
   ]
  },
  {
   "cell_type": "code",
   "execution_count": 20,
   "id": "4297872b",
   "metadata": {
    "ExecuteTime": {
     "end_time": "2022-05-16T00:35:46.244724Z",
     "start_time": "2022-05-16T00:35:46.241800Z"
    }
   },
   "outputs": [],
   "source": [
    "def loss_fn(params, inputs, labels):\n",
    "    logits = model.apply(params, inputs)\n",
    "    loss = cross_entropy(logits, labels).mean()\n",
    "    return loss"
   ]
  },
  {
   "cell_type": "code",
   "execution_count": 21,
   "id": "7afc44e2",
   "metadata": {
    "ExecuteTime": {
     "end_time": "2022-05-16T00:35:46.328969Z",
     "start_time": "2022-05-16T00:35:46.245389Z"
    }
   },
   "outputs": [
    {
     "data": {
      "text/plain": [
       "DeviceArray([0.73427236, 0.59097636, 0.6020518 , 1.0221114 , 0.60700476,\n",
       "             0.55114216, 0.63427025, 0.78005785, 0.9379386 , 0.58483785,\n",
       "             0.44559944, 0.73226553, 1.0747612 , 0.7124811 , 0.53850824,\n",
       "             0.60080826], dtype=float32)"
      ]
     },
     "execution_count": 21,
     "metadata": {},
     "output_type": "execute_result"
    }
   ],
   "source": [
    "qq = np.random.rand(16, 2)\n",
    "ll = np.array([[0, 1]] * 16)\n",
    "cross_entropy(qq, ll)"
   ]
  },
  {
   "cell_type": "code",
   "execution_count": 22,
   "id": "c9d746b1",
   "metadata": {
    "ExecuteTime": {
     "end_time": "2022-05-16T00:35:46.402937Z",
     "start_time": "2022-05-16T00:35:46.329737Z"
    }
   },
   "outputs": [],
   "source": [
    "import optax\n",
    "\n",
    "optimizer = optax.adam(learning_rate=2e-5)\n",
    "optimizer_state = optimizer.init(params)\n",
    "loss_fn_grad = jax.value_and_grad(loss_fn) "
   ]
  },
  {
   "cell_type": "code",
   "execution_count": 23,
   "id": "9b2b164d",
   "metadata": {
    "ExecuteTime": {
     "end_time": "2022-05-16T00:35:46.405911Z",
     "start_time": "2022-05-16T00:35:46.403751Z"
    }
   },
   "outputs": [],
   "source": [
    "@jax.jit\n",
    "def train_step(params, opt_state, inputs, labels):\n",
    "    loss, grads = loss_fn_grad(params, inputs, labels)\n",
    "    updates, opt_state = optimizer.update(grads, opt_state)\n",
    "    updated_params = optax.apply_updates(params, updates)\n",
    "    \n",
    "    return updated_params, opt_state, loss"
   ]
  },
  {
   "cell_type": "code",
   "execution_count": 28,
   "id": "a18bd3ef",
   "metadata": {
    "ExecuteTime": {
     "end_time": "2022-05-16T00:39:15.329286Z",
     "start_time": "2022-05-16T00:39:15.295455Z"
    }
   },
   "outputs": [
    {
     "name": "stderr",
     "output_type": "stream",
     "text": [
      "  0%|                                                                                                | 0/80 [00:00<?, ?it/s]"
     ]
    },
    {
     "name": "stdout",
     "output_type": "stream",
     "text": [
      "{'input_ids': tensor([[[  101,  1122,   112,  ...,   188,  6617,   102]],\n",
      "\n",
      "        [[  101,  1165,  6103,  ...,   170, 10310,   102]],\n",
      "\n",
      "        [[  101,   188,  5730,  ...,  4763,   119,   102]],\n",
      "\n",
      "        ...,\n",
      "\n",
      "        [[  101,  2851,  8755,  ...,  1104,  1103,   102]],\n",
      "\n",
      "        [[  101, 12477,  5997,  ...,  1103,  1322,   102]],\n",
      "\n",
      "        [[  101,  1155,  1268,  ...,  4055,  2008,   102]]]), 'attention_mask': tensor([[[1, 1, 1,  ..., 1, 1, 1]],\n",
      "\n",
      "        [[1, 1, 1,  ..., 1, 1, 1]],\n",
      "\n",
      "        [[1, 1, 1,  ..., 1, 1, 1]],\n",
      "\n",
      "        ...,\n",
      "\n",
      "        [[1, 1, 1,  ..., 1, 1, 1]],\n",
      "\n",
      "        [[1, 1, 1,  ..., 1, 1, 1]],\n",
      "\n",
      "        [[1, 1, 1,  ..., 1, 1, 1]]])}\n"
     ]
    },
    {
     "name": "stderr",
     "output_type": "stream",
     "text": [
      "\n"
     ]
    }
   ],
   "source": [
    "epochs = 5\n",
    "\n",
    "losses = list()\n",
    "\n",
    "for e in range(epochs):\n",
    "    for batch in tqdm(train_loader):\n",
    "        inputs = batch[\"inputs\"]\n",
    "        \n",
    "        print(inputs)\n",
    "        break\n",
    "        \n",
    "        labels = batch[\"label\"]\n",
    "        \n",
    "        params, optimizer_state, loss = train_step(params, optimizer_state, inputs, labels)\n",
    "        losses.append(loss)\n",
    "    break"
   ]
  },
  {
   "cell_type": "code",
   "execution_count": 25,
   "id": "396409be",
   "metadata": {
    "ExecuteTime": {
     "end_time": "2022-05-16T00:35:56.807987Z",
     "start_time": "2022-05-16T00:35:56.299573Z"
    }
   },
   "outputs": [
    {
     "data": {
      "text/plain": [
       "[<matplotlib.lines.Line2D at 0x7f38d1d12a10>]"
      ]
     },
     "execution_count": 25,
     "metadata": {},
     "output_type": "execute_result"
    },
    {
     "data": {
      "image/png": "[encoded data removed]",
      "text/plain": [
       "<Figure size 432x288 with 1 Axes>"
      ]
     },
     "metadata": {
      "needs_background": "light"
     },
     "output_type": "display_data"
    }
   ],
   "source": [
    "%matplotlib inline\n",
    "import matplotlib.pyplot as plt\n",
    "\n",
    "plt.plot([i for i in range(len(losses))], losses)"
   ]
  },
  {
   "cell_type": "markdown",
   "id": "b52b3467",
   "metadata": {},
   "source": [
    "# Look into collate_fn for pytorch dataloaders"
   ]
  },
  {
   "cell_type": "code",
   "execution_count": null,
   "id": "23499f5b",
   "metadata": {},
   "outputs": [],
   "source": []
  }
 ],
 "metadata": {
  "kernelspec": {
   "display_name": "Python 3 (ipykernel)",
   "language": "python",
   "name": "python3"
  },
  "language_info": {
   "codemirror_mode": {
    "name": "ipython",
    "version": 3
   },
   "file_extension": ".py",
   "mimetype": "text/x-python",
   "name": "python",
   "nbconvert_exporter": "python",
   "pygments_lexer": "ipython3",
   "version": "3.10.4"
  },
  "latex_envs": {
   "LaTeX_envs_menu_present": true,
   "autoclose": false,
   "autocomplete": true,
   "bibliofile": "biblio.bib",
   "cite_by": "apalike",
   "current_citInitial": 1,
   "eqLabelWithNumbers": true,
   "eqNumInitial": 1,
   "hotkeys": {
    "equation": "Ctrl-E",
    "itemize": "Ctrl-I"
   },
   "labels_anchors": false,
   "latex_user_defs": false,
   "report_style_numbering": false,
   "user_envs_cfg": false
  },
  "toc": {
   "base_numbering": 1,
   "nav_menu": {},
   "number_sections": true,
   "sideBar": true,
   "skip_h1_title": false,
   "title_cell": "Table of Contents",
   "title_sidebar": "Contents",
   "toc_cell": false,
   "toc_position": {},
   "toc_section_display": true,
   "toc_window_display": false
  },
  "varInspector": {
   "cols": {
    "lenName": 16,
    "lenType": 16,
    "lenVar": 40
   },
   "kernels_config": {
    "python": {
     "delete_cmd_postfix": "",
     "delete_cmd_prefix": "del ",
     "library": "var_list.py",
     "varRefreshCmd": "print(var_dic_list())"
    },
    "r": {
     "delete_cmd_postfix": ") ",
     "delete_cmd_prefix": "rm(",
     "library": "var_list.r",
     "varRefreshCmd": "cat(var_dic_list()) "
    }
   },
   "position": {
    "height": "942.517px",
    "left": "422.333px",
    "right": "20px",
    "top": "138px",
    "width": "646.333px"
   },
   "types_to_exclude": [
    "module",
    "function",
    "builtin_function_or_method",
    "instance",
    "_Feature"
   ],
   "window_display": false
  }
 },
 "nbformat": 4,
 "nbformat_minor": 5
}
