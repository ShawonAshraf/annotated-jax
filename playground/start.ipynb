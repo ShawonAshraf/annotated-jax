{
 "cells": [
  {
   "cell_type": "code",
   "execution_count": 1,
   "id": "2c00e5a5",
   "metadata": {},
   "outputs": [],
   "source": [
    "import jax.numpy as jnp\n",
    "from jax import grad, jit, vmap\n",
    "from jax import random"
   ]
  },
  {
   "cell_type": "code",
   "execution_count": 2,
   "id": "331568c0",
   "metadata": {},
   "outputs": [
    {
     "name": "stdout",
     "output_type": "stream",
     "text": [
      "gpu\n"
     ]
    }
   ],
   "source": [
    "from jax.lib import xla_bridge\n",
    "\n",
    "print(xla_bridge.get_backend().platform)"
   ]
  },
  {
   "cell_type": "code",
   "execution_count": 18,
   "id": "69938f64",
   "metadata": {},
   "outputs": [
    {
     "data": {
      "text/plain": [
       "DeviceArray([ 0.36900434, -0.46067542, -0.8650934 ,  1.2080883 ,\n",
       "              1.003065  , -0.8708058 , -0.3984997 , -0.6670092 ,\n",
       "              0.33689356,  0.39822492], dtype=float32)"
      ]
     },
     "execution_count": 18,
     "metadata": {},
     "output_type": "execute_result"
    }
   ],
   "source": [
    "key = random.PRNGKey(42)\n",
    "\n",
    "random.normal(key, (10, ))"
   ]
  },
  {
   "cell_type": "code",
   "execution_count": 20,
   "id": "9f056f7d",
   "metadata": {},
   "outputs": [
    {
     "name": "stdout",
     "output_type": "stream",
     "text": [
      "Help on function PRNGKey in module jax._src.random:\n",
      "\n",
      "PRNGKey(seed: int) -> Union[Any, jax._src.prng.PRNGKeyArray]\n",
      "    Create a pseudo-random number generator (PRNG) key given an integer seed.\n",
      "    \n",
      "    The resulting key carries the default PRNG implementation, as\n",
      "    determined by the ``jax_default_prng_impl`` config flag.\n",
      "    \n",
      "    Args:\n",
      "      seed: a 64- or 32-bit integer used as the value of the key.\n",
      "    \n",
      "    Returns:\n",
      "      A PRNG key, consumable by random functions as well as ``split``\n",
      "      and ``fold_in``.\n",
      "\n"
     ]
    }
   ],
   "source": [
    "help(random.PRNGKey)"
   ]
  },
  {
   "cell_type": "code",
   "execution_count": 21,
   "id": "334463a9",
   "metadata": {},
   "outputs": [
    {
     "data": {
      "text/plain": [
       "DeviceArray(15, dtype=int32)"
      ]
     },
     "execution_count": 21,
     "metadata": {},
     "output_type": "execute_result"
    }
   ],
   "source": [
    "jnp.sum(jnp.array([1, 2, 3, 4, 5]))"
   ]
  },
  {
   "cell_type": "code",
   "execution_count": null,
   "id": "83534ea7",
   "metadata": {},
   "outputs": [],
   "source": []
  }
 ],
 "metadata": {
  "kernelspec": {
   "display_name": "Python 3 (ipykernel)",
   "language": "python",
   "name": "python3"
  },
  "language_info": {
   "codemirror_mode": {
    "name": "ipython",
    "version": 3
   },
   "file_extension": ".py",
   "mimetype": "text/x-python",
   "name": "python",
   "nbconvert_exporter": "python",
   "pygments_lexer": "ipython3",
   "version": "3.9.7"
  }
 },
 "nbformat": 4,
 "nbformat_minor": 5
}
