{
 "cells": [
  {
   "cell_type": "code",
   "execution_count": 1,
   "id": "44812a0f",
   "metadata": {
    "ExecuteTime": {
     "end_time": "2022-05-13T15:18:23.231684Z",
     "start_time": "2022-05-13T15:18:23.076113Z"
    }
   },
   "outputs": [],
   "source": [
    "import pandas as pd"
   ]
  },
  {
   "cell_type": "code",
   "execution_count": 2,
   "id": "60cefcd9",
   "metadata": {
    "ExecuteTime": {
     "end_time": "2022-05-13T15:18:23.480736Z",
     "start_time": "2022-05-13T15:18:23.232702Z"
    }
   },
   "outputs": [
    {
     "data": {
      "text/html": [
       "<div>\n",
       "<style scoped>\n",
       "    .dataframe tbody tr th:only-of-type {\n",
       "        vertical-align: middle;\n",
       "    }\n",
       "\n",
       "    .dataframe tbody tr th {\n",
       "        vertical-align: top;\n",
       "    }\n",
       "\n",
       "    .dataframe thead th {\n",
       "        text-align: right;\n",
       "    }\n",
       "</style>\n",
       "<table border=\"1\" class=\"dataframe\">\n",
       "  <thead>\n",
       "    <tr style=\"text-align: right;\">\n",
       "      <th></th>\n",
       "      <th>0</th>\n",
       "      <th>1</th>\n",
       "      <th>2</th>\n",
       "      <th>3</th>\n",
       "      <th>target</th>\n",
       "    </tr>\n",
       "  </thead>\n",
       "  <tbody>\n",
       "    <tr>\n",
       "      <th>0</th>\n",
       "      <td>5.1</td>\n",
       "      <td>3.5</td>\n",
       "      <td>1.4</td>\n",
       "      <td>0.2</td>\n",
       "      <td>0</td>\n",
       "    </tr>\n",
       "    <tr>\n",
       "      <th>1</th>\n",
       "      <td>4.9</td>\n",
       "      <td>3.0</td>\n",
       "      <td>1.4</td>\n",
       "      <td>0.2</td>\n",
       "      <td>0</td>\n",
       "    </tr>\n",
       "    <tr>\n",
       "      <th>2</th>\n",
       "      <td>4.7</td>\n",
       "      <td>3.2</td>\n",
       "      <td>1.3</td>\n",
       "      <td>0.2</td>\n",
       "      <td>0</td>\n",
       "    </tr>\n",
       "    <tr>\n",
       "      <th>3</th>\n",
       "      <td>4.6</td>\n",
       "      <td>3.1</td>\n",
       "      <td>1.5</td>\n",
       "      <td>0.2</td>\n",
       "      <td>0</td>\n",
       "    </tr>\n",
       "    <tr>\n",
       "      <th>4</th>\n",
       "      <td>5.0</td>\n",
       "      <td>3.6</td>\n",
       "      <td>1.4</td>\n",
       "      <td>0.2</td>\n",
       "      <td>0</td>\n",
       "    </tr>\n",
       "  </tbody>\n",
       "</table>\n",
       "</div>"
      ],
      "text/plain": [
       "     0    1    2    3  target\n",
       "0  5.1  3.5  1.4  0.2       0\n",
       "1  4.9  3.0  1.4  0.2       0\n",
       "2  4.7  3.2  1.3  0.2       0\n",
       "3  4.6  3.1  1.5  0.2       0\n",
       "4  5.0  3.6  1.4  0.2       0"
      ]
     },
     "execution_count": 2,
     "metadata": {},
     "output_type": "execute_result"
    }
   ],
   "source": [
    "from sklearn.datasets import load_iris\n",
    "iris = load_iris()\n",
    "df = pd.DataFrame(data=iris.data)\n",
    "df[\"target\"] = iris.target\n",
    "df.head()"
   ]
  },
  {
   "cell_type": "code",
   "execution_count": 3,
   "id": "d7903a62",
   "metadata": {
    "ExecuteTime": {
     "end_time": "2022-05-13T15:18:23.483849Z",
     "start_time": "2022-05-13T15:18:23.481547Z"
    }
   },
   "outputs": [],
   "source": [
    "X, y = df[[i for i in range(4)]], df[\"target\"]\n",
    "X = X.to_numpy()\n",
    "y = y.to_numpy()"
   ]
  },
  {
   "cell_type": "code",
   "execution_count": 4,
   "id": "72970624",
   "metadata": {
    "ExecuteTime": {
     "end_time": "2022-05-13T15:18:23.501991Z",
     "start_time": "2022-05-13T15:18:23.484838Z"
    }
   },
   "outputs": [],
   "source": [
    "from sklearn.model_selection import train_test_split\n",
    "\n",
    "X_train, X_test, y_train, y_test = train_test_split(X, y, test_size=0.2, random_state=0)"
   ]
  },
  {
   "cell_type": "code",
   "execution_count": 5,
   "id": "cd19ae5a",
   "metadata": {
    "ExecuteTime": {
     "end_time": "2022-05-13T15:18:23.747252Z",
     "start_time": "2022-05-13T15:18:23.502706Z"
    }
   },
   "outputs": [],
   "source": [
    "import numpy as np\n",
    "import jax\n",
    "import jax.numpy as jnp\n",
    "import flax\n",
    "from flax import linen as nn"
   ]
  },
  {
   "cell_type": "code",
   "execution_count": 6,
   "id": "d46c775e",
   "metadata": {
    "ExecuteTime": {
     "end_time": "2022-05-13T15:18:23.862973Z",
     "start_time": "2022-05-13T15:18:23.748127Z"
    }
   },
   "outputs": [
    {
     "data": {
      "text/plain": [
       "'gpu'"
      ]
     },
     "execution_count": 6,
     "metadata": {},
     "output_type": "execute_result"
    }
   ],
   "source": [
    "from jax.lib import xla_bridge\n",
    "xla_bridge.get_backend().platform"
   ]
  },
  {
   "cell_type": "code",
   "execution_count": 7,
   "id": "7e5b7ac6",
   "metadata": {
    "ExecuteTime": {
     "end_time": "2022-05-13T15:18:24.148879Z",
     "start_time": "2022-05-13T15:18:23.863832Z"
    }
   },
   "outputs": [
    {
     "data": {
      "text/plain": [
       "DeviceArray([0, 0], dtype=uint32)"
      ]
     },
     "execution_count": 7,
     "metadata": {},
     "output_type": "execute_result"
    }
   ],
   "source": [
    "masterkey = jax.random.PRNGKey(0)\n",
    "masterkey"
   ]
  },
  {
   "cell_type": "code",
   "execution_count": 8,
   "id": "49154631",
   "metadata": {
    "ExecuteTime": {
     "end_time": "2022-05-13T15:18:24.152201Z",
     "start_time": "2022-05-13T15:18:24.149741Z"
    }
   },
   "outputs": [],
   "source": [
    "class Ann(nn.Module):\n",
    "    def setup(self):\n",
    "        self.dense = nn.Dense(features=3)\n",
    "        \n",
    "    def __call__(self, x):\n",
    "        out = self.dense(x)\n",
    "        out = jax.nn.softmax(out)\n",
    "        return out"
   ]
  },
  {
   "cell_type": "code",
   "execution_count": 9,
   "id": "b2061f3f",
   "metadata": {
    "ExecuteTime": {
     "end_time": "2022-05-13T15:18:24.757445Z",
     "start_time": "2022-05-13T15:18:24.152888Z"
    }
   },
   "outputs": [
    {
     "data": {
      "text/plain": [
       "FrozenDict({\n",
       "    params: {\n",
       "        dense: {\n",
       "            kernel: DeviceArray([[ 0.38065028,  0.5594941 ,  0.37281904],\n",
       "                         [ 0.4069356 , -0.28853688,  0.18296593],\n",
       "                         [-0.7483908 , -0.73975974, -0.4646266 ],\n",
       "                         [ 0.5796048 ,  0.8613224 , -0.471414  ]], dtype=float32),\n",
       "            bias: DeviceArray([0., 0., 0.], dtype=float32),\n",
       "        },\n",
       "    },\n",
       "})"
      ]
     },
     "execution_count": 9,
     "metadata": {},
     "output_type": "execute_result"
    }
   ],
   "source": [
    "model = Ann()\n",
    "params = model.init(masterkey, X_train[0])\n",
    "params"
   ]
  },
  {
   "cell_type": "code",
   "execution_count": 10,
   "id": "936a7568",
   "metadata": {
    "ExecuteTime": {
     "end_time": "2022-05-13T15:18:24.774017Z",
     "start_time": "2022-05-13T15:18:24.759014Z"
    }
   },
   "outputs": [
    {
     "data": {
      "text/plain": [
       "DeviceArray([0.50647944, 0.3207565 , 0.17276412], dtype=float32)"
      ]
     },
     "execution_count": 10,
     "metadata": {},
     "output_type": "execute_result"
    }
   ],
   "source": [
    "y = model.apply(params, X_train[0])\n",
    "y"
   ]
  },
  {
   "cell_type": "code",
   "execution_count": 11,
   "id": "0b5186a3",
   "metadata": {
    "ExecuteTime": {
     "end_time": "2022-05-13T15:18:24.785187Z",
     "start_time": "2022-05-13T15:18:24.774761Z"
    }
   },
   "outputs": [],
   "source": [
    "def ce_loss(params, xs, ys):\n",
    "    def ce(x, y):\n",
    "        logits = model.apply(params, x)\n",
    "        loss = -jnp.log(logits[y])\n",
    "        \n",
    "        #print(loss)\n",
    "    \n",
    "        return loss\n",
    "    \n",
    "    return jnp.mean(jax.vmap(ce)(xs, ys), axis=0)"
   ]
  },
  {
   "cell_type": "code",
   "execution_count": 12,
   "id": "6e99b316",
   "metadata": {
    "ExecuteTime": {
     "end_time": "2022-05-13T15:18:24.822478Z",
     "start_time": "2022-05-13T15:18:24.785887Z"
    }
   },
   "outputs": [],
   "source": [
    "import optax\n",
    "\n",
    "optim = optax.sgd(learning_rate=0.1)\n",
    "optim_state = optim.init(params)\n",
    "loss_grad_fn = jax.value_and_grad(ce_loss)"
   ]
  },
  {
   "cell_type": "code",
   "execution_count": 13,
   "id": "32f85495",
   "metadata": {
    "ExecuteTime": {
     "end_time": "2022-05-13T15:18:44.375978Z",
     "start_time": "2022-05-13T15:18:24.823355Z"
    }
   },
   "outputs": [
    {
     "name": "stdout",
     "output_type": "stream",
     "text": [
      "Step 0 :: 1.2861980199813843\n",
      "Step 100 :: 0.44869717955589294\n",
      "Step 200 :: 0.2791523039340973\n",
      "Step 300 :: 0.23242047429084778\n",
      "Step 400 :: 0.20332759618759155\n",
      "Step 500 :: 0.18320882320404053\n",
      "Step 600 :: 0.1684349775314331\n",
      "Step 700 :: 0.15710097551345825\n",
      "Step 800 :: 0.14811217784881592\n",
      "Step 900 :: 0.14079517126083374\n",
      "Step 1000 :: 0.1347130537033081\n"
     ]
    }
   ],
   "source": [
    "# train\n",
    "for i in range(1000 + 1):\n",
    "    loss_val, gradient = loss_grad_fn(params, X_train, y_train)\n",
    "    update, optim_state = optim.update(gradient, optim_state)\n",
    "    params = optax.apply_updates(params, update)\n",
    "    \n",
    "    if i % 100 == 0:\n",
    "        print(f\"Step {i} :: {loss_val}\")"
   ]
  },
  {
   "cell_type": "code",
   "execution_count": 14,
   "id": "22093758",
   "metadata": {
    "ExecuteTime": {
     "end_time": "2022-05-13T15:18:44.379000Z",
     "start_time": "2022-05-13T15:18:44.376898Z"
    }
   },
   "outputs": [],
   "source": [
    "@jax.jit\n",
    "def infer(params, xs):\n",
    "    def infer_x(x):\n",
    "        logits = model.apply(params, x)\n",
    "        return jnp.argmax(logits, axis=0)\n",
    "    \n",
    "    return jax.vmap(infer_x)(xs)"
   ]
  },
  {
   "cell_type": "code",
   "execution_count": 15,
   "id": "fa3f243c",
   "metadata": {
    "ExecuteTime": {
     "end_time": "2022-05-13T15:18:44.482357Z",
     "start_time": "2022-05-13T15:18:44.379805Z"
    }
   },
   "outputs": [],
   "source": [
    "preds = infer(params, X_test)"
   ]
  },
  {
   "cell_type": "code",
   "execution_count": 16,
   "id": "f0a647d3",
   "metadata": {
    "ExecuteTime": {
     "end_time": "2022-05-13T15:18:44.487535Z",
     "start_time": "2022-05-13T15:18:44.483282Z"
    }
   },
   "outputs": [
    {
     "name": "stdout",
     "output_type": "stream",
     "text": [
      "              precision    recall  f1-score   support\n",
      "\n",
      "           0       1.00      1.00      1.00        11\n",
      "           1       1.00      1.00      1.00        13\n",
      "           2       1.00      1.00      1.00         6\n",
      "\n",
      "    accuracy                           1.00        30\n",
      "   macro avg       1.00      1.00      1.00        30\n",
      "weighted avg       1.00      1.00      1.00        30\n",
      "\n"
     ]
    }
   ],
   "source": [
    "from sklearn.metrics import classification_report\n",
    "\n",
    "print(classification_report(y_pred=preds, y_true=y_test))"
   ]
  },
  {
   "cell_type": "code",
   "execution_count": null,
   "id": "eeb3f027",
   "metadata": {},
   "outputs": [],
   "source": []
  }
 ],
 "metadata": {
  "kernelspec": {
   "display_name": "Python 3 (ipykernel)",
   "language": "python",
   "name": "python3"
  },
  "language_info": {
   "codemirror_mode": {
    "name": "ipython",
    "version": 3
   },
   "file_extension": ".py",
   "mimetype": "text/x-python",
   "name": "python",
   "nbconvert_exporter": "python",
   "pygments_lexer": "ipython3",
   "version": "3.10.4"
  },
  "latex_envs": {
   "LaTeX_envs_menu_present": true,
   "autoclose": false,
   "autocomplete": true,
   "bibliofile": "biblio.bib",
   "cite_by": "apalike",
   "current_citInitial": 1,
   "eqLabelWithNumbers": true,
   "eqNumInitial": 1,
   "hotkeys": {
    "equation": "Ctrl-E",
    "itemize": "Ctrl-I"
   },
   "labels_anchors": false,
   "latex_user_defs": false,
   "report_style_numbering": false,
   "user_envs_cfg": false
  },
  "toc": {
   "base_numbering": 1,
   "nav_menu": {},
   "number_sections": true,
   "sideBar": true,
   "skip_h1_title": false,
   "title_cell": "Table of Contents",
   "title_sidebar": "Contents",
   "toc_cell": false,
   "toc_position": {},
   "toc_section_display": true,
   "toc_window_display": false
  },
  "varInspector": {
   "cols": {
    "lenName": 16,
    "lenType": 16,
    "lenVar": 40
   },
   "kernels_config": {
    "python": {
     "delete_cmd_postfix": "",
     "delete_cmd_prefix": "del ",
     "library": "var_list.py",
     "varRefreshCmd": "print(var_dic_list())"
    },
    "r": {
     "delete_cmd_postfix": ") ",
     "delete_cmd_prefix": "rm(",
     "library": "var_list.r",
     "varRefreshCmd": "cat(var_dic_list()) "
    }
   },
   "types_to_exclude": [
    "module",
    "function",
    "builtin_function_or_method",
    "instance",
    "_Feature"
   ],
   "window_display": false
  }
 },
 "nbformat": 4,
 "nbformat_minor": 5
}
