{
 "cells": [
  {
   "cell_type": "code",
   "execution_count": 1,
   "id": "ee38a5e8",
   "metadata": {
    "ExecuteTime": {
     "end_time": "2022-05-30T23:35:57.242660Z",
     "start_time": "2022-05-30T23:35:56.818647Z"
    }
   },
   "outputs": [],
   "source": [
    "import jax as J\n",
    "import jax.numpy as jnp"
   ]
  },
  {
   "cell_type": "code",
   "execution_count": 2,
   "id": "31a927cf",
   "metadata": {
    "ExecuteTime": {
     "end_time": "2022-05-30T23:35:57.345745Z",
     "start_time": "2022-05-30T23:35:57.243759Z"
    }
   },
   "outputs": [
    {
     "data": {
      "text/plain": [
       "'gpu'"
      ]
     },
     "execution_count": 2,
     "metadata": {},
     "output_type": "execute_result"
    }
   ],
   "source": [
    "from jax.lib import xla_bridge\n",
    "xla_bridge.get_backend().platform"
   ]
  },
  {
   "cell_type": "code",
   "execution_count": 3,
   "id": "304186be",
   "metadata": {
    "ExecuteTime": {
     "end_time": "2022-05-30T23:35:57.352113Z",
     "start_time": "2022-05-30T23:35:57.346761Z"
    }
   },
   "outputs": [],
   "source": [
    "import os\n",
    "import sys\n",
    "import urllib\n",
    "import tarfile\n",
    "\n",
    "corpus_url = \"http://www.cs.cornell.edu/people/pabo/movie-review-data/review_polarity.tar.gz\"\n",
    "\n",
    "corpus_root = os.path.join(os.getcwd(), \"review_polarity\", \"txt_sentoken\")\n",
    "catgeories = [\"pos\", \"neg\"]\n",
    "\n",
    "\n",
    "def download_and_unzip():\n",
    "    file_name = corpus_url.split(\"/\")[-1]\n",
    "    download_path = os.path.join(os.getcwd(), file_name)\n",
    "    # where the zip will get extracted\n",
    "    extracted_path = os.path.join(os.getcwd(), \"review_polarity\")\n",
    "\n",
    "    if os.path.exists(extracted_path):\n",
    "        print(\"Already downloaded and extracted!\")\n",
    "    else:\n",
    "        # ============================================ download\n",
    "        print(\"Downloading, sit tight!\")\n",
    "\n",
    "        def _progress(count, block_size, total_size):\n",
    "            sys.stdout.write(\n",
    "                f\"\\r>> Downloading {file_name} {float(count * block_size) / float(total_size) * 100.0}%\")\n",
    "            sys.stdout.flush()\n",
    "\n",
    "        file_path, _ = urllib.request.urlretrieve(\n",
    "            corpus_url, download_path, _progress)\n",
    "        print()\n",
    "        print(\n",
    "            f\"Successfully downloaded {file_name} {os.stat(file_path).st_size} bytes\")\n",
    "\n",
    "        # ======================================= unzip\n",
    "        print()\n",
    "        print(\"Unzipping ...\")\n",
    "        # create dir at extracted_path\n",
    "        os.mkdir(extracted_path)\n",
    "        tarfile.open(file_path, \"r:gz\").extractall(extracted_path)\n",
    "\n",
    "        # =========================================== clean up\n",
    "        # delete the downloaded zip file\n",
    "        print(\"Deleting downloaded zip file\")\n",
    "        os.remove(file_path)"
   ]
  },
  {
   "cell_type": "code",
   "execution_count": 4,
   "id": "0273e14f",
   "metadata": {
    "ExecuteTime": {
     "end_time": "2022-05-30T23:35:57.356091Z",
     "start_time": "2022-05-30T23:35:57.352998Z"
    }
   },
   "outputs": [],
   "source": [
    "def read_text_files(path):\n",
    "    file_list = os.listdir(path)\n",
    "    texts = []\n",
    "\n",
    "    for fname in file_list:\n",
    "        fpath = os.path.join(path, fname)\n",
    "\n",
    "        f = open(fpath, mode=\"r\")\n",
    "        lines = f.read()\n",
    "        texts.append(lines)\n",
    "        f.close()\n",
    "\n",
    "    return texts"
   ]
  },
  {
   "cell_type": "code",
   "execution_count": 5,
   "id": "a2d04c22",
   "metadata": {
    "ExecuteTime": {
     "end_time": "2022-05-30T23:35:57.392096Z",
     "start_time": "2022-05-30T23:35:57.356953Z"
    }
   },
   "outputs": [
    {
     "name": "stdout",
     "output_type": "stream",
     "text": [
      "Already downloaded and extracted!\n"
     ]
    },
    {
     "name": "stderr",
     "output_type": "stream",
     "text": [
      "prepare_corpus: 100%|██████████| 1000/1000 [00:00<00:00, 2552832.62it/s]\n",
      "prepare_corpus: 100%|██████████| 1000/1000 [00:00<00:00, 2455681.50it/s]"
     ]
    },
    {
     "name": "stdout",
     "output_type": "stream",
     "text": [
      "\n",
      "2000\n",
      "2000\n"
     ]
    },
    {
     "name": "stderr",
     "output_type": "stream",
     "text": [
      "\n"
     ]
    }
   ],
   "source": [
    "from tqdm import tqdm\n",
    "\n",
    "download_and_unzip()\n",
    "\n",
    "reviews = []\n",
    "labels = []\n",
    "\n",
    "# idx 0 -> neg, 1 -> pos\n",
    "for idx, cat in enumerate(catgeories):\n",
    "    path = os.path.join(corpus_root, cat)\n",
    "    texts = read_text_files(path)\n",
    "\n",
    "    for i in tqdm(range(len(texts)), desc=\"prepare_corpus\"):\n",
    "        text = texts[i]\n",
    "        reviews.append(text)\n",
    "        labels.append(idx)\n",
    "\n",
    "print()\n",
    "print(len(reviews))\n",
    "print(len(labels))\n",
    "\n"
   ]
  },
  {
   "cell_type": "code",
   "execution_count": 6,
   "id": "ba1ce234",
   "metadata": {
    "ExecuteTime": {
     "end_time": "2022-05-30T23:36:02.223719Z",
     "start_time": "2022-05-30T23:35:57.393118Z"
    }
   },
   "outputs": [],
   "source": [
    "from transformers import AutoTokenizer\n",
    "\n",
    "tokenizer = AutoTokenizer.from_pretrained('bert-base-cased')"
   ]
  },
  {
   "cell_type": "code",
   "execution_count": 7,
   "id": "693d9645",
   "metadata": {
    "ExecuteTime": {
     "end_time": "2022-05-30T23:36:02.285503Z",
     "start_time": "2022-05-30T23:36:02.225907Z"
    }
   },
   "outputs": [],
   "source": [
    "from sklearn.model_selection import train_test_split\n",
    "\n",
    "x_train, x_test, y_train, y_test = train_test_split(\n",
    "    reviews, labels, random_state=42, train_size=0.8\n",
    ")\n",
    "\n",
    "x_train, x_val, y_train, y_val = train_test_split(x_train, y_train, train_size=0.8, random_state=42)"
   ]
  },
  {
   "cell_type": "code",
   "execution_count": 8,
   "id": "24f2728e",
   "metadata": {
    "ExecuteTime": {
     "end_time": "2022-05-30T23:36:02.290004Z",
     "start_time": "2022-05-30T23:36:02.286666Z"
    }
   },
   "outputs": [],
   "source": [
    "import torch\n",
    "from torch.utils.data import Dataset\n",
    "\n",
    "import numpy as np\n",
    "\n",
    "# custom dataset\n",
    "class PolarityReviewDataset(Dataset):\n",
    "\n",
    "    def __init__(self, reviews, labels, tokenizer):\n",
    "        self.reviews = reviews\n",
    "        self.labels = labels\n",
    "        self.tokenizer = tokenizer\n",
    "\n",
    "    def __len__(self):\n",
    "        return len(self.labels)\n",
    "\n",
    "    def __getitem__(self, idx):\n",
    "        review = self.reviews[idx]\n",
    "        label = self.labels[idx]\n",
    "\n",
    "        # encode review text\n",
    "        encoding = self.tokenizer.encode_plus(\n",
    "            review,\n",
    "            add_special_tokens=True,\n",
    "            max_length=512,\n",
    "            truncation=True,\n",
    "            return_token_type_ids=False,\n",
    "            padding=\"max_length\",\n",
    "            return_attention_mask=True,\n",
    "            return_tensors=\"np\"\n",
    "        )\n",
    "\n",
    "        return encoding, label\n",
    "\n",
    "training_dataset = PolarityReviewDataset(x_train, y_train, tokenizer)\n",
    "val_dataset = PolarityReviewDataset(x_val, y_val, tokenizer)"
   ]
  },
  {
   "cell_type": "code",
   "execution_count": 63,
   "id": "35a2ee7c",
   "metadata": {
    "ExecuteTime": {
     "end_time": "2022-05-30T23:36:02.294077Z",
     "start_time": "2022-05-30T23:36:02.290899Z"
    }
   },
   "outputs": [
    {
     "name": "stdout",
     "output_type": "stream",
     "text": [
      "16\n"
     ]
    }
   ],
   "source": [
    "from torch.utils.data import DataLoader\n",
    "\n",
    "batch_size = 16\n",
    "\n",
    "## test\n",
    "def collate_fn(data):\n",
    "    inputs, labels = zip(*data)\n",
    "    # print(\"inputs => \", type(inputs))\n",
    "    return list(inputs), jnp.array(labels)\n",
    "    \n",
    "\n",
    "# loader from custom dataset\n",
    "train_loader = DataLoader(training_dataset, shuffle=True, batch_size=batch_size, pin_memory=True, collate_fn=collate_fn)\n",
    "val_loader = DataLoader(val_dataset, shuffle=False, batch_size=batch_size, pin_memory=True, collate_fn=collate_fn)\n",
    "\n",
    "for td in train_loader:\n",
    "    inputs, labels = td\n",
    "    print(len(inputs))\n",
    "    # print(td[0].shape)\n",
    "    # print(td[1].shape)\n",
    "    break\n"
   ]
  },
  {
   "cell_type": "code",
   "execution_count": 10,
   "id": "335abc0c",
   "metadata": {
    "ExecuteTime": {
     "end_time": "2022-05-30T23:36:02.329831Z",
     "start_time": "2022-05-30T23:36:02.294985Z"
    }
   },
   "outputs": [],
   "source": [
    "import flax\n",
    "from flax import linen as nn"
   ]
  },
  {
   "cell_type": "code",
   "execution_count": 11,
   "id": "8d478388",
   "metadata": {
    "ExecuteTime": {
     "end_time": "2022-05-30T23:36:02.460185Z",
     "start_time": "2022-05-30T23:36:02.330805Z"
    }
   },
   "outputs": [
    {
     "data": {
      "text/plain": [
       "DeviceArray([ 0, 42], dtype=uint32)"
      ]
     },
     "execution_count": 11,
     "metadata": {},
     "output_type": "execute_result"
    }
   ],
   "source": [
    "masterkey = J.random.PRNGKey(42)\n",
    "masterkey"
   ]
  },
  {
   "cell_type": "code",
   "execution_count": 12,
   "id": "3acb51f9",
   "metadata": {
    "ExecuteTime": {
     "end_time": "2022-05-30T23:36:09.731913Z",
     "start_time": "2022-05-30T23:36:02.461210Z"
    }
   },
   "outputs": [
    {
     "name": "stderr",
     "output_type": "stream",
     "text": [
      "Some weights of FlaxBertModel were not initialized from the model checkpoint at bert-base-cased and are newly initialized: {('pooler', 'dense', 'bias'), ('pooler', 'dense', 'kernel')}\n",
      "You should probably TRAIN this model on a down-stream task to be able to use it for predictions and inference.\n"
     ]
    },
    {
     "data": {
      "text/plain": [
       "FrozenDict({\n",
       "    params: {\n",
       "        fc: {\n",
       "            kernel: DeviceArray([[-0.02475933, -0.0485843 ],\n",
       "                         [-0.04283394, -0.00822861],\n",
       "                         [ 0.01661486,  0.0353759 ],\n",
       "                         ...,\n",
       "                         [ 0.04673802,  0.0578084 ],\n",
       "                         [-0.05068683, -0.01737976],\n",
       "                         [ 0.05191344, -0.06784151]], dtype=float32),\n",
       "            bias: DeviceArray([0., 0.], dtype=float32),\n",
       "        },\n",
       "    },\n",
       "})"
      ]
     },
     "execution_count": 12,
     "metadata": {},
     "output_type": "execute_result"
    }
   ],
   "source": [
    "from transformers import FlaxBertModel\n",
    "\n",
    "class Classifier(nn.Module):\n",
    "    def setup(self):\n",
    "        self.bert = FlaxBertModel.from_pretrained('bert-base-cased')\n",
    "        self.fc = nn.Dense(features=2)\n",
    "        \n",
    "    def __call__(self, x):\n",
    "        out = self.bert(**x)\n",
    "        \n",
    "        # last layer output\n",
    "        out = out.pooler_output\n",
    "        # pass through dense layer\n",
    "        out = self.fc(out)\n",
    "        out = J.nn.log_softmax(out, axis=-1)\n",
    "        \n",
    "        return out\n",
    "    \n",
    "    \n",
    "    \n",
    "model = Classifier()\n",
    "\n",
    "# dummy input\n",
    "dummy = tokenizer.encode_plus(\n",
    "            \"This is some dummy text\",\n",
    "            add_special_tokens=True,\n",
    "            max_length=512,\n",
    "            truncation=True,\n",
    "            return_token_type_ids=False,\n",
    "            padding=\"max_length\",\n",
    "            return_attention_mask=True,\n",
    "            return_tensors=\"np\"\n",
    "        )\n",
    "\n",
    "\n",
    "params = model.init(masterkey, dummy)\n",
    "params"
   ]
  },
  {
   "cell_type": "code",
   "execution_count": 13,
   "id": "a93381d8",
   "metadata": {
    "ExecuteTime": {
     "end_time": "2022-05-30T23:36:12.063840Z",
     "start_time": "2022-05-30T23:36:09.733033Z"
    }
   },
   "outputs": [
    {
     "name": "stderr",
     "output_type": "stream",
     "text": [
      "Some weights of FlaxBertModel were not initialized from the model checkpoint at bert-base-cased and are newly initialized: {('pooler', 'dense', 'bias'), ('pooler', 'dense', 'kernel')}\n",
      "You should probably TRAIN this model on a down-stream task to be able to use it for predictions and inference.\n"
     ]
    },
    {
     "data": {
      "text/plain": [
       "DeviceArray([[-0.56986886, -0.83378863]], dtype=float32)"
      ]
     },
     "execution_count": 13,
     "metadata": {},
     "output_type": "execute_result"
    }
   ],
   "source": [
    "# run a foward pass\n",
    "pred = model.apply(params, training_dataset[0][0])\n",
    "pred"
   ]
  },
  {
   "cell_type": "code",
   "execution_count": 14,
   "id": "9d70d0dc",
   "metadata": {
    "ExecuteTime": {
     "end_time": "2022-05-30T23:36:12.066743Z",
     "start_time": "2022-05-30T23:36:12.064924Z"
    }
   },
   "outputs": [],
   "source": [
    "# loss fn\n",
    "# https://github.com/huggingface/transformers/blob/main/examples/research_projects/jax-projects/README.md\n",
    "@J.jit\n",
    "def cross_entropy(logits, labels):\n",
    "    return -jnp.sum(labels * logits, axis=-1)"
   ]
  },
  {
   "cell_type": "code",
   "execution_count": 74,
   "id": "6f85c5b9",
   "metadata": {
    "ExecuteTime": {
     "end_time": "2022-05-31T00:06:03.020110Z",
     "start_time": "2022-05-31T00:06:03.017815Z"
    }
   },
   "outputs": [],
   "source": [
    "def compute_loss(params, inputs, labels):\n",
    "    def _forward(x, y):\n",
    "        logits = model.apply(params, x)\n",
    "        n_classes = logits.shape[-1]\n",
    "        loss = cross_entropy(logits, J.nn.one_hot(y, n_classes))\n",
    "        return loss\n",
    "    \n",
    "    \n",
    "    # logits = model.apply(params, inputs)\n",
    "    # num_classes = logits.shape[-1]\n",
    "    # loss = cross_entropy(logits, J.nn.one_hot(labels, 2))\n",
    "    # mean_loss = loss.mean()\n",
    "    \n",
    "    loss = J.vmap(_forward, in_axes=0, out_axes=1)(inputs, labels)\n",
    "    mean_loss = jnp.mean(loss)\n",
    "    \n",
    "    return mean_loss"
   ]
  },
  {
   "cell_type": "code",
   "execution_count": 75,
   "id": "dbfb3fca",
   "metadata": {
    "ExecuteTime": {
     "end_time": "2022-05-31T00:06:04.275240Z",
     "start_time": "2022-05-31T00:06:04.273300Z"
    }
   },
   "outputs": [],
   "source": [
    "grad_fn = J.value_and_grad(compute_loss)"
   ]
  },
  {
   "cell_type": "code",
   "execution_count": 76,
   "id": "9b848088",
   "metadata": {
    "ExecuteTime": {
     "end_time": "2022-05-31T00:06:06.137253Z",
     "start_time": "2022-05-31T00:06:06.120353Z"
    }
   },
   "outputs": [
    {
     "name": "stderr",
     "output_type": "stream",
     "text": [
      "/home/shawon/Projects/jax_examples/venv/lib64/python3.10/site-packages/jax/_src/tree_util.py:188: FutureWarning: jax.tree_util.tree_multimap() is deprecated. Please use jax.tree_util.tree_map() instead as a drop-in replacement.\n",
      "  warnings.warn('jax.tree_util.tree_multimap() is deprecated. Please use jax.tree_util.tree_map() '\n"
     ]
    }
   ],
   "source": [
    "import optax\n",
    "\n",
    "tx = optax.adam(learning_rate=2e-5)\n",
    "opt_state = tx.init(params)"
   ]
  },
  {
   "cell_type": "markdown",
   "id": "b9688af3",
   "metadata": {},
   "source": [
    "Check: https://colab.research.google.com/github/huggingface/notebooks/blob/master/examples/causal_language_modeling_flax.ipynb#scrollTo=iz8HrV8JPHn0"
   ]
  },
  {
   "cell_type": "code",
   "execution_count": 77,
   "id": "bf817f9b",
   "metadata": {
    "ExecuteTime": {
     "end_time": "2022-05-31T00:09:53.040565Z",
     "start_time": "2022-05-31T00:09:53.038184Z"
    }
   },
   "outputs": [],
   "source": [
    "def train_step(params, opt_state, inputs, labels):\n",
    "   # do the forward pass and get the loss and gradients\n",
    "    loss, grads = grad_fn(params, inputs, labels)\n",
    "\n",
    "   # use the gradients to update parameters\n",
    "    updates, opt_state = tx.update(grads, opt_state)\n",
    "    updated_params = optax.apply_updates(params, updates)\n",
    "\n",
    "    return updates_params, opt_state, loss"
   ]
  },
  {
   "cell_type": "code",
   "execution_count": 78,
   "id": "bec9ab06",
   "metadata": {
    "ExecuteTime": {
     "end_time": "2022-05-31T00:11:59.083259Z",
     "start_time": "2022-05-31T00:11:57.459804Z"
    }
   },
   "outputs": [
    {
     "ename": "AttributeError",
     "evalue": "",
     "output_type": "error",
     "traceback": [
      "\u001b[0;31m---------------------------------------------------------------------------\u001b[0m",
      "\u001b[0;31mValueError\u001b[0m                                Traceback (most recent call last)",
      "File \u001b[0;32m~/Projects/jax_examples/venv/lib64/python3.10/site-packages/jax/_src/api.py:1514\u001b[0m, in \u001b[0;36m_mapped_axis_size\u001b[0;34m(tree, vals, dims, name, kws)\u001b[0m\n\u001b[1;32m   <a href='file:///home/shawon/Projects/jax_examples/venv/lib64/python3.10/site-packages/jax/_src/api.py?line=1512'>1513</a>\u001b[0m \u001b[39mtry\u001b[39;00m:\n\u001b[0;32m-> <a href='file:///home/shawon/Projects/jax_examples/venv/lib64/python3.10/site-packages/jax/_src/api.py?line=1513'>1514</a>\u001b[0m   size, \u001b[39m=\u001b[39m mapped_axis_sizes\n\u001b[1;32m   <a href='file:///home/shawon/Projects/jax_examples/venv/lib64/python3.10/site-packages/jax/_src/api.py?line=1514'>1515</a>\u001b[0m   \u001b[39mreturn\u001b[39;00m size\n",
      "\u001b[0;31mValueError\u001b[0m: too many values to unpack (expected 1)",
      "\nDuring handling of the above exception, another exception occurred:\n",
      "\u001b[0;31mKeyError\u001b[0m                                  Traceback (most recent call last)",
      "File \u001b[0;32m~/Projects/jax_examples/venv/lib64/python3.10/site-packages/transformers/tokenization_utils_base.py:247\u001b[0m, in \u001b[0;36mBatchEncoding.__getattr__\u001b[0;34m(self, item)\u001b[0m\n\u001b[1;32m    <a href='file:///home/shawon/Projects/jax_examples/venv/lib64/python3.10/site-packages/transformers/tokenization_utils_base.py?line=245'>246</a>\u001b[0m \u001b[39mtry\u001b[39;00m:\n\u001b[0;32m--> <a href='file:///home/shawon/Projects/jax_examples/venv/lib64/python3.10/site-packages/transformers/tokenization_utils_base.py?line=246'>247</a>\u001b[0m     \u001b[39mreturn\u001b[39;00m \u001b[39mself\u001b[39;49m\u001b[39m.\u001b[39;49mdata[item]\n\u001b[1;32m    <a href='file:///home/shawon/Projects/jax_examples/venv/lib64/python3.10/site-packages/transformers/tokenization_utils_base.py?line=247'>248</a>\u001b[0m \u001b[39mexcept\u001b[39;00m \u001b[39mKeyError\u001b[39;00m:\n",
      "\u001b[0;31mKeyError\u001b[0m: 'shape'",
      "\nDuring handling of the above exception, another exception occurred:\n",
      "\u001b[0;31mAttributeError\u001b[0m                            Traceback (most recent call last)",
      "\u001b[1;32m/home/shawon/Projects/jax_examples/playground/bert_fine_tune.ipynb Cell 20'\u001b[0m in \u001b[0;36m<cell line: 1>\u001b[0;34m()\u001b[0m\n\u001b[1;32m      <a href='vscode-notebook-cell://ssh-remote%2Bkowalski/home/shawon/Projects/jax_examples/playground/bert_fine_tune.ipynb#ch0000019vscode-remote?line=1'>2</a>\u001b[0m \u001b[39mfor\u001b[39;00m td \u001b[39min\u001b[39;00m train_loader:\n\u001b[1;32m      <a href='vscode-notebook-cell://ssh-remote%2Bkowalski/home/shawon/Projects/jax_examples/playground/bert_fine_tune.ipynb#ch0000019vscode-remote?line=2'>3</a>\u001b[0m     inputs, labels \u001b[39m=\u001b[39m td\n\u001b[0;32m----> <a href='vscode-notebook-cell://ssh-remote%2Bkowalski/home/shawon/Projects/jax_examples/playground/bert_fine_tune.ipynb#ch0000019vscode-remote?line=4'>5</a>\u001b[0m     params, opt_state, loss \u001b[39m=\u001b[39m train_step(params, opt_state, inputs, labels)\n\u001b[1;32m      <a href='vscode-notebook-cell://ssh-remote%2Bkowalski/home/shawon/Projects/jax_examples/playground/bert_fine_tune.ipynb#ch0000019vscode-remote?line=5'>6</a>\u001b[0m     \u001b[39mbreak\u001b[39;00m\n",
      "\u001b[1;32m/home/shawon/Projects/jax_examples/playground/bert_fine_tune.ipynb Cell 19'\u001b[0m in \u001b[0;36mtrain_step\u001b[0;34m(params, opt_state, inputs, labels)\u001b[0m\n\u001b[1;32m      <a href='vscode-notebook-cell://ssh-remote%2Bkowalski/home/shawon/Projects/jax_examples/playground/bert_fine_tune.ipynb#ch0000018vscode-remote?line=0'>1</a>\u001b[0m \u001b[39mdef\u001b[39;00m \u001b[39mtrain_step\u001b[39m(params, opt_state, inputs, labels):\n\u001b[1;32m      <a href='vscode-notebook-cell://ssh-remote%2Bkowalski/home/shawon/Projects/jax_examples/playground/bert_fine_tune.ipynb#ch0000018vscode-remote?line=1'>2</a>\u001b[0m    \u001b[39m# do the forward pass and get the loss and gradients\u001b[39;00m\n\u001b[0;32m----> <a href='vscode-notebook-cell://ssh-remote%2Bkowalski/home/shawon/Projects/jax_examples/playground/bert_fine_tune.ipynb#ch0000018vscode-remote?line=2'>3</a>\u001b[0m     loss, grads \u001b[39m=\u001b[39m grad_fn(params, inputs, labels)\n\u001b[1;32m      <a href='vscode-notebook-cell://ssh-remote%2Bkowalski/home/shawon/Projects/jax_examples/playground/bert_fine_tune.ipynb#ch0000018vscode-remote?line=4'>5</a>\u001b[0m    \u001b[39m# use the gradients to update parameters\u001b[39;00m\n\u001b[1;32m      <a href='vscode-notebook-cell://ssh-remote%2Bkowalski/home/shawon/Projects/jax_examples/playground/bert_fine_tune.ipynb#ch0000018vscode-remote?line=5'>6</a>\u001b[0m     updates, opt_state \u001b[39m=\u001b[39m tx\u001b[39m.\u001b[39mupdate(grads, opt_state)\n",
      "    \u001b[0;31m[... skipping hidden 8 frame]\u001b[0m\n",
      "\u001b[1;32m/home/shawon/Projects/jax_examples/playground/bert_fine_tune.ipynb Cell 15'\u001b[0m in \u001b[0;36mcompute_loss\u001b[0;34m(params, inputs, labels)\u001b[0m\n\u001b[1;32m      <a href='vscode-notebook-cell://ssh-remote%2Bkowalski/home/shawon/Projects/jax_examples/playground/bert_fine_tune.ipynb#ch0000014vscode-remote?line=5'>6</a>\u001b[0m     \u001b[39mreturn\u001b[39;00m loss\n\u001b[1;32m      <a href='vscode-notebook-cell://ssh-remote%2Bkowalski/home/shawon/Projects/jax_examples/playground/bert_fine_tune.ipynb#ch0000014vscode-remote?line=8'>9</a>\u001b[0m \u001b[39m# logits = model.apply(params, inputs)\u001b[39;00m\n\u001b[1;32m     <a href='vscode-notebook-cell://ssh-remote%2Bkowalski/home/shawon/Projects/jax_examples/playground/bert_fine_tune.ipynb#ch0000014vscode-remote?line=9'>10</a>\u001b[0m \u001b[39m# num_classes = logits.shape[-1]\u001b[39;00m\n\u001b[1;32m     <a href='vscode-notebook-cell://ssh-remote%2Bkowalski/home/shawon/Projects/jax_examples/playground/bert_fine_tune.ipynb#ch0000014vscode-remote?line=10'>11</a>\u001b[0m \u001b[39m# loss = cross_entropy(logits, J.nn.one_hot(labels, 2))\u001b[39;00m\n\u001b[1;32m     <a href='vscode-notebook-cell://ssh-remote%2Bkowalski/home/shawon/Projects/jax_examples/playground/bert_fine_tune.ipynb#ch0000014vscode-remote?line=11'>12</a>\u001b[0m \u001b[39m# mean_loss = loss.mean()\u001b[39;00m\n\u001b[0;32m---> <a href='vscode-notebook-cell://ssh-remote%2Bkowalski/home/shawon/Projects/jax_examples/playground/bert_fine_tune.ipynb#ch0000014vscode-remote?line=13'>14</a>\u001b[0m loss \u001b[39m=\u001b[39m J\u001b[39m.\u001b[39;49mvmap(_forward, in_axes\u001b[39m=\u001b[39;49m\u001b[39m0\u001b[39;49m, out_axes\u001b[39m=\u001b[39;49m\u001b[39m1\u001b[39;49m)(inputs, labels)\n\u001b[1;32m     <a href='vscode-notebook-cell://ssh-remote%2Bkowalski/home/shawon/Projects/jax_examples/playground/bert_fine_tune.ipynb#ch0000014vscode-remote?line=14'>15</a>\u001b[0m mean_loss \u001b[39m=\u001b[39m jnp\u001b[39m.\u001b[39mmean(loss)\n\u001b[1;32m     <a href='vscode-notebook-cell://ssh-remote%2Bkowalski/home/shawon/Projects/jax_examples/playground/bert_fine_tune.ipynb#ch0000014vscode-remote?line=16'>17</a>\u001b[0m \u001b[39mreturn\u001b[39;00m mean_loss\n",
      "    \u001b[0;31m[... skipping hidden 4 frame]\u001b[0m\n",
      "File \u001b[0;32m~/Projects/jax_examples/venv/lib64/python3.10/site-packages/transformers/tokenization_utils_base.py:249\u001b[0m, in \u001b[0;36mBatchEncoding.__getattr__\u001b[0;34m(self, item)\u001b[0m\n\u001b[1;32m    <a href='file:///home/shawon/Projects/jax_examples/venv/lib64/python3.10/site-packages/transformers/tokenization_utils_base.py?line=246'>247</a>\u001b[0m     \u001b[39mreturn\u001b[39;00m \u001b[39mself\u001b[39m\u001b[39m.\u001b[39mdata[item]\n\u001b[1;32m    <a href='file:///home/shawon/Projects/jax_examples/venv/lib64/python3.10/site-packages/transformers/tokenization_utils_base.py?line=247'>248</a>\u001b[0m \u001b[39mexcept\u001b[39;00m \u001b[39mKeyError\u001b[39;00m:\n\u001b[0;32m--> <a href='file:///home/shawon/Projects/jax_examples/venv/lib64/python3.10/site-packages/transformers/tokenization_utils_base.py?line=248'>249</a>\u001b[0m     \u001b[39mraise\u001b[39;00m \u001b[39mAttributeError\u001b[39;00m\n",
      "\u001b[0;31mAttributeError\u001b[0m: "
     ]
    }
   ],
   "source": [
    "for i in range(2):\n",
    "    for td in train_loader:\n",
    "        inputs, labels = td\n",
    "        \n",
    "        params, opt_state, loss = train_step(params, opt_state, inputs, labels)\n",
    "        break"
   ]
  },
  {
   "cell_type": "code",
   "execution_count": null,
   "id": "b13cb204",
   "metadata": {},
   "outputs": [],
   "source": []
  }
 ],
 "metadata": {
  "interpreter": {
   "hash": "85f6f424c393e7c95d987d0a64d03300802113ad2045bd4cdb9a90d6d84115f4"
  },
  "kernelspec": {
   "display_name": "Python 3.10.4 ('venv': venv)",
   "language": "python",
   "name": "python3"
  },
  "language_info": {
   "codemirror_mode": {
    "name": "ipython",
    "version": 3
   },
   "file_extension": ".py",
   "mimetype": "text/x-python",
   "name": "python",
   "nbconvert_exporter": "python",
   "pygments_lexer": "ipython3",
   "version": "3.10.4"
  },
  "latex_envs": {
   "LaTeX_envs_menu_present": true,
   "autoclose": false,
   "autocomplete": true,
   "bibliofile": "biblio.bib",
   "cite_by": "apalike",
   "current_citInitial": 1,
   "eqLabelWithNumbers": true,
   "eqNumInitial": 1,
   "hotkeys": {
    "equation": "Ctrl-E",
    "itemize": "Ctrl-I"
   },
   "labels_anchors": false,
   "latex_user_defs": false,
   "report_style_numbering": false,
   "user_envs_cfg": false
  },
  "toc": {
   "base_numbering": 1,
   "nav_menu": {},
   "number_sections": true,
   "sideBar": true,
   "skip_h1_title": false,
   "title_cell": "Table of Contents",
   "title_sidebar": "Contents",
   "toc_cell": false,
   "toc_position": {},
   "toc_section_display": true,
   "toc_window_display": false
  }
 },
 "nbformat": 4,
 "nbformat_minor": 5
}
