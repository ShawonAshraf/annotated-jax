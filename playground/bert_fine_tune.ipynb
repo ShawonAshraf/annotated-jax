{
 "cells": [
  {
   "cell_type": "code",
   "execution_count": 1,
   "id": "36068538",
   "metadata": {
    "ExecuteTime": {
     "end_time": "2022-05-30T22:58:08.010870Z",
     "start_time": "2022-05-30T22:58:07.596113Z"
    }
   },
   "outputs": [],
   "source": [
    "import jax as J\n",
    "import jax.numpy as jnp"
   ]
  },
  {
   "cell_type": "code",
   "execution_count": 2,
   "id": "c0fce2ad",
   "metadata": {
    "ExecuteTime": {
     "end_time": "2022-05-30T22:58:08.119465Z",
     "start_time": "2022-05-30T22:58:08.012604Z"
    }
   },
   "outputs": [
    {
     "data": {
      "text/plain": [
       "'gpu'"
      ]
     },
     "execution_count": 2,
     "metadata": {},
     "output_type": "execute_result"
    }
   ],
   "source": [
    "from jax.lib import xla_bridge\n",
    "xla_bridge.get_backend().platform"
   ]
  },
  {
   "cell_type": "code",
   "execution_count": 3,
   "id": "a2502d21",
   "metadata": {
    "ExecuteTime": {
     "end_time": "2022-05-30T22:58:08.126841Z",
     "start_time": "2022-05-30T22:58:08.121639Z"
    }
   },
   "outputs": [],
   "source": [
    "import os\n",
    "import sys\n",
    "import urllib\n",
    "import tarfile\n",
    "\n",
    "corpus_url = \"http://www.cs.cornell.edu/people/pabo/movie-review-data/review_polarity.tar.gz\"\n",
    "\n",
    "corpus_root = os.path.join(os.getcwd(), \"review_polarity\", \"txt_sentoken\")\n",
    "catgeories = [\"pos\", \"neg\"]\n",
    "\n",
    "\n",
    "def download_and_unzip():\n",
    "    file_name = corpus_url.split(\"/\")[-1]\n",
    "    download_path = os.path.join(os.getcwd(), file_name)\n",
    "    # where the zip will get extracted\n",
    "    extracted_path = os.path.join(os.getcwd(), \"review_polarity\")\n",
    "\n",
    "    if os.path.exists(extracted_path):\n",
    "        print(\"Already downloaded and extracted!\")\n",
    "    else:\n",
    "        # ============================================ download\n",
    "        print(\"Downloading, sit tight!\")\n",
    "\n",
    "        def _progress(count, block_size, total_size):\n",
    "            sys.stdout.write(\n",
    "                f\"\\r>> Downloading {file_name} {float(count * block_size) / float(total_size) * 100.0}%\")\n",
    "            sys.stdout.flush()\n",
    "\n",
    "        file_path, _ = urllib.request.urlretrieve(\n",
    "            corpus_url, download_path, _progress)\n",
    "        print()\n",
    "        print(\n",
    "            f\"Successfully downloaded {file_name} {os.stat(file_path).st_size} bytes\")\n",
    "\n",
    "        # ======================================= unzip\n",
    "        print()\n",
    "        print(\"Unzipping ...\")\n",
    "        # create dir at extracted_path\n",
    "        os.mkdir(extracted_path)\n",
    "        tarfile.open(file_path, \"r:gz\").extractall(extracted_path)\n",
    "\n",
    "        # =========================================== clean up\n",
    "        # delete the downloaded zip file\n",
    "        print(\"Deleting downloaded zip file\")\n",
    "        os.remove(file_path)"
   ]
  },
  {
   "cell_type": "code",
   "execution_count": 4,
   "id": "feae4243",
   "metadata": {
    "ExecuteTime": {
     "end_time": "2022-05-30T22:58:08.129862Z",
     "start_time": "2022-05-30T22:58:08.127693Z"
    }
   },
   "outputs": [],
   "source": [
    "def read_text_files(path):\n",
    "    file_list = os.listdir(path)\n",
    "    texts = []\n",
    "\n",
    "    for fname in file_list:\n",
    "        fpath = os.path.join(path, fname)\n",
    "\n",
    "        f = open(fpath, mode=\"r\")\n",
    "        lines = f.read()\n",
    "        texts.append(lines)\n",
    "        f.close()\n",
    "\n",
    "    return texts"
   ]
  },
  {
   "cell_type": "code",
   "execution_count": 5,
   "id": "6c7910e8",
   "metadata": {
    "ExecuteTime": {
     "end_time": "2022-05-30T22:58:08.165694Z",
     "start_time": "2022-05-30T22:58:08.130688Z"
    }
   },
   "outputs": [
    {
     "name": "stdout",
     "output_type": "stream",
     "text": [
      "Already downloaded and extracted!\n"
     ]
    },
    {
     "name": "stderr",
     "output_type": "stream",
     "text": [
      "prepare_corpus: 100%|████████████████████████████████████████████████████████████| 1000/1000 [00:00<00:00, 2570039.22it/s]\n",
      "prepare_corpus: 100%|████████████████████████████████████████████████████████████| 1000/1000 [00:00<00:00, 2235769.72it/s]"
     ]
    },
    {
     "name": "stdout",
     "output_type": "stream",
     "text": [
      "\n",
      "2000\n",
      "2000\n"
     ]
    },
    {
     "name": "stderr",
     "output_type": "stream",
     "text": [
      "\n"
     ]
    }
   ],
   "source": [
    "from tqdm import tqdm\n",
    "\n",
    "download_and_unzip()\n",
    "\n",
    "reviews = []\n",
    "labels = []\n",
    "\n",
    "# idx 0 -> neg, 1 -> pos\n",
    "for idx, cat in enumerate(catgeories):\n",
    "    path = os.path.join(corpus_root, cat)\n",
    "    texts = read_text_files(path)\n",
    "\n",
    "    for i in tqdm(range(len(texts)), desc=\"prepare_corpus\"):\n",
    "        text = texts[i]\n",
    "        reviews.append(text)\n",
    "        labels.append(idx)\n",
    "\n",
    "print()\n",
    "print(len(reviews))\n",
    "print(len(labels))\n",
    "\n"
   ]
  },
  {
   "cell_type": "code",
   "execution_count": 6,
   "id": "b0bec07d",
   "metadata": {
    "ExecuteTime": {
     "end_time": "2022-05-30T22:58:13.100756Z",
     "start_time": "2022-05-30T22:58:08.166680Z"
    }
   },
   "outputs": [],
   "source": [
    "from transformers import AutoTokenizer\n",
    "\n",
    "tokenizer = AutoTokenizer.from_pretrained('bert-base-cased')"
   ]
  },
  {
   "cell_type": "code",
   "execution_count": 7,
   "id": "221381a9",
   "metadata": {
    "ExecuteTime": {
     "end_time": "2022-05-30T22:58:13.160526Z",
     "start_time": "2022-05-30T22:58:13.101849Z"
    }
   },
   "outputs": [],
   "source": [
    "from sklearn.model_selection import train_test_split\n",
    "\n",
    "x_train, x_test, y_train, y_test = train_test_split(\n",
    "    reviews, labels, random_state=42, train_size=0.8\n",
    ")\n",
    "\n",
    "x_train, x_val, y_train, y_val = train_test_split(x_train, y_train, train_size=0.8, random_state=42)"
   ]
  },
  {
   "cell_type": "code",
   "execution_count": 8,
   "id": "978b85e5",
   "metadata": {
    "ExecuteTime": {
     "end_time": "2022-05-30T22:58:13.165020Z",
     "start_time": "2022-05-30T22:58:13.161686Z"
    }
   },
   "outputs": [],
   "source": [
    "import torch\n",
    "from torch.utils.data import Dataset\n",
    "\n",
    "import numpy as np\n",
    "\n",
    "# custom dataset\n",
    "class PolarityReviewDataset(Dataset):\n",
    "\n",
    "    def __init__(self, reviews, labels, tokenizer):\n",
    "        self.reviews = reviews\n",
    "        self.labels = labels\n",
    "        self.tokenizer = tokenizer\n",
    "\n",
    "    def __len__(self):\n",
    "        return len(self.labels)\n",
    "\n",
    "    def __getitem__(self, idx):\n",
    "        review = self.reviews[idx]\n",
    "        label = self.labels[idx]\n",
    "\n",
    "        # encode review text\n",
    "        encoding = self.tokenizer.encode_plus(\n",
    "            review,\n",
    "            add_special_tokens=True,\n",
    "            max_length=512,\n",
    "            truncation=True,\n",
    "            return_token_type_ids=False,\n",
    "            padding=\"max_length\",\n",
    "            return_attention_mask=True,\n",
    "            return_tensors=\"np\"\n",
    "        )\n",
    "\n",
    "        return encoding, label\n",
    "\n",
    "training_dataset = PolarityReviewDataset(x_train, y_train, tokenizer)\n",
    "val_dataset = PolarityReviewDataset(x_val, y_val, tokenizer)"
   ]
  },
  {
   "cell_type": "code",
   "execution_count": 9,
   "id": "d7b67dbf",
   "metadata": {
    "ExecuteTime": {
     "end_time": "2022-05-30T22:58:13.169027Z",
     "start_time": "2022-05-30T22:58:13.165908Z"
    }
   },
   "outputs": [],
   "source": [
    "from torch.utils.data import DataLoader\n",
    "\n",
    "batch_size = 16\n",
    "\n",
    "## test\n",
    "def collate_fn(data):\n",
    "    inputs, labels = zip(*data)\n",
    "    return inputs, jnp.array(labels)\n",
    "    \n",
    "    #print(data)\n",
    "\n",
    "# loader from custom dataset\n",
    "train_loader = DataLoader(training_dataset, shuffle=True, batch_size=batch_size, pin_memory=True, collate_fn=collate_fn)\n",
    "val_loader = DataLoader(val_dataset, shuffle=False, batch_size=batch_size, pin_memory=True, collate_fn=collate_fn)\n"
   ]
  },
  {
   "cell_type": "code",
   "execution_count": 10,
   "id": "a64515ec",
   "metadata": {
    "ExecuteTime": {
     "end_time": "2022-05-30T22:58:13.204740Z",
     "start_time": "2022-05-30T22:58:13.170742Z"
    }
   },
   "outputs": [],
   "source": [
    "import flax\n",
    "from flax import linen as nn"
   ]
  },
  {
   "cell_type": "code",
   "execution_count": 11,
   "id": "1f0f013a",
   "metadata": {
    "ExecuteTime": {
     "end_time": "2022-05-30T22:58:13.334625Z",
     "start_time": "2022-05-30T22:58:13.205762Z"
    }
   },
   "outputs": [
    {
     "data": {
      "text/plain": [
       "DeviceArray([ 0, 42], dtype=uint32)"
      ]
     },
     "execution_count": 11,
     "metadata": {},
     "output_type": "execute_result"
    }
   ],
   "source": [
    "masterkey = J.random.PRNGKey(42)\n",
    "masterkey"
   ]
  },
  {
   "cell_type": "code",
   "execution_count": 12,
   "id": "ae7ea206",
   "metadata": {
    "ExecuteTime": {
     "end_time": "2022-05-30T22:58:32.623389Z",
     "start_time": "2022-05-30T22:58:13.335687Z"
    }
   },
   "outputs": [
    {
     "data": {
      "application/vnd.jupyter.widget-view+json": {
       "model_id": "ef3cffeda39149ce988de8f1f1fd8abc",
       "version_major": 2,
       "version_minor": 0
      },
      "text/plain": [
       "Downloading:   0%|          | 0.00/413M [00:00<?, ?B/s]"
      ]
     },
     "metadata": {},
     "output_type": "display_data"
    },
    {
     "name": "stderr",
     "output_type": "stream",
     "text": [
      "Some weights of FlaxBertModel were not initialized from the model checkpoint at bert-base-cased and are newly initialized: {('pooler', 'dense', 'bias'), ('pooler', 'dense', 'kernel')}\n",
      "You should probably TRAIN this model on a down-stream task to be able to use it for predictions and inference.\n"
     ]
    },
    {
     "data": {
      "text/plain": [
       "FrozenDict({\n",
       "    params: {\n",
       "        fc: {\n",
       "            kernel: DeviceArray([[-0.02475933, -0.0485843 ],\n",
       "                         [-0.04283394, -0.00822861],\n",
       "                         [ 0.01661486,  0.0353759 ],\n",
       "                         ...,\n",
       "                         [ 0.04673802,  0.0578084 ],\n",
       "                         [-0.05068683, -0.01737976],\n",
       "                         [ 0.05191344, -0.06784151]], dtype=float32),\n",
       "            bias: DeviceArray([0., 0.], dtype=float32),\n",
       "        },\n",
       "    },\n",
       "})"
      ]
     },
     "execution_count": 12,
     "metadata": {},
     "output_type": "execute_result"
    }
   ],
   "source": [
    "from transformers import FlaxBertModel\n",
    "\n",
    "class Classifier(nn.Module):\n",
    "    def setup(self):\n",
    "        self.bert = FlaxBertModel.from_pretrained('bert-base-cased')\n",
    "        self.fc = nn.Dense(features=2)\n",
    "        \n",
    "    def __call__(self, x):\n",
    "        out = self.bert(**x)\n",
    "        \n",
    "        # last layer output\n",
    "        out = out.pooler_output\n",
    "        # pass through dense layer\n",
    "        out = self.fc(out)\n",
    "        out = J.nn.log_softmax(out)\n",
    "        \n",
    "        return out\n",
    "    \n",
    "    \n",
    "    \n",
    "model = Classifier()\n",
    "\n",
    "# dummy input\n",
    "dummy = tokenizer.encode_plus(\n",
    "            \"This is some dummy text\",\n",
    "            add_special_tokens=True,\n",
    "            max_length=512,\n",
    "            truncation=True,\n",
    "            return_token_type_ids=False,\n",
    "            padding=\"max_length\",\n",
    "            return_attention_mask=True,\n",
    "            return_tensors=\"np\"\n",
    "        )\n",
    "\n",
    "\n",
    "params = model.init(masterkey, dummy)\n",
    "params"
   ]
  }
 ],
 "metadata": {
  "kernelspec": {
   "display_name": "Python 3 (ipykernel)",
   "language": "python",
   "name": "python3"
  },
  "language_info": {
   "codemirror_mode": {
    "name": "ipython",
    "version": 3
   },
   "file_extension": ".py",
   "mimetype": "text/x-python",
   "name": "python",
   "nbconvert_exporter": "python",
   "pygments_lexer": "ipython3",
   "version": "3.10.4"
  },
  "latex_envs": {
   "LaTeX_envs_menu_present": true,
   "autoclose": false,
   "autocomplete": true,
   "bibliofile": "biblio.bib",
   "cite_by": "apalike",
   "current_citInitial": 1,
   "eqLabelWithNumbers": true,
   "eqNumInitial": 1,
   "hotkeys": {
    "equation": "Ctrl-E",
    "itemize": "Ctrl-I"
   },
   "labels_anchors": false,
   "latex_user_defs": false,
   "report_style_numbering": false,
   "user_envs_cfg": false
  },
  "toc": {
   "base_numbering": 1,
   "nav_menu": {},
   "number_sections": true,
   "sideBar": true,
   "skip_h1_title": false,
   "title_cell": "Table of Contents",
   "title_sidebar": "Contents",
   "toc_cell": false,
   "toc_position": {},
   "toc_section_display": true,
   "toc_window_display": false
  }
 },
 "nbformat": 4,
 "nbformat_minor": 5
}
