{
 "cells": [
  {
   "cell_type": "markdown",
   "id": "a882fc7e",
   "metadata": {
    "heading_collapsed": true
   },
   "source": [
    "## Iris dataset from sklearn"
   ]
  },
  {
   "cell_type": "code",
   "execution_count": 1,
   "id": "cd2a7446",
   "metadata": {
    "ExecuteTime": {
     "end_time": "2022-05-07T23:09:06.290130Z",
     "start_time": "2022-05-07T23:09:06.062812Z"
    },
    "hidden": true
   },
   "outputs": [],
   "source": [
    "import pandas as pd"
   ]
  },
  {
   "cell_type": "code",
   "execution_count": 2,
   "id": "6d2c7203",
   "metadata": {
    "ExecuteTime": {
     "end_time": "2022-05-07T23:09:06.617313Z",
     "start_time": "2022-05-07T23:09:06.291013Z"
    },
    "hidden": true
   },
   "outputs": [],
   "source": [
    "from sklearn.datasets import load_iris\n",
    "\n",
    "iris = load_iris()\n",
    "df = pd.DataFrame(data=iris.data)\n",
    "df[\"target\"] = iris.target"
   ]
  },
  {
   "cell_type": "code",
   "execution_count": 3,
   "id": "a171356d",
   "metadata": {
    "ExecuteTime": {
     "end_time": "2022-05-07T23:09:06.626768Z",
     "start_time": "2022-05-07T23:09:06.618080Z"
    },
    "hidden": true
   },
   "outputs": [
    {
     "data": {
      "text/html": [
       "<div>\n",
       "<style scoped>\n",
       "    .dataframe tbody tr th:only-of-type {\n",
       "        vertical-align: middle;\n",
       "    }\n",
       "\n",
       "    .dataframe tbody tr th {\n",
       "        vertical-align: top;\n",
       "    }\n",
       "\n",
       "    .dataframe thead th {\n",
       "        text-align: right;\n",
       "    }\n",
       "</style>\n",
       "<table border=\"1\" class=\"dataframe\">\n",
       "  <thead>\n",
       "    <tr style=\"text-align: right;\">\n",
       "      <th></th>\n",
       "      <th>0</th>\n",
       "      <th>1</th>\n",
       "      <th>2</th>\n",
       "      <th>3</th>\n",
       "      <th>target</th>\n",
       "    </tr>\n",
       "  </thead>\n",
       "  <tbody>\n",
       "    <tr>\n",
       "      <th>0</th>\n",
       "      <td>5.1</td>\n",
       "      <td>3.5</td>\n",
       "      <td>1.4</td>\n",
       "      <td>0.2</td>\n",
       "      <td>0</td>\n",
       "    </tr>\n",
       "    <tr>\n",
       "      <th>1</th>\n",
       "      <td>4.9</td>\n",
       "      <td>3.0</td>\n",
       "      <td>1.4</td>\n",
       "      <td>0.2</td>\n",
       "      <td>0</td>\n",
       "    </tr>\n",
       "    <tr>\n",
       "      <th>2</th>\n",
       "      <td>4.7</td>\n",
       "      <td>3.2</td>\n",
       "      <td>1.3</td>\n",
       "      <td>0.2</td>\n",
       "      <td>0</td>\n",
       "    </tr>\n",
       "    <tr>\n",
       "      <th>3</th>\n",
       "      <td>4.6</td>\n",
       "      <td>3.1</td>\n",
       "      <td>1.5</td>\n",
       "      <td>0.2</td>\n",
       "      <td>0</td>\n",
       "    </tr>\n",
       "    <tr>\n",
       "      <th>4</th>\n",
       "      <td>5.0</td>\n",
       "      <td>3.6</td>\n",
       "      <td>1.4</td>\n",
       "      <td>0.2</td>\n",
       "      <td>0</td>\n",
       "    </tr>\n",
       "  </tbody>\n",
       "</table>\n",
       "</div>"
      ],
      "text/plain": [
       "     0    1    2    3  target\n",
       "0  5.1  3.5  1.4  0.2       0\n",
       "1  4.9  3.0  1.4  0.2       0\n",
       "2  4.7  3.2  1.3  0.2       0\n",
       "3  4.6  3.1  1.5  0.2       0\n",
       "4  5.0  3.6  1.4  0.2       0"
      ]
     },
     "execution_count": 3,
     "metadata": {},
     "output_type": "execute_result"
    }
   ],
   "source": [
    "df.head()"
   ]
  },
  {
   "cell_type": "code",
   "execution_count": 4,
   "id": "3b7afae7",
   "metadata": {
    "ExecuteTime": {
     "end_time": "2022-05-07T23:09:06.629778Z",
     "start_time": "2022-05-07T23:09:06.627842Z"
    },
    "hidden": true
   },
   "outputs": [
    {
     "data": {
      "text/plain": [
       "{0, 1, 2}"
      ]
     },
     "execution_count": 4,
     "metadata": {},
     "output_type": "execute_result"
    }
   ],
   "source": [
    "# unique target labels\n",
    "target_ids = set(iris.target)\n",
    "target_ids"
   ]
  },
  {
   "cell_type": "code",
   "execution_count": 5,
   "id": "42015511",
   "metadata": {
    "ExecuteTime": {
     "end_time": "2022-05-07T23:09:06.633477Z",
     "start_time": "2022-05-07T23:09:06.630387Z"
    },
    "hidden": true
   },
   "outputs": [],
   "source": [
    "# get features and target from dataframe\n",
    "X, y = df[[0, 1, 2, 3]], df[\"target\"]\n",
    "\n",
    "# convert to numpy arrays\n",
    "X = X.to_numpy()\n",
    "y = y.to_numpy()"
   ]
  },
  {
   "cell_type": "code",
   "execution_count": 6,
   "id": "6537b079",
   "metadata": {
    "ExecuteTime": {
     "end_time": "2022-05-07T23:09:06.643419Z",
     "start_time": "2022-05-07T23:09:06.634093Z"
    },
    "hidden": true
   },
   "outputs": [],
   "source": [
    "# create test train split\n",
    "# not going for validation\n",
    "from sklearn.model_selection import train_test_split\n",
    "\n",
    "X_train, X_test, y_train, y_test = train_test_split(X, y, test_size=0.2, random_state=0)"
   ]
  },
  {
   "cell_type": "markdown",
   "id": "87e6e506",
   "metadata": {},
   "source": [
    "## ANN for classification"
   ]
  },
  {
   "cell_type": "code",
   "execution_count": 7,
   "id": "c1a648c8",
   "metadata": {
    "ExecuteTime": {
     "end_time": "2022-05-07T23:09:06.825501Z",
     "start_time": "2022-05-07T23:09:06.644105Z"
    }
   },
   "outputs": [],
   "source": [
    "import numpy as np\n",
    "import jax as J"
   ]
  },
  {
   "cell_type": "markdown",
   "id": "aaf69701",
   "metadata": {},
   "source": [
    "This is going to be a 1-layer ANN."
   ]
  },
  {
   "cell_type": "code",
   "execution_count": 8,
   "id": "a02bb311",
   "metadata": {
    "ExecuteTime": {
     "end_time": "2022-05-07T23:09:06.828177Z",
     "start_time": "2022-05-07T23:09:06.826346Z"
    }
   },
   "outputs": [],
   "source": [
    "def init_params():\n",
    "    # 4 features\n",
    "    W = np.random.normal(size=(4, 3))\n",
    "    # 3 output classes\n",
    "    b = np.random.normal(size=(1, 3))\n",
    "    \n",
    "    return [W, b]"
   ]
  },
  {
   "cell_type": "code",
   "execution_count": 9,
   "id": "1fc0ca0a",
   "metadata": {
    "ExecuteTime": {
     "end_time": "2022-05-07T23:09:06.839786Z",
     "start_time": "2022-05-07T23:09:06.828798Z"
    }
   },
   "outputs": [],
   "source": [
    "params = init_params()"
   ]
  },
  {
   "cell_type": "code",
   "execution_count": 10,
   "id": "09f2c370",
   "metadata": {
    "ExecuteTime": {
     "end_time": "2022-05-07T23:09:06.843979Z",
     "start_time": "2022-05-07T23:09:06.841325Z"
    }
   },
   "outputs": [
    {
     "data": {
      "text/plain": [
       "[(4, 3), (1, 3)]"
      ]
     },
     "execution_count": 10,
     "metadata": {},
     "output_type": "execute_result"
    }
   ],
   "source": [
    "J.tree_map(lambda p: p.shape, params)"
   ]
  },
  {
   "cell_type": "code",
   "execution_count": 11,
   "id": "e72aa7d5",
   "metadata": {
    "ExecuteTime": {
     "end_time": "2022-05-07T23:09:07.310340Z",
     "start_time": "2022-05-07T23:09:06.844797Z"
    }
   },
   "outputs": [
    {
     "data": {
      "text/plain": [
       "DeviceArray([[0.01013626, 0.03795071, 0.95191306]], dtype=float32)"
      ]
     },
     "execution_count": 11,
     "metadata": {},
     "output_type": "execute_result"
    }
   ],
   "source": [
    "def forward(params, x):\n",
    "    W, b = params\n",
    "    \n",
    "    # affine transform\n",
    "    out = x @ W\n",
    "    out = out + b\n",
    "    \n",
    "    \n",
    "    # softmax\n",
    "    logits = J.nn.softmax(out) \n",
    "    \n",
    "    return logits\n",
    "\n",
    "# test\n",
    "forward(params, X_train[0])"
   ]
  },
  {
   "cell_type": "code",
   "execution_count": 12,
   "id": "74eb724b",
   "metadata": {
    "ExecuteTime": {
     "end_time": "2022-05-07T23:09:07.313135Z",
     "start_time": "2022-05-07T23:09:07.311174Z"
    }
   },
   "outputs": [],
   "source": [
    "# cross entropy loss\n",
    "def ce_loss(params, x, y):\n",
    "    logits = forward(params, x)\n",
    "\n",
    "    # since -ln(y_actual) is what we need\n",
    "    loss = -J.numpy.log(logits[0][y])\n",
    "    \n",
    "    return loss"
   ]
  },
  {
   "cell_type": "code",
   "execution_count": 13,
   "id": "d4f0dce4",
   "metadata": {
    "ExecuteTime": {
     "end_time": "2022-05-07T23:09:07.324859Z",
     "start_time": "2022-05-07T23:09:07.313965Z"
    }
   },
   "outputs": [],
   "source": [
    "# gradient descent\n",
    "@J.jit\n",
    "def update(params, x, y, lr=0.1):\n",
    "    grads = J.grad(ce_loss)(params, x, y)\n",
    "    return J.tree_map(\n",
    "        lambda p, g: p - lr * g, params, grads \n",
    "    )"
   ]
  },
  {
   "cell_type": "code",
   "execution_count": 14,
   "id": "5fda7cbe",
   "metadata": {
    "ExecuteTime": {
     "end_time": "2022-05-07T23:09:08.335982Z",
     "start_time": "2022-05-07T23:09:07.325564Z"
    }
   },
   "outputs": [
    {
     "name": "stderr",
     "output_type": "stream",
     "text": [
      "100%|██████████████████████████████████████████████████████████████████████████████████████████████████████| 100/100 [00:01<00:00, 99.58it/s]\n"
     ]
    }
   ],
   "source": [
    "from tqdm import tqdm as T\n",
    "\n",
    "# 100 epochs\n",
    "for e in T(range(100)):\n",
    "    for x, y in zip(X_train, y_train):\n",
    "        params = update(params, x, y)"
   ]
  },
  {
   "cell_type": "code",
   "execution_count": 15,
   "id": "c1b3a1c8",
   "metadata": {
    "ExecuteTime": {
     "end_time": "2022-05-07T23:09:08.338830Z",
     "start_time": "2022-05-07T23:09:08.336807Z"
    }
   },
   "outputs": [],
   "source": [
    "@J.jit\n",
    "def infer(params, x):\n",
    "    logits = forward(params, x)\n",
    "    # find the class (in this case index with max prob.)\n",
    "    y_pred = J.numpy.argmax(logits, axis=1)\n",
    "    return y_pred"
   ]
  },
  {
   "cell_type": "code",
   "execution_count": 16,
   "id": "63e0f481",
   "metadata": {
    "ExecuteTime": {
     "end_time": "2022-05-07T23:09:08.423476Z",
     "start_time": "2022-05-07T23:09:08.339545Z"
    }
   },
   "outputs": [],
   "source": [
    "preds = []\n",
    "for _, x in enumerate(X_test):\n",
    "    preds.append(infer(params, x))"
   ]
  },
  {
   "cell_type": "markdown",
   "id": "d28cffd6",
   "metadata": {},
   "source": [
    "## Evaluation"
   ]
  },
  {
   "cell_type": "code",
   "execution_count": 17,
   "id": "5c687d87",
   "metadata": {
    "ExecuteTime": {
     "end_time": "2022-05-07T23:09:08.429329Z",
     "start_time": "2022-05-07T23:09:08.424423Z"
    }
   },
   "outputs": [
    {
     "name": "stdout",
     "output_type": "stream",
     "text": [
      "              precision    recall  f1-score   support\n",
      "\n",
      "           0       1.00      1.00      1.00        11\n",
      "           1       0.93      1.00      0.96        13\n",
      "           2       1.00      0.83      0.91         6\n",
      "\n",
      "    accuracy                           0.97        30\n",
      "   macro avg       0.98      0.94      0.96        30\n",
      "weighted avg       0.97      0.97      0.97        30\n",
      "\n"
     ]
    }
   ],
   "source": [
    "from sklearn.metrics import classification_report\n",
    "\n",
    "print(classification_report(y_pred=preds, y_true=y_test))"
   ]
  }
 ],
 "metadata": {
  "kernelspec": {
   "display_name": "Python 3 (ipykernel)",
   "language": "python",
   "name": "python3"
  },
  "language_info": {
   "codemirror_mode": {
    "name": "ipython",
    "version": 3
   },
   "file_extension": ".py",
   "mimetype": "text/x-python",
   "name": "python",
   "nbconvert_exporter": "python",
   "pygments_lexer": "ipython3",
   "version": "3.10.4"
  },
  "latex_envs": {
   "LaTeX_envs_menu_present": true,
   "autoclose": false,
   "autocomplete": true,
   "bibliofile": "biblio.bib",
   "cite_by": "apalike",
   "current_citInitial": 1,
   "eqLabelWithNumbers": true,
   "eqNumInitial": 1,
   "hotkeys": {
    "equation": "Ctrl-E",
    "itemize": "Ctrl-I"
   },
   "labels_anchors": false,
   "latex_user_defs": false,
   "report_style_numbering": false,
   "user_envs_cfg": false
  },
  "toc": {
   "base_numbering": 1,
   "nav_menu": {},
   "number_sections": true,
   "sideBar": true,
   "skip_h1_title": false,
   "title_cell": "Table of Contents",
   "title_sidebar": "Contents",
   "toc_cell": false,
   "toc_position": {},
   "toc_section_display": true,
   "toc_window_display": false
  },
  "varInspector": {
   "cols": {
    "lenName": 16,
    "lenType": 16,
    "lenVar": 40
   },
   "kernels_config": {
    "python": {
     "delete_cmd_postfix": "",
     "delete_cmd_prefix": "del ",
     "library": "var_list.py",
     "varRefreshCmd": "print(var_dic_list())"
    },
    "r": {
     "delete_cmd_postfix": ") ",
     "delete_cmd_prefix": "rm(",
     "library": "var_list.r",
     "varRefreshCmd": "cat(var_dic_list()) "
    }
   },
   "types_to_exclude": [
    "module",
    "function",
    "builtin_function_or_method",
    "instance",
    "_Feature"
   ],
   "window_display": false
  }
 },
 "nbformat": 4,
 "nbformat_minor": 5
}
